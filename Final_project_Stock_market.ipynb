{
  "nbformat": 4,
  "nbformat_minor": 0,
  "metadata": {
    "colab": {
      "name": "Final_project_Stock_market.ipynb",
      "provenance": [],
      "collapsed_sections": [],
      "toc_visible": true,
      "authorship_tag": "ABX9TyMtNxssYhnSBNzw4O4HEWDU",
      "include_colab_link": true
    },
    "kernelspec": {
      "name": "python3",
      "display_name": "Python 3"
    },
    "language_info": {
      "name": "python"
    },
    "accelerator": "GPU"
  },
  "cells": [
    {
      "cell_type": "markdown",
      "metadata": {
        "id": "view-in-github",
        "colab_type": "text"
      },
      "source": [
        "<a href=\"https://colab.research.google.com/github/williamokomba/AICE-Artificial-Intelligence-Diploma/blob/main/Final_project_Stock_market.ipynb\" target=\"_parent\"><img src=\"https://colab.research.google.com/assets/colab-badge.svg\" alt=\"Open In Colab\"/></a>"
      ]
    },
    {
      "cell_type": "markdown",
      "source": [
        "## USA APPLE INC STOCK MARKET PREDICTION"
      ],
      "metadata": {
        "id": "udWxu6wuvTlS"
      }
    },
    {
      "cell_type": "code",
      "execution_count": 1,
      "metadata": {
        "id": "h3DnhQKQsYWy"
      },
      "outputs": [],
      "source": [
        "#installing the required packages\n",
        "\n",
        "#Upgrade pandas\n",
        "#!pip3 install --upgrade pandas\n",
        "\n",
        "#Install pandas datareader\n",
        "#!pip install pandas-datareader"
      ]
    },
    {
      "cell_type": "markdown",
      "source": [
        "### **1. Collecting the stock data (AAPL)**"
      ],
      "metadata": {
        "id": "AZo6B0OMLJiu"
      }
    },
    {
      "cell_type": "code",
      "source": [
        "#Data collection\n",
        "import pandas_datareader as pdr"
      ],
      "metadata": {
        "id": "p0NyienwxZFT"
      },
      "execution_count": 2,
      "outputs": []
    },
    {
      "cell_type": "code",
      "source": [
        "#Assigning the dataset key to a variable key\n",
        "key= \"2bc19e895a60ab8aecc6d8d450d5090e5f8dad79\""
      ],
      "metadata": {
        "id": "mKJ2ge1TxqUX"
      },
      "execution_count": 3,
      "outputs": []
    },
    {
      "cell_type": "code",
      "source": [
        "#Data collection\n",
        "data = pdr.get_data_tiingo(\"AAPL\", api_key=key)"
      ],
      "metadata": {
        "id": "nVweOqNGv2mH",
        "colab": {
          "base_uri": "https://localhost:8080/"
        },
        "outputId": "49fabe53-176b-4cc0-da5c-5bbca7b5e0eb"
      },
      "execution_count": 4,
      "outputs": [
        {
          "output_type": "stream",
          "name": "stderr",
          "text": [
            "/usr/local/lib/python3.7/dist-packages/pandas_datareader/tiingo.py:234: FutureWarning: In a future version of pandas all arguments of concat except for the argument 'objs' will be keyword-only\n",
            "  return pd.concat(dfs, self._concat_axis)\n"
          ]
        }
      ]
    },
    {
      "cell_type": "code",
      "source": [
        "#saving data to csv\n",
        "data.to_csv(\"AAPL.csv\")"
      ],
      "metadata": {
        "id": "G_bAGoLPx8fj"
      },
      "execution_count": 5,
      "outputs": []
    },
    {
      "cell_type": "code",
      "source": [
        "#Importing libraries\n",
        "import pandas as pd\n"
      ],
      "metadata": {
        "id": "kC3QvrSsyYIW"
      },
      "execution_count": 6,
      "outputs": []
    },
    {
      "cell_type": "code",
      "source": [
        "#lading and reading the dataset\n",
        "data1=pd.read_csv(\"/content/AAPL.csv\")"
      ],
      "metadata": {
        "id": "09ng3Kolygjr"
      },
      "execution_count": 7,
      "outputs": []
    },
    {
      "cell_type": "code",
      "source": [
        "#checking first 5 rows\n",
        "data1.head(3)"
      ],
      "metadata": {
        "id": "yklWlT3PyuW3",
        "colab": {
          "base_uri": "https://localhost:8080/",
          "height": 144
        },
        "outputId": "2403435f-882d-4120-d5fa-3ce1ceb97c99"
      },
      "execution_count": 8,
      "outputs": [
        {
          "output_type": "execute_result",
          "data": {
            "text/plain": [
              "  symbol                       date   close   high     low     open    volume  \\\n",
              "0   AAPL  2017-03-20 00:00:00+00:00  141.46  141.5  140.23  140.400  21542038   \n",
              "1   AAPL  2017-03-21 00:00:00+00:00  139.84  142.8  139.73  142.110  39529912   \n",
              "2   AAPL  2017-03-22 00:00:00+00:00  141.42  141.6  139.76  139.845  25860165   \n",
              "\n",
              "    adjClose    adjHigh     adjLow    adjOpen  adjVolume  divCash  splitFactor  \n",
              "0  33.385101  33.394541  33.094817  33.134937   86168152      0.0          1.0  \n",
              "1  33.002775  33.701346  32.976815  33.538504  158119648      0.0          1.0  \n",
              "2  33.375661  33.418142  32.983895  33.003955  103440660      0.0          1.0  "
            ],
            "text/html": [
              "\n",
              "  <div id=\"df-609ca651-4b44-4ddb-bfe2-e811b12285d3\">\n",
              "    <div class=\"colab-df-container\">\n",
              "      <div>\n",
              "<style scoped>\n",
              "    .dataframe tbody tr th:only-of-type {\n",
              "        vertical-align: middle;\n",
              "    }\n",
              "\n",
              "    .dataframe tbody tr th {\n",
              "        vertical-align: top;\n",
              "    }\n",
              "\n",
              "    .dataframe thead th {\n",
              "        text-align: right;\n",
              "    }\n",
              "</style>\n",
              "<table border=\"1\" class=\"dataframe\">\n",
              "  <thead>\n",
              "    <tr style=\"text-align: right;\">\n",
              "      <th></th>\n",
              "      <th>symbol</th>\n",
              "      <th>date</th>\n",
              "      <th>close</th>\n",
              "      <th>high</th>\n",
              "      <th>low</th>\n",
              "      <th>open</th>\n",
              "      <th>volume</th>\n",
              "      <th>adjClose</th>\n",
              "      <th>adjHigh</th>\n",
              "      <th>adjLow</th>\n",
              "      <th>adjOpen</th>\n",
              "      <th>adjVolume</th>\n",
              "      <th>divCash</th>\n",
              "      <th>splitFactor</th>\n",
              "    </tr>\n",
              "  </thead>\n",
              "  <tbody>\n",
              "    <tr>\n",
              "      <th>0</th>\n",
              "      <td>AAPL</td>\n",
              "      <td>2017-03-20 00:00:00+00:00</td>\n",
              "      <td>141.46</td>\n",
              "      <td>141.5</td>\n",
              "      <td>140.23</td>\n",
              "      <td>140.400</td>\n",
              "      <td>21542038</td>\n",
              "      <td>33.385101</td>\n",
              "      <td>33.394541</td>\n",
              "      <td>33.094817</td>\n",
              "      <td>33.134937</td>\n",
              "      <td>86168152</td>\n",
              "      <td>0.0</td>\n",
              "      <td>1.0</td>\n",
              "    </tr>\n",
              "    <tr>\n",
              "      <th>1</th>\n",
              "      <td>AAPL</td>\n",
              "      <td>2017-03-21 00:00:00+00:00</td>\n",
              "      <td>139.84</td>\n",
              "      <td>142.8</td>\n",
              "      <td>139.73</td>\n",
              "      <td>142.110</td>\n",
              "      <td>39529912</td>\n",
              "      <td>33.002775</td>\n",
              "      <td>33.701346</td>\n",
              "      <td>32.976815</td>\n",
              "      <td>33.538504</td>\n",
              "      <td>158119648</td>\n",
              "      <td>0.0</td>\n",
              "      <td>1.0</td>\n",
              "    </tr>\n",
              "    <tr>\n",
              "      <th>2</th>\n",
              "      <td>AAPL</td>\n",
              "      <td>2017-03-22 00:00:00+00:00</td>\n",
              "      <td>141.42</td>\n",
              "      <td>141.6</td>\n",
              "      <td>139.76</td>\n",
              "      <td>139.845</td>\n",
              "      <td>25860165</td>\n",
              "      <td>33.375661</td>\n",
              "      <td>33.418142</td>\n",
              "      <td>32.983895</td>\n",
              "      <td>33.003955</td>\n",
              "      <td>103440660</td>\n",
              "      <td>0.0</td>\n",
              "      <td>1.0</td>\n",
              "    </tr>\n",
              "  </tbody>\n",
              "</table>\n",
              "</div>\n",
              "      <button class=\"colab-df-convert\" onclick=\"convertToInteractive('df-609ca651-4b44-4ddb-bfe2-e811b12285d3')\"\n",
              "              title=\"Convert this dataframe to an interactive table.\"\n",
              "              style=\"display:none;\">\n",
              "        \n",
              "  <svg xmlns=\"http://www.w3.org/2000/svg\" height=\"24px\"viewBox=\"0 0 24 24\"\n",
              "       width=\"24px\">\n",
              "    <path d=\"M0 0h24v24H0V0z\" fill=\"none\"/>\n",
              "    <path d=\"M18.56 5.44l.94 2.06.94-2.06 2.06-.94-2.06-.94-.94-2.06-.94 2.06-2.06.94zm-11 1L8.5 8.5l.94-2.06 2.06-.94-2.06-.94L8.5 2.5l-.94 2.06-2.06.94zm10 10l.94 2.06.94-2.06 2.06-.94-2.06-.94-.94-2.06-.94 2.06-2.06.94z\"/><path d=\"M17.41 7.96l-1.37-1.37c-.4-.4-.92-.59-1.43-.59-.52 0-1.04.2-1.43.59L10.3 9.45l-7.72 7.72c-.78.78-.78 2.05 0 2.83L4 21.41c.39.39.9.59 1.41.59.51 0 1.02-.2 1.41-.59l7.78-7.78 2.81-2.81c.8-.78.8-2.07 0-2.86zM5.41 20L4 18.59l7.72-7.72 1.47 1.35L5.41 20z\"/>\n",
              "  </svg>\n",
              "      </button>\n",
              "      \n",
              "  <style>\n",
              "    .colab-df-container {\n",
              "      display:flex;\n",
              "      flex-wrap:wrap;\n",
              "      gap: 12px;\n",
              "    }\n",
              "\n",
              "    .colab-df-convert {\n",
              "      background-color: #E8F0FE;\n",
              "      border: none;\n",
              "      border-radius: 50%;\n",
              "      cursor: pointer;\n",
              "      display: none;\n",
              "      fill: #1967D2;\n",
              "      height: 32px;\n",
              "      padding: 0 0 0 0;\n",
              "      width: 32px;\n",
              "    }\n",
              "\n",
              "    .colab-df-convert:hover {\n",
              "      background-color: #E2EBFA;\n",
              "      box-shadow: 0px 1px 2px rgba(60, 64, 67, 0.3), 0px 1px 3px 1px rgba(60, 64, 67, 0.15);\n",
              "      fill: #174EA6;\n",
              "    }\n",
              "\n",
              "    [theme=dark] .colab-df-convert {\n",
              "      background-color: #3B4455;\n",
              "      fill: #D2E3FC;\n",
              "    }\n",
              "\n",
              "    [theme=dark] .colab-df-convert:hover {\n",
              "      background-color: #434B5C;\n",
              "      box-shadow: 0px 1px 3px 1px rgba(0, 0, 0, 0.15);\n",
              "      filter: drop-shadow(0px 1px 2px rgba(0, 0, 0, 0.3));\n",
              "      fill: #FFFFFF;\n",
              "    }\n",
              "  </style>\n",
              "\n",
              "      <script>\n",
              "        const buttonEl =\n",
              "          document.querySelector('#df-609ca651-4b44-4ddb-bfe2-e811b12285d3 button.colab-df-convert');\n",
              "        buttonEl.style.display =\n",
              "          google.colab.kernel.accessAllowed ? 'block' : 'none';\n",
              "\n",
              "        async function convertToInteractive(key) {\n",
              "          const element = document.querySelector('#df-609ca651-4b44-4ddb-bfe2-e811b12285d3');\n",
              "          const dataTable =\n",
              "            await google.colab.kernel.invokeFunction('convertToInteractive',\n",
              "                                                     [key], {});\n",
              "          if (!dataTable) return;\n",
              "\n",
              "          const docLinkHtml = 'Like what you see? Visit the ' +\n",
              "            '<a target=\"_blank\" href=https://colab.research.google.com/notebooks/data_table.ipynb>data table notebook</a>'\n",
              "            + ' to learn more about interactive tables.';\n",
              "          element.innerHTML = '';\n",
              "          dataTable['output_type'] = 'display_data';\n",
              "          await google.colab.output.renderOutput(dataTable, element);\n",
              "          const docLink = document.createElement('div');\n",
              "          docLink.innerHTML = docLinkHtml;\n",
              "          element.appendChild(docLink);\n",
              "        }\n",
              "      </script>\n",
              "    </div>\n",
              "  </div>\n",
              "  "
            ]
          },
          "metadata": {},
          "execution_count": 8
        }
      ]
    },
    {
      "cell_type": "code",
      "source": [
        "#checking the tail\n",
        "data1.tail()"
      ],
      "metadata": {
        "id": "AUCq58po0do4",
        "colab": {
          "base_uri": "https://localhost:8080/",
          "height": 206
        },
        "outputId": "e522de29-120f-453c-8f82-c8b5137a964f"
      },
      "execution_count": 10,
      "outputs": [
        {
          "output_type": "execute_result",
          "data": {
            "text/plain": [
              "     symbol                       date   close    high     low    open  \\\n",
              "1254   AAPL  2022-03-11 00:00:00+00:00  154.73  159.28  154.50  158.93   \n",
              "1255   AAPL  2022-03-14 00:00:00+00:00  150.62  154.12  150.10  151.45   \n",
              "1256   AAPL  2022-03-15 00:00:00+00:00  155.09  155.57  150.38  150.90   \n",
              "1257   AAPL  2022-03-16 00:00:00+00:00  159.59  160.00  154.46  157.05   \n",
              "1258   AAPL  2022-03-17 00:00:00+00:00  160.62  161.00  157.63  158.61   \n",
              "\n",
              "         volume  adjClose  adjHigh  adjLow  adjOpen  adjVolume  divCash  \\\n",
              "1254   96970102    154.73   159.28  154.50   158.93   96970102      0.0   \n",
              "1255  108732111    150.62   154.12  150.10   151.45  108732111      0.0   \n",
              "1256   92964302    155.09   155.57  150.38   150.90   92964302      0.0   \n",
              "1257  102300157    159.59   160.00  154.46   157.05  102300157      0.0   \n",
              "1258   75615376    160.62   161.00  157.63   158.61   75615376      0.0   \n",
              "\n",
              "      splitFactor  \n",
              "1254          1.0  \n",
              "1255          1.0  \n",
              "1256          1.0  \n",
              "1257          1.0  \n",
              "1258          1.0  "
            ],
            "text/html": [
              "\n",
              "  <div id=\"df-fd85ecb6-e911-4f06-af73-024d57a2fdd9\">\n",
              "    <div class=\"colab-df-container\">\n",
              "      <div>\n",
              "<style scoped>\n",
              "    .dataframe tbody tr th:only-of-type {\n",
              "        vertical-align: middle;\n",
              "    }\n",
              "\n",
              "    .dataframe tbody tr th {\n",
              "        vertical-align: top;\n",
              "    }\n",
              "\n",
              "    .dataframe thead th {\n",
              "        text-align: right;\n",
              "    }\n",
              "</style>\n",
              "<table border=\"1\" class=\"dataframe\">\n",
              "  <thead>\n",
              "    <tr style=\"text-align: right;\">\n",
              "      <th></th>\n",
              "      <th>symbol</th>\n",
              "      <th>date</th>\n",
              "      <th>close</th>\n",
              "      <th>high</th>\n",
              "      <th>low</th>\n",
              "      <th>open</th>\n",
              "      <th>volume</th>\n",
              "      <th>adjClose</th>\n",
              "      <th>adjHigh</th>\n",
              "      <th>adjLow</th>\n",
              "      <th>adjOpen</th>\n",
              "      <th>adjVolume</th>\n",
              "      <th>divCash</th>\n",
              "      <th>splitFactor</th>\n",
              "    </tr>\n",
              "  </thead>\n",
              "  <tbody>\n",
              "    <tr>\n",
              "      <th>1254</th>\n",
              "      <td>AAPL</td>\n",
              "      <td>2022-03-11 00:00:00+00:00</td>\n",
              "      <td>154.73</td>\n",
              "      <td>159.28</td>\n",
              "      <td>154.50</td>\n",
              "      <td>158.93</td>\n",
              "      <td>96970102</td>\n",
              "      <td>154.73</td>\n",
              "      <td>159.28</td>\n",
              "      <td>154.50</td>\n",
              "      <td>158.93</td>\n",
              "      <td>96970102</td>\n",
              "      <td>0.0</td>\n",
              "      <td>1.0</td>\n",
              "    </tr>\n",
              "    <tr>\n",
              "      <th>1255</th>\n",
              "      <td>AAPL</td>\n",
              "      <td>2022-03-14 00:00:00+00:00</td>\n",
              "      <td>150.62</td>\n",
              "      <td>154.12</td>\n",
              "      <td>150.10</td>\n",
              "      <td>151.45</td>\n",
              "      <td>108732111</td>\n",
              "      <td>150.62</td>\n",
              "      <td>154.12</td>\n",
              "      <td>150.10</td>\n",
              "      <td>151.45</td>\n",
              "      <td>108732111</td>\n",
              "      <td>0.0</td>\n",
              "      <td>1.0</td>\n",
              "    </tr>\n",
              "    <tr>\n",
              "      <th>1256</th>\n",
              "      <td>AAPL</td>\n",
              "      <td>2022-03-15 00:00:00+00:00</td>\n",
              "      <td>155.09</td>\n",
              "      <td>155.57</td>\n",
              "      <td>150.38</td>\n",
              "      <td>150.90</td>\n",
              "      <td>92964302</td>\n",
              "      <td>155.09</td>\n",
              "      <td>155.57</td>\n",
              "      <td>150.38</td>\n",
              "      <td>150.90</td>\n",
              "      <td>92964302</td>\n",
              "      <td>0.0</td>\n",
              "      <td>1.0</td>\n",
              "    </tr>\n",
              "    <tr>\n",
              "      <th>1257</th>\n",
              "      <td>AAPL</td>\n",
              "      <td>2022-03-16 00:00:00+00:00</td>\n",
              "      <td>159.59</td>\n",
              "      <td>160.00</td>\n",
              "      <td>154.46</td>\n",
              "      <td>157.05</td>\n",
              "      <td>102300157</td>\n",
              "      <td>159.59</td>\n",
              "      <td>160.00</td>\n",
              "      <td>154.46</td>\n",
              "      <td>157.05</td>\n",
              "      <td>102300157</td>\n",
              "      <td>0.0</td>\n",
              "      <td>1.0</td>\n",
              "    </tr>\n",
              "    <tr>\n",
              "      <th>1258</th>\n",
              "      <td>AAPL</td>\n",
              "      <td>2022-03-17 00:00:00+00:00</td>\n",
              "      <td>160.62</td>\n",
              "      <td>161.00</td>\n",
              "      <td>157.63</td>\n",
              "      <td>158.61</td>\n",
              "      <td>75615376</td>\n",
              "      <td>160.62</td>\n",
              "      <td>161.00</td>\n",
              "      <td>157.63</td>\n",
              "      <td>158.61</td>\n",
              "      <td>75615376</td>\n",
              "      <td>0.0</td>\n",
              "      <td>1.0</td>\n",
              "    </tr>\n",
              "  </tbody>\n",
              "</table>\n",
              "</div>\n",
              "      <button class=\"colab-df-convert\" onclick=\"convertToInteractive('df-fd85ecb6-e911-4f06-af73-024d57a2fdd9')\"\n",
              "              title=\"Convert this dataframe to an interactive table.\"\n",
              "              style=\"display:none;\">\n",
              "        \n",
              "  <svg xmlns=\"http://www.w3.org/2000/svg\" height=\"24px\"viewBox=\"0 0 24 24\"\n",
              "       width=\"24px\">\n",
              "    <path d=\"M0 0h24v24H0V0z\" fill=\"none\"/>\n",
              "    <path d=\"M18.56 5.44l.94 2.06.94-2.06 2.06-.94-2.06-.94-.94-2.06-.94 2.06-2.06.94zm-11 1L8.5 8.5l.94-2.06 2.06-.94-2.06-.94L8.5 2.5l-.94 2.06-2.06.94zm10 10l.94 2.06.94-2.06 2.06-.94-2.06-.94-.94-2.06-.94 2.06-2.06.94z\"/><path d=\"M17.41 7.96l-1.37-1.37c-.4-.4-.92-.59-1.43-.59-.52 0-1.04.2-1.43.59L10.3 9.45l-7.72 7.72c-.78.78-.78 2.05 0 2.83L4 21.41c.39.39.9.59 1.41.59.51 0 1.02-.2 1.41-.59l7.78-7.78 2.81-2.81c.8-.78.8-2.07 0-2.86zM5.41 20L4 18.59l7.72-7.72 1.47 1.35L5.41 20z\"/>\n",
              "  </svg>\n",
              "      </button>\n",
              "      \n",
              "  <style>\n",
              "    .colab-df-container {\n",
              "      display:flex;\n",
              "      flex-wrap:wrap;\n",
              "      gap: 12px;\n",
              "    }\n",
              "\n",
              "    .colab-df-convert {\n",
              "      background-color: #E8F0FE;\n",
              "      border: none;\n",
              "      border-radius: 50%;\n",
              "      cursor: pointer;\n",
              "      display: none;\n",
              "      fill: #1967D2;\n",
              "      height: 32px;\n",
              "      padding: 0 0 0 0;\n",
              "      width: 32px;\n",
              "    }\n",
              "\n",
              "    .colab-df-convert:hover {\n",
              "      background-color: #E2EBFA;\n",
              "      box-shadow: 0px 1px 2px rgba(60, 64, 67, 0.3), 0px 1px 3px 1px rgba(60, 64, 67, 0.15);\n",
              "      fill: #174EA6;\n",
              "    }\n",
              "\n",
              "    [theme=dark] .colab-df-convert {\n",
              "      background-color: #3B4455;\n",
              "      fill: #D2E3FC;\n",
              "    }\n",
              "\n",
              "    [theme=dark] .colab-df-convert:hover {\n",
              "      background-color: #434B5C;\n",
              "      box-shadow: 0px 1px 3px 1px rgba(0, 0, 0, 0.15);\n",
              "      filter: drop-shadow(0px 1px 2px rgba(0, 0, 0, 0.3));\n",
              "      fill: #FFFFFF;\n",
              "    }\n",
              "  </style>\n",
              "\n",
              "      <script>\n",
              "        const buttonEl =\n",
              "          document.querySelector('#df-fd85ecb6-e911-4f06-af73-024d57a2fdd9 button.colab-df-convert');\n",
              "        buttonEl.style.display =\n",
              "          google.colab.kernel.accessAllowed ? 'block' : 'none';\n",
              "\n",
              "        async function convertToInteractive(key) {\n",
              "          const element = document.querySelector('#df-fd85ecb6-e911-4f06-af73-024d57a2fdd9');\n",
              "          const dataTable =\n",
              "            await google.colab.kernel.invokeFunction('convertToInteractive',\n",
              "                                                     [key], {});\n",
              "          if (!dataTable) return;\n",
              "\n",
              "          const docLinkHtml = 'Like what you see? Visit the ' +\n",
              "            '<a target=\"_blank\" href=https://colab.research.google.com/notebooks/data_table.ipynb>data table notebook</a>'\n",
              "            + ' to learn more about interactive tables.';\n",
              "          element.innerHTML = '';\n",
              "          dataTable['output_type'] = 'display_data';\n",
              "          await google.colab.output.renderOutput(dataTable, element);\n",
              "          const docLink = document.createElement('div');\n",
              "          docLink.innerHTML = docLinkHtml;\n",
              "          element.appendChild(docLink);\n",
              "        }\n",
              "      </script>\n",
              "    </div>\n",
              "  </div>\n",
              "  "
            ]
          },
          "metadata": {},
          "execution_count": 10
        }
      ]
    },
    {
      "cell_type": "code",
      "source": [
        "#cheking the shape\n",
        "data1.shape"
      ],
      "metadata": {
        "id": "ZCIJmNEr2NFS",
        "colab": {
          "base_uri": "https://localhost:8080/"
        },
        "outputId": "0a83cc47-0e7e-49f7-fe31-8b86940cc043"
      },
      "execution_count": 11,
      "outputs": [
        {
          "output_type": "execute_result",
          "data": {
            "text/plain": [
              "(1259, 14)"
            ]
          },
          "metadata": {},
          "execution_count": 11
        }
      ]
    },
    {
      "cell_type": "code",
      "source": [
        "#checking the datatype\n",
        "data1.info()"
      ],
      "metadata": {
        "id": "9kcP3K7j1a5o",
        "colab": {
          "base_uri": "https://localhost:8080/"
        },
        "outputId": "8bcc6f7a-4f90-4f52-ef9a-fdb4a0e92ff4"
      },
      "execution_count": 12,
      "outputs": [
        {
          "output_type": "stream",
          "name": "stdout",
          "text": [
            "<class 'pandas.core.frame.DataFrame'>\n",
            "RangeIndex: 1259 entries, 0 to 1258\n",
            "Data columns (total 14 columns):\n",
            " #   Column       Non-Null Count  Dtype  \n",
            "---  ------       --------------  -----  \n",
            " 0   symbol       1259 non-null   object \n",
            " 1   date         1259 non-null   object \n",
            " 2   close        1259 non-null   float64\n",
            " 3   high         1259 non-null   float64\n",
            " 4   low          1259 non-null   float64\n",
            " 5   open         1259 non-null   float64\n",
            " 6   volume       1259 non-null   int64  \n",
            " 7   adjClose     1259 non-null   float64\n",
            " 8   adjHigh      1259 non-null   float64\n",
            " 9   adjLow       1259 non-null   float64\n",
            " 10  adjOpen      1259 non-null   float64\n",
            " 11  adjVolume    1259 non-null   int64  \n",
            " 12  divCash      1259 non-null   float64\n",
            " 13  splitFactor  1259 non-null   float64\n",
            "dtypes: float64(10), int64(2), object(2)\n",
            "memory usage: 137.8+ KB\n"
          ]
        }
      ]
    },
    {
      "cell_type": "code",
      "source": [
        "#stock prediction using closing price\n",
        "data2=data1.reset_index()[\"close\"]\n",
        "data2.shape"
      ],
      "metadata": {
        "id": "dHD2za9BzkkH",
        "colab": {
          "base_uri": "https://localhost:8080/"
        },
        "outputId": "cca4c027-b591-450b-8c70-bc0c0bcf8bc7"
      },
      "execution_count": 13,
      "outputs": [
        {
          "output_type": "execute_result",
          "data": {
            "text/plain": [
              "(1259,)"
            ]
          },
          "metadata": {},
          "execution_count": 13
        }
      ]
    },
    {
      "cell_type": "code",
      "source": [
        "#checking data2\n",
        "data2"
      ],
      "metadata": {
        "id": "c9D0qA9b3Lo1",
        "colab": {
          "base_uri": "https://localhost:8080/"
        },
        "outputId": "9fe2d740-81b4-4f87-8b4a-69a2aed346b2"
      },
      "execution_count": 14,
      "outputs": [
        {
          "output_type": "execute_result",
          "data": {
            "text/plain": [
              "0       141.46\n",
              "1       139.84\n",
              "2       141.42\n",
              "3       140.92\n",
              "4       140.64\n",
              "         ...  \n",
              "1254    154.73\n",
              "1255    150.62\n",
              "1256    155.09\n",
              "1257    159.59\n",
              "1258    160.62\n",
              "Name: close, Length: 1259, dtype: float64"
            ]
          },
          "metadata": {},
          "execution_count": 14
        }
      ]
    },
    {
      "cell_type": "code",
      "source": [
        "import matplotlib.pyplot as plt\n",
        "from matplotlib.pyplot import figure\n",
        "figure(figsize=(15, 5), dpi=80)\n",
        "plt.plot(data2);"
      ],
      "metadata": {
        "id": "lf0aWqSL2XVn",
        "colab": {
          "base_uri": "https://localhost:8080/",
          "height": 352
        },
        "outputId": "603e833c-1d80-48a4-c01b-85818d863497"
      },
      "execution_count": 15,
      "outputs": [
        {
          "output_type": "display_data",
          "data": {
            "text/plain": [
              "<Figure size 1200x400 with 1 Axes>"
            ],
            "image/png": "[encoded data removed]"
          },
          "metadata": {
            "needs_background": "light"
          }
        }
      ]
    },
    {
      "cell_type": "markdown",
      "source": [
        "### **2. Preocessing the Data- Train and Test data**\n",
        "\n",
        "LSTM are sensitive to the scale of the date. so we apply MinMax scaler\n"
      ],
      "metadata": {
        "id": "K3rABi7K4Ppv"
      }
    },
    {
      "cell_type": "code",
      "source": [
        "#import numpy library \n",
        "import numpy as np"
      ],
      "metadata": {
        "id": "ESD8e92R4k6e"
      },
      "execution_count": 16,
      "outputs": []
    },
    {
      "cell_type": "code",
      "source": [
        "#imprting MinMax scaler\n",
        "from sklearn.preprocessing import MinMaxScaler"
      ],
      "metadata": {
        "id": "4qitZMz46Ead"
      },
      "execution_count": 17,
      "outputs": []
    },
    {
      "cell_type": "code",
      "source": [
        "#scaling the data\n",
        "scaler=MinMaxScaler(feature_range=(0,1))\n",
        "data2=scaler.fit_transform(np.array(data2).reshape(-1,1))"
      ],
      "metadata": {
        "id": "3iRhIhH44sYZ"
      },
      "execution_count": 18,
      "outputs": []
    },
    {
      "cell_type": "code",
      "source": [
        "data2.shape"
      ],
      "metadata": {
        "id": "3G8m1I-Z7GBv",
        "colab": {
          "base_uri": "https://localhost:8080/"
        },
        "outputId": "ff4d5c0b-c86c-474a-f437-2197336ffa22"
      },
      "execution_count": 19,
      "outputs": [
        {
          "output_type": "execute_result",
          "data": {
            "text/plain": [
              "(1259, 1)"
            ]
          },
          "metadata": {},
          "execution_count": 19
        }
      ]
    },
    {
      "cell_type": "markdown",
      "source": [
        "In regression/classification we devide data into train and test data using random seed or cross validation.\n",
        "\n",
        "However, in time series the current value depend on previous values(sequence data). In this case we can split based on dates"
      ],
      "metadata": {
        "id": "pD4sLAMiMQPK"
      }
    },
    {
      "cell_type": "code",
      "source": [
        "#splitting dataset into train and test split\n",
        "\n",
        "training_size= int(len(data2)*0.65)\n",
        "test_size = len(data)- training_size\n",
        "train_data, test_data= data2[0:training_size, :], data2[training_size:len(data2),:1]"
      ],
      "metadata": {
        "id": "8IBCmPLJ8AC-"
      },
      "execution_count": 20,
      "outputs": []
    },
    {
      "cell_type": "code",
      "source": [
        "#checking the size\n",
        "training_size, test_size"
      ],
      "metadata": {
        "id": "Iw6azxdD-zB0",
        "colab": {
          "base_uri": "https://localhost:8080/"
        },
        "outputId": "a27c283e-0b9b-4506-fc37-2383d3b3fb53"
      },
      "execution_count": 21,
      "outputs": [
        {
          "output_type": "execute_result",
          "data": {
            "text/plain": [
              "(818, 441)"
            ]
          },
          "metadata": {},
          "execution_count": 21
        }
      ]
    },
    {
      "cell_type": "code",
      "source": [
        "import numpy\n",
        "#Data preprocessing\n",
        "# inroducing the time stamp\n",
        "#convert an array of values into  a dataset matrix\n",
        "def create_dataset(dataset, time_step=1):\n",
        "    dataX, dataY=[],[]\n",
        "    for i in range(len(dataset)-time_step-1):\n",
        "        a = dataset [i:(i+time_step), 0] ## i =0,1,2,3----99    \n",
        "        dataX.append(a)\n",
        "        dataY.append(dataset[i+time_step, 0])\n",
        "    return numpy.array(dataX), numpy.array(dataY)\n"
      ],
      "metadata": {
        "id": "jfrABNYk-_1u"
      },
      "execution_count": 22,
      "outputs": []
    },
    {
      "cell_type": "code",
      "source": [
        "#Reshape into X=t, t+1, t+3, and Y=t+4\n",
        "time_step = 100\n",
        "X_train, y_train = create_dataset(train_data, time_step)\n",
        "X_test, y_test = create_dataset(test_data, time_step)"
      ],
      "metadata": {
        "id": "xBCHQo4IDTuP"
      },
      "execution_count": 23,
      "outputs": []
    },
    {
      "cell_type": "code",
      "source": [
        "#checking Xtrain \n",
        "print(X_train)"
      ],
      "metadata": {
        "id": "FzxKd8j4FCae",
        "colab": {
          "base_uri": "https://localhost:8080/"
        },
        "outputId": "1ffe2327-e581-42bf-9de0-901262f8b7fd"
      },
      "execution_count": 24,
      "outputs": [
        {
          "output_type": "stream",
          "name": "stdout",
          "text": [
            "[[0.08671259 0.08265498 0.0866124  ... 0.13016907 0.13335003 0.13580463]\n",
            " [0.08265498 0.0866124  0.08536005 ... 0.13335003 0.13580463 0.12142768]\n",
            " [0.0866124  0.08536005 0.08465874 ... 0.13580463 0.12142768 0.12683782]\n",
            " ...\n",
            " [0.52530996 0.52814026 0.53197245 ... 0.59398873 0.61615529 0.57372574]\n",
            " [0.52814026 0.53197245 0.52966813 ... 0.61615529 0.57372574 0.58098936]\n",
            " [0.53197245 0.52966813 0.50622417 ... 0.57372574 0.58098936 0.59148403]]\n"
          ]
        }
      ]
    },
    {
      "cell_type": "code",
      "source": [
        "#checking train data\n",
        "print(X_train.shape), print(y_train.shape)"
      ],
      "metadata": {
        "id": "pll3mj1AFOee",
        "colab": {
          "base_uri": "https://localhost:8080/"
        },
        "outputId": "57fb31d1-446e-49ac-9f76-dd84b9d6fc56"
      },
      "execution_count": 25,
      "outputs": [
        {
          "output_type": "stream",
          "name": "stdout",
          "text": [
            "(717, 100)\n",
            "(717,)\n"
          ]
        },
        {
          "output_type": "execute_result",
          "data": {
            "text/plain": [
              "(None, None)"
            ]
          },
          "metadata": {},
          "execution_count": 25
        }
      ]
    },
    {
      "cell_type": "code",
      "source": [
        "#checking test data\n",
        "print(X_test.shape), print(y_test.shape)"
      ],
      "metadata": {
        "id": "4SgOtm4nGcTY",
        "colab": {
          "base_uri": "https://localhost:8080/"
        },
        "outputId": "6d247376-4298-49d2-a1a6-5e32678a5a44"
      },
      "execution_count": 26,
      "outputs": [
        {
          "output_type": "stream",
          "name": "stdout",
          "text": [
            "(340, 100)\n",
            "(340,)\n"
          ]
        },
        {
          "output_type": "execute_result",
          "data": {
            "text/plain": [
              "(None, None)"
            ]
          },
          "metadata": {},
          "execution_count": 26
        }
      ]
    },
    {
      "cell_type": "code",
      "source": [
        "#reshape input to be [sample, time_step, features] which is required by LSTM (3D array....use of 1)\n",
        "\n",
        "X_train= X_train.reshape(X_train.shape[0], X_train.shape[1], 1) \n",
        "X_test = X_test.reshape(X_test.shape[0],X_test.shape[1], 1)"
      ],
      "metadata": {
        "id": "Ui146bRxGqap"
      },
      "execution_count": 27,
      "outputs": []
    },
    {
      "cell_type": "markdown",
      "source": [
        "### **3. Creating stacked LSTM model**"
      ],
      "metadata": {
        "id": "iqHFcx0xMlgj"
      }
    },
    {
      "cell_type": "code",
      "source": [
        "#installing tensorflow\n",
        "#!pip install tensorflow\n",
        "#\n",
        "#importing the keras library\n",
        "import tensorflow as tf\n",
        "from tensorflow import keras\n",
        "from tensorflow.keras.layers import Dense\n",
        "from tensorflow.keras.models import Sequential\n",
        "from tensorflow.keras.layers import LSTM\n"
      ],
      "metadata": {
        "id": "_hS1lHp7LdyJ"
      },
      "execution_count": 28,
      "outputs": []
    },
    {
      "cell_type": "code",
      "source": [
        "#checking tensorflow version\n",
        "tf.__version__"
      ],
      "metadata": {
        "colab": {
          "base_uri": "https://localhost:8080/",
          "height": 34
        },
        "id": "rSwalcM2JUxn",
        "outputId": "491042b2-cb10-409c-fbfd-c90123327a43"
      },
      "execution_count": 29,
      "outputs": [
        {
          "output_type": "execute_result",
          "data": {
            "text/plain": [
              "'2.8.0'"
            ],
            "application/vnd.google.colaboratory.intrinsic+json": {
              "type": "string"
            }
          },
          "metadata": {},
          "execution_count": 29
        }
      ]
    },
    {
      "cell_type": "code",
      "source": [
        "#create stacked LSTM model\n",
        "model = Sequential()\n",
        "model.add(LSTM(50, return_sequences=True, input_shape=(100,1)))\n",
        "model.add(LSTM(50, return_sequences=True))\n",
        "model.add(LSTM(50))\n",
        "model.add(Dense(1))\n",
        "model.compile(loss=\"mean_squared_error\", optimizer=\"adam\")\n"
      ],
      "metadata": {
        "id": "fnkLxXp5H5L2"
      },
      "execution_count": 30,
      "outputs": []
    },
    {
      "cell_type": "code",
      "source": [
        "model.summary()"
      ],
      "metadata": {
        "id": "3yWcK118Lw_I",
        "colab": {
          "base_uri": "https://localhost:8080/"
        },
        "outputId": "dd6291cc-af22-4422-deb7-333f01975cbf"
      },
      "execution_count": 31,
      "outputs": [
        {
          "output_type": "stream",
          "name": "stdout",
          "text": [
            "Model: \"sequential\"\n",
            "_________________________________________________________________\n",
            " Layer (type)                Output Shape              Param #   \n",
            "=================================================================\n",
            " lstm (LSTM)                 (None, 100, 50)           10400     \n",
            "                                                                 \n",
            " lstm_1 (LSTM)               (None, 100, 50)           20200     \n",
            "                                                                 \n",
            " lstm_2 (LSTM)               (None, 50)                20200     \n",
            "                                                                 \n",
            " dense (Dense)               (None, 1)                 51        \n",
            "                                                                 \n",
            "=================================================================\n",
            "Total params: 50,851\n",
            "Trainable params: 50,851\n",
            "Non-trainable params: 0\n",
            "_________________________________________________________________\n"
          ]
        }
      ]
    },
    {
      "cell_type": "code",
      "source": [
        "model.fit(X_train, y_train, validation_data=(X_test, y_test), epochs=100, batch_size=64, verbose=1)"
      ],
      "metadata": {
        "id": "XuW81a6PklJ6",
        "colab": {
          "base_uri": "https://localhost:8080/"
        },
        "outputId": "9bc18cd5-d2e3-49fc-8d16-13120df0034b"
      },
      "execution_count": 32,
      "outputs": [
        {
          "output_type": "stream",
          "name": "stdout",
          "text": [
            "Epoch 1/100\n",
            "12/12 [==============================] - 12s 204ms/step - loss: 0.0152 - val_loss: 0.0012\n",
            "Epoch 2/100\n",
            "12/12 [==============================] - 1s 86ms/step - loss: 0.0039 - val_loss: 0.0020\n",
            "Epoch 3/100\n",
            "12/12 [==============================] - 1s 85ms/step - loss: 0.0017 - val_loss: 7.7419e-04\n",
            "Epoch 4/100\n",
            "12/12 [==============================] - 1s 85ms/step - loss: 0.0011 - val_loss: 2.6045e-04\n",
            "Epoch 5/100\n",
            "12/12 [==============================] - 1s 85ms/step - loss: 0.0011 - val_loss: 3.1634e-04\n",
            "Epoch 6/100\n",
            "12/12 [==============================] - 1s 86ms/step - loss: 0.0010 - val_loss: 2.9158e-04\n",
            "Epoch 7/100\n",
            "12/12 [==============================] - 1s 85ms/step - loss: 9.0445e-04 - val_loss: 2.9580e-04\n",
            "Epoch 8/100\n",
            "12/12 [==============================] - 1s 85ms/step - loss: 8.6838e-04 - val_loss: 3.1417e-04\n",
            "Epoch 9/100\n",
            "12/12 [==============================] - 1s 85ms/step - loss: 8.3303e-04 - val_loss: 2.2731e-04\n",
            "Epoch 10/100\n",
            "12/12 [==============================] - 1s 86ms/step - loss: 7.4613e-04 - val_loss: 3.1939e-04\n",
            "Epoch 11/100\n",
            "12/12 [==============================] - 1s 87ms/step - loss: 7.7919e-04 - val_loss: 2.0105e-04\n",
            "Epoch 12/100\n",
            "12/12 [==============================] - 1s 87ms/step - loss: 6.7005e-04 - val_loss: 1.9182e-04\n",
            "Epoch 13/100\n",
            "12/12 [==============================] - 1s 85ms/step - loss: 6.6264e-04 - val_loss: 3.2973e-04\n",
            "Epoch 14/100\n",
            "12/12 [==============================] - 1s 85ms/step - loss: 6.2809e-04 - val_loss: 1.9305e-04\n",
            "Epoch 15/100\n",
            "12/12 [==============================] - 1s 86ms/step - loss: 5.5960e-04 - val_loss: 1.8442e-04\n",
            "Epoch 16/100\n",
            "12/12 [==============================] - 1s 86ms/step - loss: 5.3423e-04 - val_loss: 1.8622e-04\n",
            "Epoch 17/100\n",
            "12/12 [==============================] - 1s 85ms/step - loss: 5.0078e-04 - val_loss: 1.9124e-04\n",
            "Epoch 18/100\n",
            "12/12 [==============================] - 1s 85ms/step - loss: 5.1147e-04 - val_loss: 2.0517e-04\n",
            "Epoch 19/100\n",
            "12/12 [==============================] - 1s 86ms/step - loss: 5.3166e-04 - val_loss: 2.0056e-04\n",
            "Epoch 20/100\n",
            "12/12 [==============================] - 1s 86ms/step - loss: 4.9703e-04 - val_loss: 1.7900e-04\n",
            "Epoch 21/100\n",
            "12/12 [==============================] - 1s 85ms/step - loss: 4.9424e-04 - val_loss: 1.8032e-04\n",
            "Epoch 22/100\n",
            "12/12 [==============================] - 1s 85ms/step - loss: 4.4441e-04 - val_loss: 1.7692e-04\n",
            "Epoch 23/100\n",
            "12/12 [==============================] - 1s 85ms/step - loss: 4.4357e-04 - val_loss: 1.7136e-04\n",
            "Epoch 24/100\n",
            "12/12 [==============================] - 1s 98ms/step - loss: 4.6480e-04 - val_loss: 1.8372e-04\n",
            "Epoch 25/100\n",
            "12/12 [==============================] - 1s 86ms/step - loss: 4.9761e-04 - val_loss: 1.6641e-04\n",
            "Epoch 26/100\n",
            "12/12 [==============================] - 1s 86ms/step - loss: 4.7298e-04 - val_loss: 1.9978e-04\n",
            "Epoch 27/100\n",
            "12/12 [==============================] - 1s 85ms/step - loss: 4.4448e-04 - val_loss: 1.5523e-04\n",
            "Epoch 28/100\n",
            "12/12 [==============================] - 1s 86ms/step - loss: 4.3153e-04 - val_loss: 1.5671e-04\n",
            "Epoch 29/100\n",
            "12/12 [==============================] - 1s 86ms/step - loss: 4.0760e-04 - val_loss: 1.5402e-04\n",
            "Epoch 30/100\n",
            "12/12 [==============================] - 1s 86ms/step - loss: 5.0078e-04 - val_loss: 1.8315e-04\n",
            "Epoch 31/100\n",
            "12/12 [==============================] - 1s 85ms/step - loss: 4.4375e-04 - val_loss: 1.6519e-04\n",
            "Epoch 32/100\n",
            "12/12 [==============================] - 1s 85ms/step - loss: 4.2613e-04 - val_loss: 1.9380e-04\n",
            "Epoch 33/100\n",
            "12/12 [==============================] - 1s 85ms/step - loss: 4.1007e-04 - val_loss: 1.5036e-04\n",
            "Epoch 34/100\n",
            "12/12 [==============================] - 1s 86ms/step - loss: 4.0081e-04 - val_loss: 1.6063e-04\n",
            "Epoch 35/100\n",
            "12/12 [==============================] - 1s 87ms/step - loss: 4.1382e-04 - val_loss: 1.8144e-04\n",
            "Epoch 36/100\n",
            "12/12 [==============================] - 1s 86ms/step - loss: 4.7490e-04 - val_loss: 1.6530e-04\n",
            "Epoch 37/100\n",
            "12/12 [==============================] - 1s 87ms/step - loss: 3.9383e-04 - val_loss: 1.7350e-04\n",
            "Epoch 38/100\n",
            "12/12 [==============================] - 1s 86ms/step - loss: 4.1067e-04 - val_loss: 1.5502e-04\n",
            "Epoch 39/100\n",
            "12/12 [==============================] - 1s 86ms/step - loss: 4.3943e-04 - val_loss: 1.6660e-04\n",
            "Epoch 40/100\n",
            "12/12 [==============================] - 1s 84ms/step - loss: 4.0204e-04 - val_loss: 1.8435e-04\n",
            "Epoch 41/100\n",
            "12/12 [==============================] - 1s 84ms/step - loss: 4.3073e-04 - val_loss: 1.9499e-04\n",
            "Epoch 42/100\n",
            "12/12 [==============================] - 1s 85ms/step - loss: 3.8094e-04 - val_loss: 1.4607e-04\n",
            "Epoch 43/100\n",
            "12/12 [==============================] - 1s 86ms/step - loss: 3.7675e-04 - val_loss: 2.2691e-04\n",
            "Epoch 44/100\n",
            "12/12 [==============================] - 1s 86ms/step - loss: 4.5703e-04 - val_loss: 1.8620e-04\n",
            "Epoch 45/100\n",
            "12/12 [==============================] - 1s 85ms/step - loss: 3.7491e-04 - val_loss: 1.5684e-04\n",
            "Epoch 46/100\n",
            "12/12 [==============================] - 1s 85ms/step - loss: 3.8926e-04 - val_loss: 1.4222e-04\n",
            "Epoch 47/100\n",
            "12/12 [==============================] - 1s 86ms/step - loss: 3.9330e-04 - val_loss: 1.5661e-04\n",
            "Epoch 48/100\n",
            "12/12 [==============================] - 1s 84ms/step - loss: 3.6689e-04 - val_loss: 1.4959e-04\n",
            "Epoch 49/100\n",
            "12/12 [==============================] - 1s 85ms/step - loss: 3.6677e-04 - val_loss: 1.5549e-04\n",
            "Epoch 50/100\n",
            "12/12 [==============================] - 1s 85ms/step - loss: 3.9967e-04 - val_loss: 1.8013e-04\n",
            "Epoch 51/100\n",
            "12/12 [==============================] - 1s 86ms/step - loss: 3.8331e-04 - val_loss: 1.7590e-04\n",
            "Epoch 52/100\n",
            "12/12 [==============================] - 1s 85ms/step - loss: 3.9517e-04 - val_loss: 1.4059e-04\n",
            "Epoch 53/100\n",
            "12/12 [==============================] - 1s 85ms/step - loss: 4.3097e-04 - val_loss: 2.0843e-04\n",
            "Epoch 54/100\n",
            "12/12 [==============================] - 1s 85ms/step - loss: 4.1250e-04 - val_loss: 1.5887e-04\n",
            "Epoch 55/100\n",
            "12/12 [==============================] - 1s 86ms/step - loss: 3.5506e-04 - val_loss: 1.3597e-04\n",
            "Epoch 56/100\n",
            "12/12 [==============================] - 1s 84ms/step - loss: 3.6650e-04 - val_loss: 1.5363e-04\n",
            "Epoch 57/100\n",
            "12/12 [==============================] - 1s 86ms/step - loss: 3.8380e-04 - val_loss: 1.9873e-04\n",
            "Epoch 58/100\n",
            "12/12 [==============================] - 1s 84ms/step - loss: 4.3047e-04 - val_loss: 1.5522e-04\n",
            "Epoch 59/100\n",
            "12/12 [==============================] - 1s 85ms/step - loss: 3.6844e-04 - val_loss: 1.8134e-04\n",
            "Epoch 60/100\n",
            "12/12 [==============================] - 1s 85ms/step - loss: 3.5354e-04 - val_loss: 2.0496e-04\n",
            "Epoch 61/100\n",
            "12/12 [==============================] - 1s 85ms/step - loss: 4.1170e-04 - val_loss: 1.4953e-04\n",
            "Epoch 62/100\n",
            "12/12 [==============================] - 1s 85ms/step - loss: 4.1985e-04 - val_loss: 1.3127e-04\n",
            "Epoch 63/100\n",
            "12/12 [==============================] - 1s 86ms/step - loss: 4.0159e-04 - val_loss: 1.7035e-04\n",
            "Epoch 64/100\n",
            "12/12 [==============================] - 1s 86ms/step - loss: 3.3798e-04 - val_loss: 1.6794e-04\n",
            "Epoch 65/100\n",
            "12/12 [==============================] - 1s 96ms/step - loss: 3.4667e-04 - val_loss: 1.3086e-04\n",
            "Epoch 66/100\n",
            "12/12 [==============================] - 1s 99ms/step - loss: 3.6106e-04 - val_loss: 1.4316e-04\n",
            "Epoch 67/100\n",
            "12/12 [==============================] - 1s 86ms/step - loss: 3.2152e-04 - val_loss: 1.5573e-04\n",
            "Epoch 68/100\n",
            "12/12 [==============================] - 1s 84ms/step - loss: 3.3378e-04 - val_loss: 1.4919e-04\n",
            "Epoch 69/100\n",
            "12/12 [==============================] - 1s 84ms/step - loss: 3.3480e-04 - val_loss: 1.3023e-04\n",
            "Epoch 70/100\n",
            "12/12 [==============================] - 1s 85ms/step - loss: 3.7558e-04 - val_loss: 1.9391e-04\n",
            "Epoch 71/100\n",
            "12/12 [==============================] - 1s 85ms/step - loss: 3.2210e-04 - val_loss: 1.3571e-04\n",
            "Epoch 72/100\n",
            "12/12 [==============================] - 1s 86ms/step - loss: 3.3150e-04 - val_loss: 1.8804e-04\n",
            "Epoch 73/100\n",
            "12/12 [==============================] - 1s 86ms/step - loss: 3.2002e-04 - val_loss: 1.3221e-04\n",
            "Epoch 74/100\n",
            "12/12 [==============================] - 1s 84ms/step - loss: 3.1423e-04 - val_loss: 1.2336e-04\n",
            "Epoch 75/100\n",
            "12/12 [==============================] - 1s 85ms/step - loss: 3.1976e-04 - val_loss: 2.6011e-04\n",
            "Epoch 76/100\n",
            "12/12 [==============================] - 1s 86ms/step - loss: 3.4518e-04 - val_loss: 1.3652e-04\n",
            "Epoch 77/100\n",
            "12/12 [==============================] - 1s 85ms/step - loss: 3.0950e-04 - val_loss: 1.4181e-04\n",
            "Epoch 78/100\n",
            "12/12 [==============================] - 1s 85ms/step - loss: 3.2972e-04 - val_loss: 1.3222e-04\n",
            "Epoch 79/100\n",
            "12/12 [==============================] - 1s 85ms/step - loss: 3.4974e-04 - val_loss: 1.1859e-04\n",
            "Epoch 80/100\n",
            "12/12 [==============================] - 1s 85ms/step - loss: 3.0829e-04 - val_loss: 1.8749e-04\n",
            "Epoch 81/100\n",
            "12/12 [==============================] - 1s 85ms/step - loss: 3.1265e-04 - val_loss: 1.1746e-04\n",
            "Epoch 82/100\n",
            "12/12 [==============================] - 1s 86ms/step - loss: 3.4358e-04 - val_loss: 1.4742e-04\n",
            "Epoch 83/100\n",
            "12/12 [==============================] - 1s 86ms/step - loss: 4.1364e-04 - val_loss: 3.0528e-04\n",
            "Epoch 84/100\n",
            "12/12 [==============================] - 1s 86ms/step - loss: 3.4036e-04 - val_loss: 1.3065e-04\n",
            "Epoch 85/100\n",
            "12/12 [==============================] - 1s 86ms/step - loss: 2.9890e-04 - val_loss: 1.5377e-04\n",
            "Epoch 86/100\n",
            "12/12 [==============================] - 1s 87ms/step - loss: 3.3094e-04 - val_loss: 1.2944e-04\n",
            "Epoch 87/100\n",
            "12/12 [==============================] - 1s 85ms/step - loss: 3.0301e-04 - val_loss: 1.3636e-04\n",
            "Epoch 88/100\n",
            "12/12 [==============================] - 1s 84ms/step - loss: 3.2021e-04 - val_loss: 1.2041e-04\n",
            "Epoch 89/100\n",
            "12/12 [==============================] - 1s 85ms/step - loss: 3.0805e-04 - val_loss: 1.7946e-04\n",
            "Epoch 90/100\n",
            "12/12 [==============================] - 1s 84ms/step - loss: 3.1267e-04 - val_loss: 1.1234e-04\n",
            "Epoch 91/100\n",
            "12/12 [==============================] - 1s 85ms/step - loss: 3.4670e-04 - val_loss: 1.1424e-04\n",
            "Epoch 92/100\n",
            "12/12 [==============================] - 1s 85ms/step - loss: 3.0185e-04 - val_loss: 1.3762e-04\n",
            "Epoch 93/100\n",
            "12/12 [==============================] - 1s 86ms/step - loss: 3.0559e-04 - val_loss: 1.1336e-04\n",
            "Epoch 94/100\n",
            "12/12 [==============================] - 1s 85ms/step - loss: 3.3385e-04 - val_loss: 1.1132e-04\n",
            "Epoch 95/100\n",
            "12/12 [==============================] - 1s 85ms/step - loss: 3.7494e-04 - val_loss: 1.3541e-04\n",
            "Epoch 96/100\n",
            "12/12 [==============================] - 1s 85ms/step - loss: 2.9756e-04 - val_loss: 1.6182e-04\n",
            "Epoch 97/100\n",
            "12/12 [==============================] - 1s 84ms/step - loss: 3.6439e-04 - val_loss: 1.2385e-04\n",
            "Epoch 98/100\n",
            "12/12 [==============================] - 1s 84ms/step - loss: 3.4347e-04 - val_loss: 1.3366e-04\n",
            "Epoch 99/100\n",
            "12/12 [==============================] - 1s 86ms/step - loss: 2.9065e-04 - val_loss: 1.1712e-04\n",
            "Epoch 100/100\n",
            "12/12 [==============================] - 1s 84ms/step - loss: 2.9453e-04 - val_loss: 1.0905e-04\n"
          ]
        },
        {
          "output_type": "execute_result",
          "data": {
            "text/plain": [
              "<keras.callbacks.History at 0x7f629019ebd0>"
            ]
          },
          "metadata": {},
          "execution_count": 32
        }
      ]
    },
    {
      "cell_type": "markdown",
      "source": [
        "### **4. Predict the test data and plot the output**"
      ],
      "metadata": {
        "id": "Ao_GEqxKJ-FR"
      }
    },
    {
      "cell_type": "code",
      "source": [
        "#predicting and checking the performance metrics\n",
        "\n",
        "train_predict= model.predict(X_train)\n",
        "test_predict= model.predict(X_test)\n",
        "\n"
      ],
      "metadata": {
        "id": "2WBFUt4MHWGi"
      },
      "execution_count": 33,
      "outputs": []
    },
    {
      "cell_type": "code",
      "source": [
        "#transform back to original form\n",
        "\n",
        "train_predict= scaler.inverse_transform(train_predict)\n",
        "test_predict= scaler.inverse_transform(test_predict)"
      ],
      "metadata": {
        "id": "J9ORZDMBOAfo"
      },
      "execution_count": 34,
      "outputs": []
    },
    {
      "cell_type": "code",
      "source": [
        "## Calculating the RMSE performance metrics\n",
        "\n",
        "import math\n",
        "from sklearn.metrics import mean_squared_error\n",
        "\n",
        "math.sqrt(mean_squared_error(y_train, train_predict))"
      ],
      "metadata": {
        "colab": {
          "base_uri": "https://localhost:8080/"
        },
        "id": "1ip4n1vQOaYb",
        "outputId": "2ae0c2ef-a81d-4d18-b4f8-f047d86c3891"
      },
      "execution_count": 35,
      "outputs": [
        {
          "output_type": "execute_result",
          "data": {
            "text/plain": [
              "213.9571802402619"
            ]
          },
          "metadata": {},
          "execution_count": 35
        }
      ]
    },
    {
      "cell_type": "code",
      "source": [
        "#Test Data RMSE\n",
        "math.sqrt(mean_squared_error(y_test, test_predict))"
      ],
      "metadata": {
        "colab": {
          "base_uri": "https://localhost:8080/"
        },
        "id": "VCctetSpO18I",
        "outputId": "5ba66b61-ee6c-4dfb-df6b-4926605a2a25"
      },
      "execution_count": 36,
      "outputs": [
        {
          "output_type": "execute_result",
          "data": {
            "text/plain": [
              "144.56228273019667"
            ]
          },
          "metadata": {},
          "execution_count": 36
        }
      ]
    },
    {
      "cell_type": "code",
      "source": [
        "# plotting\n",
        "#shift train prediction for plotting\n",
        "look_back =100\n",
        "train_predictplot = numpy.empty_like(data2)\n",
        "train_predictplot[:, :] = np.nan\n",
        "train_predictplot[look_back:len(train_predict) + look_back, :] = train_predict\n",
        "#shift test predict for plotting\n",
        "test_predictplot = numpy.empty_like(data2)\n",
        "test_predictplot[:, :] = np.nan\n",
        "test_predictplot[look_back:len(test_predict) + look_back, :] = test_predict\n",
        "\n",
        "#plot baseline and prediction\n",
        "figure(figsize=(15, 5), dpi=80)\n",
        "plt.plot(scaler.inverse_transform(data2))\n",
        "plt.plot(train_predictplot)\n",
        "plt.plot(test_predictplot);\n"
      ],
      "metadata": {
        "colab": {
          "base_uri": "https://localhost:8080/",
          "height": 352
        },
        "id": "1bcn4y5EQPWO",
        "outputId": "3197391b-7142-4a7f-9bac-1ced29af90d4"
      },
      "execution_count": 37,
      "outputs": [
        {
          "output_type": "display_data",
          "data": {
            "text/plain": [
              "<Figure size 1200x400 with 1 Axes>"
            ],
            "image/png": "[encoded data removed]"
          },
          "metadata": {
            "needs_background": "light"
          }
        }
      ]
    },
    {
      "cell_type": "markdown",
      "source": [
        "Observation: blue is the all the dataset\n",
        "green is the training dataset\n",
        "\n",
        "yellow is the test dataset\n"
      ],
      "metadata": {
        "id": "crjuBesmeEDm"
      }
    },
    {
      "cell_type": "markdown",
      "source": [
        "### **5. Predicting the future 30 days and plotting the output**"
      ],
      "metadata": {
        "id": "11J6nT89fiwS"
      }
    },
    {
      "cell_type": "code",
      "source": [
        "#checking the shape of the test data\n",
        "len(test_data)"
      ],
      "metadata": {
        "colab": {
          "base_uri": "https://localhost:8080/"
        },
        "id": "hPgFqZr1fiTM",
        "outputId": "fabbae32-6d18-4635-ad6d-ebf11101af07"
      },
      "execution_count": 38,
      "outputs": [
        {
          "output_type": "execute_result",
          "data": {
            "text/plain": [
              "441"
            ]
          },
          "metadata": {},
          "execution_count": 38
        }
      ]
    },
    {
      "cell_type": "markdown",
      "source": [
        "To predict 10 days, we will take 100 data from the previus data_test_data. therefore the test data will remain with 341 data(441-100)"
      ],
      "metadata": {
        "id": "rWba8gfWgRSf"
      }
    },
    {
      "cell_type": "code",
      "source": [
        "#creating the data to use\n",
        "x_input= test_data[341:].reshape(1,-1)\n",
        "x_input.shape"
      ],
      "metadata": {
        "colab": {
          "base_uri": "https://localhost:8080/"
        },
        "id": "V3lcPX8ShIQK",
        "outputId": "f8616104-d8d1-4b0a-c675-dffa83778a4a"
      },
      "execution_count": 39,
      "outputs": [
        {
          "output_type": "execute_result",
          "data": {
            "text/plain": [
              "(1, 100)"
            ]
          },
          "metadata": {},
          "execution_count": 39
        }
      ]
    },
    {
      "cell_type": "code",
      "source": [
        "#converting the above into a list\n",
        "temp_input= list(x_input)\n",
        "temp_list=temp_input[0].tolist()\n",
        "\n",
        "#checking the 100 value\n",
        "temp_input"
      ],
      "metadata": {
        "colab": {
          "base_uri": "https://localhost:8080/"
        },
        "id": "6gZo9hEeiE_t",
        "outputId": "d307542f-fdcf-4ec3-cc76-97e802f97e07"
      },
      "execution_count": 40,
      "outputs": [
        {
          "output_type": "execute_result",
          "data": {
            "text/plain": [
              "[array([0.10469631, 0.1063995 , 0.10522229, 0.11453976, 0.10760175,\n",
              "        0.10549781, 0.10815279, 0.11183469, 0.1105072 , 0.1113087 ,\n",
              "        0.10920476, 0.1101315 , 0.10289292, 0.10276769, 0.10807765,\n",
              "        0.10810269, 0.11060739, 0.11684408, 0.12781465, 0.13452724,\n",
              "        0.13570445, 0.13668128, 0.13800877, 0.12515967, 0.13375078,\n",
              "        0.14642455, 0.14509706, 0.14256731, 0.1377583 , 0.14647464,\n",
              "        0.16115216, 0.17092048, 0.16961803, 0.181866  , 0.17257358,\n",
              "        0.16904195, 0.18149029, 0.16385723, 0.16105197, 0.15757044,\n",
              "        0.16568566, 0.17232311, 0.17392611, 0.18407013, 0.18146525,\n",
              "        0.18169067, 0.17873513, 0.17715717, 0.18827802, 0.18249217,\n",
              "        0.17051972, 0.16320601, 0.16363181, 0.1636819 , 0.17092048,\n",
              "        0.17204759, 0.1636819 , 0.16588604, 0.15769568, 0.14875391,\n",
              "        0.14444584, 0.13918597, 0.13720726, 0.13259862, 0.1323732 ,\n",
              "        0.13119599, 0.15902317, 0.17016907, 0.16974327, 0.17282405,\n",
              "        0.16546024, 0.16418284, 0.16235441, 0.1702943 , 0.17392611,\n",
              "        0.16350657, 0.15479023, 0.15539136, 0.16518472, 0.16458359,\n",
              "        0.15539136, 0.15143394, 0.14396994, 0.13332498, 0.14001252,\n",
              "        0.14529743, 0.1459737 , 0.14116468, 0.14958046, 0.14875391,\n",
              "        0.14108954, 0.13139637, 0.12673763, 0.14053851, 0.12944271,\n",
              "        0.11994991, 0.1096556 , 0.1208516 , 0.13212273, 0.13470257])]"
            ]
          },
          "metadata": {},
          "execution_count": 40
        }
      ]
    },
    {
      "cell_type": "code",
      "source": [
        "#creating an argument with conditions\n",
        "\n",
        "#predicting next 10 days\n",
        "from numpy import array\n",
        "\n",
        "lst_output =[]\n",
        "n_steps=100\n",
        "i=0\n",
        "while(i<30):\n",
        "    if(len(temp_input)>100):\n",
        "        #print(temp_input)\n",
        "        x_input= np.array(temp_input[1:])\n",
        "        print(\"{} day output {}\".format(i,x_input))\n",
        "        x_input=x_input.reshape(1,-1)\n",
        "        x_input=x_input.reshape((1,n_steps, 1))\n",
        "        #print(X_input)\n",
        "        yhat=model.predict(x_input,verbose=0)\n",
        "        print(\"{} day output {}\".format(i,yhat))\n",
        "        temp_input.extend(yhat[0].tolist())\n",
        "        temp_input=temp_input[i:]\n",
        "        #print (temp_input)\n",
        "        lst_output.extend(yhat.tolist())\n",
        "        i=i+1\n",
        "    else:\n",
        "        x_input=x_input.reshape((1,n_steps,1))\n",
        "        yhat=model.predict(x_input,verbose=0)\n",
        "        print(yhat[0])\n",
        "        temp_input.extend(yhat[0].tolist())\n",
        "        print(len(temp_input))\n",
        "        lst_output.extend(yhat.tolist())\n",
        "        i=i+1\n",
        "print(lst_output)\n",
        "\n",
        "\n"
      ],
      "metadata": {
        "colab": {
          "base_uri": "https://localhost:8080/"
        },
        "id": "tgcym-YXjwiB",
        "outputId": "82ab6834-88da-44d3-8462-28f74f31c20a"
      },
      "execution_count": 41,
      "outputs": [
        {
          "output_type": "stream",
          "name": "stdout",
          "text": [
            "[0.12594438]\n",
            "2\n",
            "[0.12594438]\n",
            "3\n",
            "[0.12594438]\n",
            "4\n",
            "[0.12594438]\n",
            "5\n",
            "[0.12594438]\n",
            "6\n",
            "[0.12594438]\n",
            "7\n",
            "[0.12594438]\n",
            "8\n",
            "[0.12594438]\n",
            "9\n",
            "[0.12594438]\n",
            "10\n",
            "[0.12594438]\n",
            "11\n",
            "[0.12594438]\n",
            "12\n",
            "[0.12594438]\n",
            "13\n",
            "[0.12594438]\n",
            "14\n",
            "[0.12594438]\n",
            "15\n",
            "[0.12594438]\n",
            "16\n",
            "[0.12594438]\n",
            "17\n",
            "[0.12594438]\n",
            "18\n",
            "[0.12594438]\n",
            "19\n",
            "[0.12594438]\n",
            "20\n",
            "[0.12594438]\n",
            "21\n",
            "[0.12594438]\n",
            "22\n",
            "[0.12594438]\n",
            "23\n",
            "[0.12594438]\n",
            "24\n",
            "[0.12594438]\n",
            "25\n",
            "[0.12594438]\n",
            "26\n",
            "[0.12594438]\n",
            "27\n",
            "[0.12594438]\n",
            "28\n",
            "[0.12594438]\n",
            "29\n",
            "[0.12594438]\n",
            "30\n",
            "[0.12594438]\n",
            "31\n",
            "[[0.1259443759918213], [0.1259443759918213], [0.1259443759918213], [0.1259443759918213], [0.1259443759918213], [0.1259443759918213], [0.1259443759918213], [0.1259443759918213], [0.1259443759918213], [0.1259443759918213], [0.1259443759918213], [0.1259443759918213], [0.1259443759918213], [0.1259443759918213], [0.1259443759918213], [0.1259443759918213], [0.1259443759918213], [0.1259443759918213], [0.1259443759918213], [0.1259443759918213], [0.1259443759918213], [0.1259443759918213], [0.1259443759918213], [0.1259443759918213], [0.1259443759918213], [0.1259443759918213], [0.1259443759918213], [0.1259443759918213], [0.1259443759918213], [0.1259443759918213]]\n"
          ]
        }
      ]
    },
    {
      "cell_type": "code",
      "source": [
        "day_new=np.arange(1,101)## for step\n",
        "day_pred=np.arange(100,130)# for 30 days"
      ],
      "metadata": {
        "id": "PX2kJkx_q-Cs"
      },
      "execution_count": 42,
      "outputs": []
    },
    {
      "cell_type": "code",
      "source": [
        "#checking the prvious data\n",
        "len(data2)"
      ],
      "metadata": {
        "colab": {
          "base_uri": "https://localhost:8080/"
        },
        "id": "tzyHKCbVskp_",
        "outputId": "8b7ff81e-fc32-412c-a297-575171b91262"
      },
      "execution_count": 43,
      "outputs": [
        {
          "output_type": "execute_result",
          "data": {
            "text/plain": [
              "1259"
            ]
          },
          "metadata": {},
          "execution_count": 43
        }
      ]
    },
    {
      "cell_type": "code",
      "source": [
        "#plotting\n",
        "figure(figsize=(15, 5), dpi=80)\n",
        "plt.plot(day_new, scaler.inverse_transform(data2[1159:]))# this is the value of data2-100(1259-100)\n",
        "plt.plot(day_pred, scaler.inverse_transform(lst_output));"
      ],
      "metadata": {
        "colab": {
          "base_uri": "https://localhost:8080/",
          "height": 352
        },
        "id": "dBq3h-O9tBql",
        "outputId": "2b4c3702-cc78-40e9-d50b-5ffc32af637c"
      },
      "execution_count": 44,
      "outputs": [
        {
          "output_type": "display_data",
          "data": {
            "text/plain": [
              "<Figure size 1200x400 with 1 Axes>"
            ],
            "image/png": "[encoded data removed]"
          },
          "metadata": {
            "needs_background": "light"
          }
        }
      ]
    },
    {
      "cell_type": "code",
      "source": [
        "figure(figsize=(15, 5), dpi=80)\n",
        "plt.plot(data2[1000:]);"
      ],
      "metadata": {
        "colab": {
          "base_uri": "https://localhost:8080/",
          "height": 352
        },
        "id": "FxYvt4xavUHQ",
        "outputId": "46e4bcb8-1de6-4dcf-c93c-20137f13d068"
      },
      "execution_count": 45,
      "outputs": [
        {
          "output_type": "display_data",
          "data": {
            "text/plain": [
              "<Figure size 1200x400 with 1 Axes>"
            ],
            "image/png": "[encoded data removed]"
          },
          "metadata": {
            "needs_background": "light"
          }
        }
      ]
    },
    {
      "cell_type": "code",
      "source": [
        "figure(figsize=(15, 5))\n",
        "data3= data2.tolist()\n",
        "data3.extend(lst_output)\n",
        "plt.plot(data3[1050:]);"
      ],
      "metadata": {
        "colab": {
          "base_uri": "https://localhost:8080/",
          "height": 320
        },
        "id": "fE0sYNyIv56s",
        "outputId": "2dc3b67e-618e-41cd-fdf8-37d76d59ed67"
      },
      "execution_count": 46,
      "outputs": [
        {
          "output_type": "display_data",
          "data": {
            "text/plain": [
              "<Figure size 1080x360 with 1 Axes>"
            ],
            "image/png": "[encoded data removed]"
          },
          "metadata": {
            "needs_background": "light"
          }
        }
      ]
    }
  ]
}