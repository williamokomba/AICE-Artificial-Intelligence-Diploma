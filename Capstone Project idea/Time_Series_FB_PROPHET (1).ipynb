{
  "nbformat": 4,
  "nbformat_minor": 0,
  "metadata": {
    "colab": {
      "name": "Time_Series_FB_PROPHET.ipynb",
      "private_outputs": true,
      "provenance": [],
      "collapsed_sections": []
    },
    "kernelspec": {
      "name": "python3",
      "display_name": "Python 3"
    },
    "language_info": {
      "name": "python"
    }
  },
  "cells": [
    {
      "cell_type": "markdown",
      "source": [
        "**Time Series focasting using FB PROPHET LIBRARY**"
      ],
      "metadata": {
        "id": "_hiaLtTAE0TP"
      }
    },
    {
      "cell_type": "code",
      "execution_count": null,
      "metadata": {
        "id": "LdpgnWwLEvv7"
      },
      "outputs": [],
      "source": [
        "#installing the package\n",
        "#!pip install fbprophet # this is the model package  to be used\n",
        "#!pip install pystan\n",
        "#!pip install yfinance # for loading the dataset to be used. data can be loaded normally thus no need to install this package."
      ]
    },
    {
      "cell_type": "code",
      "source": [
        "#load libraries\n",
        "import pandas as pd\n",
        "import matplotlib.pyplot as plt\n",
        "import datetime as datetime\n",
        "import fbprophet\n",
        "%matplotlib inline\n",
        "import yfinance as yf"
      ],
      "metadata": {
        "id": "PKVPsfQCF_1C"
      },
      "execution_count": null,
      "outputs": []
    },
    {
      "cell_type": "code",
      "source": [
        "#read time series data from Yahoo Finance by yfinance\n",
        "HSI = yf.Ticker(\"^HSI\") \n",
        "start = datetime.datetime(2015,1,1)\n",
        "end = datetime.datetime(2021,9,5)\n",
        "hist = HSI.history(start=start, end=end, auto_adjust=True)\n",
        "hist\n",
        "#if import data via url: \n",
        "url=\"https://query1.finance.yahoo.com/v7/finance/download/^HSI?period1=1420066800&period2=1622437200&interval=1d&events=history&crumb=tO1hNZoUQeQ\"  \n"
      ],
      "metadata": {
        "id": "c1AEEMH7Golm"
      },
      "execution_count": null,
      "outputs": []
    },
    {
      "cell_type": "code",
      "source": [
        "data=pd.read_csv(url)\n",
        "data[:5]"
      ],
      "metadata": {
        "id": "DUEmx5hQHW9W"
      },
      "execution_count": null,
      "outputs": []
    },
    {
      "cell_type": "code",
      "source": [
        "data.tail()"
      ],
      "metadata": {
        "id": "bS1QotHpJbOk"
      },
      "execution_count": null,
      "outputs": []
    },
    {
      "cell_type": "code",
      "source": [
        "#checking for null values\n",
        "data.isna().sum()"
      ],
      "metadata": {
        "id": "hWeD4xxyKBU-"
      },
      "execution_count": null,
      "outputs": []
    },
    {
      "cell_type": "code",
      "source": [
        "data[\"Close\"].plot();"
      ],
      "metadata": {
        "id": "76V8CkhbKXgg"
      },
      "execution_count": null,
      "outputs": []
    },
    {
      "cell_type": "code",
      "source": [
        "data.dropna(inplace=True)\n",
        "data.isnull().sum()"
      ],
      "metadata": {
        "id": "cWeQ2ZZLKo7n"
      },
      "execution_count": null,
      "outputs": []
    },
    {
      "cell_type": "markdown",
      "source": [
        "### For fbprophet to work, it require renaming of the column i.e ds for date and y for target variable"
      ],
      "metadata": {
        "id": "w4r2YxCzL1Al"
      }
    },
    {
      "cell_type": "code",
      "source": [
        "#show the data table in Date, Stock Price (Close)\n",
        "data_df= data[[\"Date\", \"Close\"]]\n",
        "data_df.head()"
      ],
      "metadata": {
        "id": "ps6yYYagLlqG"
      },
      "execution_count": null,
      "outputs": []
    },
    {
      "cell_type": "code",
      "source": [
        "#renaming columns ds and y as required by the fbprophet.\n",
        "data_df.columns=[\"ds\", \"y\"]\n",
        "data_df.head()"
      ],
      "metadata": {
        "id": "2Yj2FCZSOPz9"
      },
      "execution_count": null,
      "outputs": []
    },
    {
      "cell_type": "code",
      "source": [
        "#changing date/ds to datetime\n",
        "from datetime import datetime\n",
        "data_df[\"ds\"] = pd.to_datetime(data_df[\"ds\"])\n"
      ],
      "metadata": {
        "id": "_6R4t2kMO2lh"
      },
      "execution_count": null,
      "outputs": []
    },
    {
      "cell_type": "code",
      "source": [
        "data_df.info()"
      ],
      "metadata": {
        "id": "kYAIqIYSPsqH"
      },
      "execution_count": null,
      "outputs": []
    },
    {
      "cell_type": "code",
      "source": [
        "#importing prophet\n",
        "\n",
        "from fbprophet import Prophet\n"
      ],
      "metadata": {
        "id": "2wJ5YokMQJI-"
      },
      "execution_count": null,
      "outputs": []
    },
    {
      "cell_type": "code",
      "source": [
        "#checking the function in the prophet package\n",
        "\n",
        "dir(Prophet)"
      ],
      "metadata": {
        "id": "xc6Gy3OdQuaf"
      },
      "execution_count": null,
      "outputs": []
    },
    {
      "cell_type": "markdown",
      "source": [
        "## Modeling"
      ],
      "metadata": {
        "id": "IjalGzVbRFc7"
      }
    },
    {
      "cell_type": "code",
      "source": [
        "#Initializing the model\n",
        "\n",
        "model=Prophet()"
      ],
      "metadata": {
        "id": "L2aWRdcAQ9Uu"
      },
      "execution_count": null,
      "outputs": []
    },
    {
      "cell_type": "code",
      "source": [
        "#fitting the model\n",
        "model.fit(data_df)"
      ],
      "metadata": {
        "id": "sXecj3rfRWrG"
      },
      "execution_count": null,
      "outputs": []
    },
    {
      "cell_type": "code",
      "source": [
        "#checking on which seasonality the model was build on\n",
        "model.component_modes"
      ],
      "metadata": {
        "id": "EGCzI0xPRyGH"
      },
      "execution_count": null,
      "outputs": []
    },
    {
      "cell_type": "code",
      "source": [
        "#creating future 365 dates to focast\n",
        "\n",
        "future_dates= model.make_future_dataframe(periods=365)\n",
        "\n",
        "#checking \n",
        "future_dates.tail()\n",
        "\n"
      ],
      "metadata": {
        "id": "0A3hAPyxSPe0"
      },
      "execution_count": null,
      "outputs": []
    },
    {
      "cell_type": "code",
      "source": [
        "#making predictions on future dates\n",
        "pred= model.predict(future_dates)\n",
        "pred.tail()"
      ],
      "metadata": {
        "id": "SnduCh_eTVe7"
      },
      "execution_count": null,
      "outputs": []
    },
    {
      "cell_type": "code",
      "source": [
        "#plotting the prediction\n",
        "visualize_model=model.plot(pred)## assign the model to avoid plotting the visual in double"
      ],
      "metadata": {
        "id": "t36NupptUn7t"
      },
      "execution_count": null,
      "outputs": []
    },
    {
      "cell_type": "markdown",
      "source": [
        "Observation: \n",
        "* The dotted line are the real data.\n",
        "* Dark Blue line, are the projections\n",
        "* light blue are the trend space.\n",
        "\n",
        "* The point without real data are the future prediction for the next one year."
      ],
      "metadata": {
        "id": "oxp1fw7gU94u"
      }
    },
    {
      "cell_type": "code",
      "source": [
        "#we can predict confidence interval only\n",
        "pred.columns"
      ],
      "metadata": {
        "id": "ibmjemqoxOcJ"
      },
      "execution_count": null,
      "outputs": []
    },
    {
      "cell_type": "code",
      "source": [
        "#specifying the column needed\n",
        "focasting= pred[['ds', 'yhat_lower','yhat_upper', 'yhat' ]]\n",
        "visualize_model=model.plot(focasting);"
      ],
      "metadata": {
        "id": "0QCSS7g9xjnP"
      },
      "execution_count": null,
      "outputs": []
    },
    {
      "cell_type": "code",
      "source": [
        "#checking trend and weekly. monthly and yearly prediction\n",
        "\n",
        "model.plot_components(pred);"
      ],
      "metadata": {
        "id": "Lon9X118U9M2"
      },
      "execution_count": null,
      "outputs": []
    },
    {
      "cell_type": "markdown",
      "source": [
        "### Cross Validation\n",
        "\n",
        "in time series, the data is sequential and thus cross validation is done differently.\n",
        "\n",
        "In above case where our data is frm 2015 to 2021, we can take;\n",
        " 2015-2020 data as our training dataset\n",
        " 2020-2021 data as our test data\n",
        " 2021-2022 is  validation dataset.. completely new dataset used for prediction.\n",
        " "
      ],
      "metadata": {
        "id": "4KhZUg0hXCk0"
      }
    },
    {
      "cell_type": "code",
      "source": [
        "#show all the forecasting values in a table\n",
        "import pandas as pd\n",
        "pd.set_option(\"display.max_rows\", None)\n",
        "pd.set_option(\"display.max_columns\", None)\n",
        "pred[[\"ds\", \"yhat\", \"yhat_lower\", \"yhat_upper\"]][:10]"
      ],
      "metadata": {
        "id": "uRJSUnjBh55C"
      },
      "execution_count": null,
      "outputs": []
    },
    {
      "cell_type": "code",
      "source": [
        "#we can use fpprophet cross validation inbuild function\n",
        "\n",
        "from fbprophet.diagnostics import cross_validation\n",
        "\n",
        "data_cv = cross_validation(model, initial=\"730 days\", period=\"180 days\", horizon=\"365 days\")\n",
        "data_cv.head()"
      ],
      "metadata": {
        "id": "Dnt7_jFOYXze"
      },
      "execution_count": null,
      "outputs": []
    },
    {
      "cell_type": "code",
      "source": [
        "#cheking the tail\n",
        "data_cv.tail()"
      ],
      "metadata": {
        "id": "i2T_R_Z0bOgc"
      },
      "execution_count": null,
      "outputs": []
    },
    {
      "cell_type": "markdown",
      "source": [
        "Observation: \n",
        "* initial days= today number of days we want (2*horizon days)\n",
        "* period= half of the the horizon days (horizon/2)# u can give a better nearest number.\n",
        "* horizon= total number of days to be predicted\n",
        "\n",
        "\n",
        "the output is ds, yhat, yhat_lower, yhat_upper, y and cutoff.\n"
      ],
      "metadata": {
        "id": "2lT3aon5ZQR4"
      }
    },
    {
      "cell_type": "code",
      "source": [
        "#show all the forecasting and predicted forecasted values in a table\n",
        "import pandas as pd\n",
        "pd.set_option(\"display.max_rows\", None)\n",
        "pd.set_option(\"display.max_columns\", None)\n",
        "data_cv[[\"ds\", \"y\", \"yhat\"]]. head(20)"
      ],
      "metadata": {
        "id": "BbMvvhaqkvWR"
      },
      "execution_count": null,
      "outputs": []
    },
    {
      "cell_type": "code",
      "source": [
        "#checking perfomance metrics\n",
        "from fbprophet.diagnostics import performance_metrics\n",
        "\n",
        "data_p = performance_metrics(data_cv)\n",
        "data_p.head()"
      ],
      "metadata": {
        "id": "Ke3veI5KbiAV"
      },
      "execution_count": null,
      "outputs": []
    },
    {
      "cell_type": "markdown",
      "source": [
        "observation: perfomance metrics is computed on y column and yhat columns"
      ],
      "metadata": {
        "id": "vftHGHFAcqL6"
      }
    },
    {
      "cell_type": "code",
      "source": [
        "#we can plot the above metrics\n",
        "from fbprophet.plot import plot_cross_validation_metric\n",
        "fig= plot_cross_validation_metric(data_cv, metric='mse');"
      ],
      "metadata": {
        "id": "bpSZ75cQdRP_"
      },
      "execution_count": null,
      "outputs": []
    },
    {
      "cell_type": "markdown",
      "source": [
        "**observation**: this is the preditions of the future dates."
      ],
      "metadata": {
        "id": "CaUTkXBK7nET"
      }
    },
    {
      "cell_type": "code",
      "source": [
        ""
      ],
      "metadata": {
        "id": "SJ9ZXWEdfUGJ"
      },
      "execution_count": null,
      "outputs": []
    }
  ]
}