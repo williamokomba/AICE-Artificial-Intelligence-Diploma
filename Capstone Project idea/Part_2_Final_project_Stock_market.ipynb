{
  "nbformat": 4,
  "nbformat_minor": 0,
  "metadata": {
    "colab": {
      "name": "Part 2 Final_project_Stock_market.ipynb",
      "provenance": [],
      "collapsed_sections": []
    },
    "kernelspec": {
      "name": "python3",
      "display_name": "Python 3"
    },
    "language_info": {
      "name": "python"
    },
    "accelerator": "GPU"
  },
  "cells": [
    {
      "cell_type": "markdown",
      "source": [
        "## USA APPLE INC STOCK MARKET PREDICTION"
      ],
      "metadata": {
        "id": "udWxu6wuvTlS"
      }
    },
    {
      "cell_type": "code",
      "execution_count": 3,
      "metadata": {
        "id": "h3DnhQKQsYWy"
      },
      "outputs": [],
      "source": [
        "#installing the required packages\n",
        "\n",
        "#Upgrade pandas\n",
        "#!pip3 install --upgrade pandas\n",
        "\n",
        "#Install pandas datareader\n",
        "#!pip install pandas-datareader"
      ]
    },
    {
      "cell_type": "markdown",
      "source": [
        "### **1. Collecting the stock data (AAPL)**\n",
        "\n"
      ],
      "metadata": {
        "id": "AZo6B0OMLJiu"
      }
    },
    {
      "cell_type": "code",
      "source": [
        "#Data collection\n",
        "import pandas_datareader as pdr"
      ],
      "metadata": {
        "id": "p0NyienwxZFT"
      },
      "execution_count": 4,
      "outputs": []
    },
    {
      "cell_type": "code",
      "source": [
        "#Assigning the dataset key to a variable key\n",
        "key= \"2bc19e895a60ab8aecc6d8d450d5090e5f8dad79\""
      ],
      "metadata": {
        "id": "mKJ2ge1TxqUX"
      },
      "execution_count": 5,
      "outputs": []
    },
    {
      "cell_type": "code",
      "source": [
        "#Data collection\n",
        "data = pdr.get_data_tiingo(\"AAPL\", api_key=key)"
      ],
      "metadata": {
        "id": "nVweOqNGv2mH",
        "colab": {
          "base_uri": "https://localhost:8080/"
        },
        "outputId": "b77e12d6-5661-4c2c-a0b7-dc38ce4b1c83"
      },
      "execution_count": 6,
      "outputs": [
        {
          "output_type": "stream",
          "name": "stderr",
          "text": [
            "/usr/local/lib/python3.7/dist-packages/pandas_datareader/tiingo.py:234: FutureWarning: In a future version of pandas all arguments of concat except for the argument 'objs' will be keyword-only\n",
            "  return pd.concat(dfs, self._concat_axis)\n"
          ]
        }
      ]
    },
    {
      "cell_type": "code",
      "source": [
        "#saving data to csv\n",
        "data.to_csv(\"TSLA.csv\")"
      ],
      "metadata": {
        "id": "G_bAGoLPx8fj"
      },
      "execution_count": 7,
      "outputs": []
    },
    {
      "cell_type": "code",
      "source": [
        "#Importing libraries\n",
        "import pandas as pd\n"
      ],
      "metadata": {
        "id": "kC3QvrSsyYIW"
      },
      "execution_count": 8,
      "outputs": []
    },
    {
      "cell_type": "code",
      "source": [
        "#loading and reading the dataset\n",
        "data1=pd.read_csv(\"/content/TSLA.csv\")"
      ],
      "metadata": {
        "id": "09ng3Kolygjr"
      },
      "execution_count": 9,
      "outputs": []
    },
    {
      "cell_type": "code",
      "source": [
        "#checking first 5 rows\n",
        "data1.head(3)"
      ],
      "metadata": {
        "id": "yklWlT3PyuW3",
        "colab": {
          "base_uri": "https://localhost:8080/",
          "height": 144
        },
        "outputId": "ef6d5515-2a37-4031-d175-afaae2a23d87"
      },
      "execution_count": 10,
      "outputs": [
        {
          "output_type": "execute_result",
          "data": {
            "text/plain": [
              "  symbol                       date   close    high     low    open    volume  \\\n",
              "0   AAPL  2017-03-27 00:00:00+00:00  140.88  141.22  138.62  139.39  23575094   \n",
              "1   AAPL  2017-03-28 00:00:00+00:00  143.80  144.04  140.62  140.91  33374805   \n",
              "2   AAPL  2017-03-29 00:00:00+00:00  144.12  144.49  143.19  143.68  29189955   \n",
              "\n",
              "    adjClose    adjHigh     adjLow    adjOpen  adjVolume  divCash  splitFactor  \n",
              "0  33.248219  33.328460  32.714850  32.896573   94300376      0.0          1.0  \n",
              "1  33.937350  33.993991  33.186858  33.255299  133499220      0.0          1.0  \n",
              "2  34.012871  34.100193  33.793388  33.909030  116759820      0.0          1.0  "
            ],
            "text/html": [
              "\n",
              "  <div id=\"df-65b827a0-01e5-4895-8274-227afca2d17c\">\n",
              "    <div class=\"colab-df-container\">\n",
              "      <div>\n",
              "<style scoped>\n",
              "    .dataframe tbody tr th:only-of-type {\n",
              "        vertical-align: middle;\n",
              "    }\n",
              "\n",
              "    .dataframe tbody tr th {\n",
              "        vertical-align: top;\n",
              "    }\n",
              "\n",
              "    .dataframe thead th {\n",
              "        text-align: right;\n",
              "    }\n",
              "</style>\n",
              "<table border=\"1\" class=\"dataframe\">\n",
              "  <thead>\n",
              "    <tr style=\"text-align: right;\">\n",
              "      <th></th>\n",
              "      <th>symbol</th>\n",
              "      <th>date</th>\n",
              "      <th>close</th>\n",
              "      <th>high</th>\n",
              "      <th>low</th>\n",
              "      <th>open</th>\n",
              "      <th>volume</th>\n",
              "      <th>adjClose</th>\n",
              "      <th>adjHigh</th>\n",
              "      <th>adjLow</th>\n",
              "      <th>adjOpen</th>\n",
              "      <th>adjVolume</th>\n",
              "      <th>divCash</th>\n",
              "      <th>splitFactor</th>\n",
              "    </tr>\n",
              "  </thead>\n",
              "  <tbody>\n",
              "    <tr>\n",
              "      <th>0</th>\n",
              "      <td>AAPL</td>\n",
              "      <td>2017-03-27 00:00:00+00:00</td>\n",
              "      <td>140.88</td>\n",
              "      <td>141.22</td>\n",
              "      <td>138.62</td>\n",
              "      <td>139.39</td>\n",
              "      <td>23575094</td>\n",
              "      <td>33.248219</td>\n",
              "      <td>33.328460</td>\n",
              "      <td>32.714850</td>\n",
              "      <td>32.896573</td>\n",
              "      <td>94300376</td>\n",
              "      <td>0.0</td>\n",
              "      <td>1.0</td>\n",
              "    </tr>\n",
              "    <tr>\n",
              "      <th>1</th>\n",
              "      <td>AAPL</td>\n",
              "      <td>2017-03-28 00:00:00+00:00</td>\n",
              "      <td>143.80</td>\n",
              "      <td>144.04</td>\n",
              "      <td>140.62</td>\n",
              "      <td>140.91</td>\n",
              "      <td>33374805</td>\n",
              "      <td>33.937350</td>\n",
              "      <td>33.993991</td>\n",
              "      <td>33.186858</td>\n",
              "      <td>33.255299</td>\n",
              "      <td>133499220</td>\n",
              "      <td>0.0</td>\n",
              "      <td>1.0</td>\n",
              "    </tr>\n",
              "    <tr>\n",
              "      <th>2</th>\n",
              "      <td>AAPL</td>\n",
              "      <td>2017-03-29 00:00:00+00:00</td>\n",
              "      <td>144.12</td>\n",
              "      <td>144.49</td>\n",
              "      <td>143.19</td>\n",
              "      <td>143.68</td>\n",
              "      <td>29189955</td>\n",
              "      <td>34.012871</td>\n",
              "      <td>34.100193</td>\n",
              "      <td>33.793388</td>\n",
              "      <td>33.909030</td>\n",
              "      <td>116759820</td>\n",
              "      <td>0.0</td>\n",
              "      <td>1.0</td>\n",
              "    </tr>\n",
              "  </tbody>\n",
              "</table>\n",
              "</div>\n",
              "      <button class=\"colab-df-convert\" onclick=\"convertToInteractive('df-65b827a0-01e5-4895-8274-227afca2d17c')\"\n",
              "              title=\"Convert this dataframe to an interactive table.\"\n",
              "              style=\"display:none;\">\n",
              "        \n",
              "  <svg xmlns=\"http://www.w3.org/2000/svg\" height=\"24px\"viewBox=\"0 0 24 24\"\n",
              "       width=\"24px\">\n",
              "    <path d=\"M0 0h24v24H0V0z\" fill=\"none\"/>\n",
              "    <path d=\"M18.56 5.44l.94 2.06.94-2.06 2.06-.94-2.06-.94-.94-2.06-.94 2.06-2.06.94zm-11 1L8.5 8.5l.94-2.06 2.06-.94-2.06-.94L8.5 2.5l-.94 2.06-2.06.94zm10 10l.94 2.06.94-2.06 2.06-.94-2.06-.94-.94-2.06-.94 2.06-2.06.94z\"/><path d=\"M17.41 7.96l-1.37-1.37c-.4-.4-.92-.59-1.43-.59-.52 0-1.04.2-1.43.59L10.3 9.45l-7.72 7.72c-.78.78-.78 2.05 0 2.83L4 21.41c.39.39.9.59 1.41.59.51 0 1.02-.2 1.41-.59l7.78-7.78 2.81-2.81c.8-.78.8-2.07 0-2.86zM5.41 20L4 18.59l7.72-7.72 1.47 1.35L5.41 20z\"/>\n",
              "  </svg>\n",
              "      </button>\n",
              "      \n",
              "  <style>\n",
              "    .colab-df-container {\n",
              "      display:flex;\n",
              "      flex-wrap:wrap;\n",
              "      gap: 12px;\n",
              "    }\n",
              "\n",
              "    .colab-df-convert {\n",
              "      background-color: #E8F0FE;\n",
              "      border: none;\n",
              "      border-radius: 50%;\n",
              "      cursor: pointer;\n",
              "      display: none;\n",
              "      fill: #1967D2;\n",
              "      height: 32px;\n",
              "      padding: 0 0 0 0;\n",
              "      width: 32px;\n",
              "    }\n",
              "\n",
              "    .colab-df-convert:hover {\n",
              "      background-color: #E2EBFA;\n",
              "      box-shadow: 0px 1px 2px rgba(60, 64, 67, 0.3), 0px 1px 3px 1px rgba(60, 64, 67, 0.15);\n",
              "      fill: #174EA6;\n",
              "    }\n",
              "\n",
              "    [theme=dark] .colab-df-convert {\n",
              "      background-color: #3B4455;\n",
              "      fill: #D2E3FC;\n",
              "    }\n",
              "\n",
              "    [theme=dark] .colab-df-convert:hover {\n",
              "      background-color: #434B5C;\n",
              "      box-shadow: 0px 1px 3px 1px rgba(0, 0, 0, 0.15);\n",
              "      filter: drop-shadow(0px 1px 2px rgba(0, 0, 0, 0.3));\n",
              "      fill: #FFFFFF;\n",
              "    }\n",
              "  </style>\n",
              "\n",
              "      <script>\n",
              "        const buttonEl =\n",
              "          document.querySelector('#df-65b827a0-01e5-4895-8274-227afca2d17c button.colab-df-convert');\n",
              "        buttonEl.style.display =\n",
              "          google.colab.kernel.accessAllowed ? 'block' : 'none';\n",
              "\n",
              "        async function convertToInteractive(key) {\n",
              "          const element = document.querySelector('#df-65b827a0-01e5-4895-8274-227afca2d17c');\n",
              "          const dataTable =\n",
              "            await google.colab.kernel.invokeFunction('convertToInteractive',\n",
              "                                                     [key], {});\n",
              "          if (!dataTable) return;\n",
              "\n",
              "          const docLinkHtml = 'Like what you see? Visit the ' +\n",
              "            '<a target=\"_blank\" href=https://colab.research.google.com/notebooks/data_table.ipynb>data table notebook</a>'\n",
              "            + ' to learn more about interactive tables.';\n",
              "          element.innerHTML = '';\n",
              "          dataTable['output_type'] = 'display_data';\n",
              "          await google.colab.output.renderOutput(dataTable, element);\n",
              "          const docLink = document.createElement('div');\n",
              "          docLink.innerHTML = docLinkHtml;\n",
              "          element.appendChild(docLink);\n",
              "        }\n",
              "      </script>\n",
              "    </div>\n",
              "  </div>\n",
              "  "
            ]
          },
          "metadata": {},
          "execution_count": 10
        }
      ]
    },
    {
      "cell_type": "code",
      "source": [
        "#checking the tail\n",
        "data1.tail()"
      ],
      "metadata": {
        "id": "AUCq58po0do4",
        "colab": {
          "base_uri": "https://localhost:8080/",
          "height": 206
        },
        "outputId": "4dc23da0-dad6-44af-b1db-2cc0168a7239"
      },
      "execution_count": 11,
      "outputs": [
        {
          "output_type": "execute_result",
          "data": {
            "text/plain": [
              "     symbol                       date   close    high      low    open  \\\n",
              "1254   AAPL  2022-03-18 00:00:00+00:00  163.98  164.48  159.760  160.51   \n",
              "1255   AAPL  2022-03-21 00:00:00+00:00  165.38  166.35  163.015  163.51   \n",
              "1256   AAPL  2022-03-22 00:00:00+00:00  168.82  169.42  164.910  165.51   \n",
              "1257   AAPL  2022-03-23 00:00:00+00:00  170.21  172.64  167.650  167.99   \n",
              "1258   AAPL  2022-03-24 00:00:00+00:00  174.07  174.14  170.210  171.06   \n",
              "\n",
              "         volume  adjClose  adjHigh   adjLow  adjOpen  adjVolume  divCash  \\\n",
              "1254  122055535    163.98   164.48  159.760   160.51  122055535      0.0   \n",
              "1255   89029269    165.38   166.35  163.015   163.51   89029269      0.0   \n",
              "1256   80979755    168.82   169.42  164.910   165.51   80979755      0.0   \n",
              "1257   98062674    170.21   172.64  167.650   167.99   98062674      0.0   \n",
              "1258   90131418    174.07   174.14  170.210   171.06   90131418      0.0   \n",
              "\n",
              "      splitFactor  \n",
              "1254          1.0  \n",
              "1255          1.0  \n",
              "1256          1.0  \n",
              "1257          1.0  \n",
              "1258          1.0  "
            ],
            "text/html": [
              "\n",
              "  <div id=\"df-116f1d8f-77ce-4715-b3c4-c48a92d48beb\">\n",
              "    <div class=\"colab-df-container\">\n",
              "      <div>\n",
              "<style scoped>\n",
              "    .dataframe tbody tr th:only-of-type {\n",
              "        vertical-align: middle;\n",
              "    }\n",
              "\n",
              "    .dataframe tbody tr th {\n",
              "        vertical-align: top;\n",
              "    }\n",
              "\n",
              "    .dataframe thead th {\n",
              "        text-align: right;\n",
              "    }\n",
              "</style>\n",
              "<table border=\"1\" class=\"dataframe\">\n",
              "  <thead>\n",
              "    <tr style=\"text-align: right;\">\n",
              "      <th></th>\n",
              "      <th>symbol</th>\n",
              "      <th>date</th>\n",
              "      <th>close</th>\n",
              "      <th>high</th>\n",
              "      <th>low</th>\n",
              "      <th>open</th>\n",
              "      <th>volume</th>\n",
              "      <th>adjClose</th>\n",
              "      <th>adjHigh</th>\n",
              "      <th>adjLow</th>\n",
              "      <th>adjOpen</th>\n",
              "      <th>adjVolume</th>\n",
              "      <th>divCash</th>\n",
              "      <th>splitFactor</th>\n",
              "    </tr>\n",
              "  </thead>\n",
              "  <tbody>\n",
              "    <tr>\n",
              "      <th>1254</th>\n",
              "      <td>AAPL</td>\n",
              "      <td>2022-03-18 00:00:00+00:00</td>\n",
              "      <td>163.98</td>\n",
              "      <td>164.48</td>\n",
              "      <td>159.760</td>\n",
              "      <td>160.51</td>\n",
              "      <td>122055535</td>\n",
              "      <td>163.98</td>\n",
              "      <td>164.48</td>\n",
              "      <td>159.760</td>\n",
              "      <td>160.51</td>\n",
              "      <td>122055535</td>\n",
              "      <td>0.0</td>\n",
              "      <td>1.0</td>\n",
              "    </tr>\n",
              "    <tr>\n",
              "      <th>1255</th>\n",
              "      <td>AAPL</td>\n",
              "      <td>2022-03-21 00:00:00+00:00</td>\n",
              "      <td>165.38</td>\n",
              "      <td>166.35</td>\n",
              "      <td>163.015</td>\n",
              "      <td>163.51</td>\n",
              "      <td>89029269</td>\n",
              "      <td>165.38</td>\n",
              "      <td>166.35</td>\n",
              "      <td>163.015</td>\n",
              "      <td>163.51</td>\n",
              "      <td>89029269</td>\n",
              "      <td>0.0</td>\n",
              "      <td>1.0</td>\n",
              "    </tr>\n",
              "    <tr>\n",
              "      <th>1256</th>\n",
              "      <td>AAPL</td>\n",
              "      <td>2022-03-22 00:00:00+00:00</td>\n",
              "      <td>168.82</td>\n",
              "      <td>169.42</td>\n",
              "      <td>164.910</td>\n",
              "      <td>165.51</td>\n",
              "      <td>80979755</td>\n",
              "      <td>168.82</td>\n",
              "      <td>169.42</td>\n",
              "      <td>164.910</td>\n",
              "      <td>165.51</td>\n",
              "      <td>80979755</td>\n",
              "      <td>0.0</td>\n",
              "      <td>1.0</td>\n",
              "    </tr>\n",
              "    <tr>\n",
              "      <th>1257</th>\n",
              "      <td>AAPL</td>\n",
              "      <td>2022-03-23 00:00:00+00:00</td>\n",
              "      <td>170.21</td>\n",
              "      <td>172.64</td>\n",
              "      <td>167.650</td>\n",
              "      <td>167.99</td>\n",
              "      <td>98062674</td>\n",
              "      <td>170.21</td>\n",
              "      <td>172.64</td>\n",
              "      <td>167.650</td>\n",
              "      <td>167.99</td>\n",
              "      <td>98062674</td>\n",
              "      <td>0.0</td>\n",
              "      <td>1.0</td>\n",
              "    </tr>\n",
              "    <tr>\n",
              "      <th>1258</th>\n",
              "      <td>AAPL</td>\n",
              "      <td>2022-03-24 00:00:00+00:00</td>\n",
              "      <td>174.07</td>\n",
              "      <td>174.14</td>\n",
              "      <td>170.210</td>\n",
              "      <td>171.06</td>\n",
              "      <td>90131418</td>\n",
              "      <td>174.07</td>\n",
              "      <td>174.14</td>\n",
              "      <td>170.210</td>\n",
              "      <td>171.06</td>\n",
              "      <td>90131418</td>\n",
              "      <td>0.0</td>\n",
              "      <td>1.0</td>\n",
              "    </tr>\n",
              "  </tbody>\n",
              "</table>\n",
              "</div>\n",
              "      <button class=\"colab-df-convert\" onclick=\"convertToInteractive('df-116f1d8f-77ce-4715-b3c4-c48a92d48beb')\"\n",
              "              title=\"Convert this dataframe to an interactive table.\"\n",
              "              style=\"display:none;\">\n",
              "        \n",
              "  <svg xmlns=\"http://www.w3.org/2000/svg\" height=\"24px\"viewBox=\"0 0 24 24\"\n",
              "       width=\"24px\">\n",
              "    <path d=\"M0 0h24v24H0V0z\" fill=\"none\"/>\n",
              "    <path d=\"M18.56 5.44l.94 2.06.94-2.06 2.06-.94-2.06-.94-.94-2.06-.94 2.06-2.06.94zm-11 1L8.5 8.5l.94-2.06 2.06-.94-2.06-.94L8.5 2.5l-.94 2.06-2.06.94zm10 10l.94 2.06.94-2.06 2.06-.94-2.06-.94-.94-2.06-.94 2.06-2.06.94z\"/><path d=\"M17.41 7.96l-1.37-1.37c-.4-.4-.92-.59-1.43-.59-.52 0-1.04.2-1.43.59L10.3 9.45l-7.72 7.72c-.78.78-.78 2.05 0 2.83L4 21.41c.39.39.9.59 1.41.59.51 0 1.02-.2 1.41-.59l7.78-7.78 2.81-2.81c.8-.78.8-2.07 0-2.86zM5.41 20L4 18.59l7.72-7.72 1.47 1.35L5.41 20z\"/>\n",
              "  </svg>\n",
              "      </button>\n",
              "      \n",
              "  <style>\n",
              "    .colab-df-container {\n",
              "      display:flex;\n",
              "      flex-wrap:wrap;\n",
              "      gap: 12px;\n",
              "    }\n",
              "\n",
              "    .colab-df-convert {\n",
              "      background-color: #E8F0FE;\n",
              "      border: none;\n",
              "      border-radius: 50%;\n",
              "      cursor: pointer;\n",
              "      display: none;\n",
              "      fill: #1967D2;\n",
              "      height: 32px;\n",
              "      padding: 0 0 0 0;\n",
              "      width: 32px;\n",
              "    }\n",
              "\n",
              "    .colab-df-convert:hover {\n",
              "      background-color: #E2EBFA;\n",
              "      box-shadow: 0px 1px 2px rgba(60, 64, 67, 0.3), 0px 1px 3px 1px rgba(60, 64, 67, 0.15);\n",
              "      fill: #174EA6;\n",
              "    }\n",
              "\n",
              "    [theme=dark] .colab-df-convert {\n",
              "      background-color: #3B4455;\n",
              "      fill: #D2E3FC;\n",
              "    }\n",
              "\n",
              "    [theme=dark] .colab-df-convert:hover {\n",
              "      background-color: #434B5C;\n",
              "      box-shadow: 0px 1px 3px 1px rgba(0, 0, 0, 0.15);\n",
              "      filter: drop-shadow(0px 1px 2px rgba(0, 0, 0, 0.3));\n",
              "      fill: #FFFFFF;\n",
              "    }\n",
              "  </style>\n",
              "\n",
              "      <script>\n",
              "        const buttonEl =\n",
              "          document.querySelector('#df-116f1d8f-77ce-4715-b3c4-c48a92d48beb button.colab-df-convert');\n",
              "        buttonEl.style.display =\n",
              "          google.colab.kernel.accessAllowed ? 'block' : 'none';\n",
              "\n",
              "        async function convertToInteractive(key) {\n",
              "          const element = document.querySelector('#df-116f1d8f-77ce-4715-b3c4-c48a92d48beb');\n",
              "          const dataTable =\n",
              "            await google.colab.kernel.invokeFunction('convertToInteractive',\n",
              "                                                     [key], {});\n",
              "          if (!dataTable) return;\n",
              "\n",
              "          const docLinkHtml = 'Like what you see? Visit the ' +\n",
              "            '<a target=\"_blank\" href=https://colab.research.google.com/notebooks/data_table.ipynb>data table notebook</a>'\n",
              "            + ' to learn more about interactive tables.';\n",
              "          element.innerHTML = '';\n",
              "          dataTable['output_type'] = 'display_data';\n",
              "          await google.colab.output.renderOutput(dataTable, element);\n",
              "          const docLink = document.createElement('div');\n",
              "          docLink.innerHTML = docLinkHtml;\n",
              "          element.appendChild(docLink);\n",
              "        }\n",
              "      </script>\n",
              "    </div>\n",
              "  </div>\n",
              "  "
            ]
          },
          "metadata": {},
          "execution_count": 11
        }
      ]
    },
    {
      "cell_type": "code",
      "source": [
        "#cheking the shape\n",
        "data1.shape"
      ],
      "metadata": {
        "id": "ZCIJmNEr2NFS",
        "colab": {
          "base_uri": "https://localhost:8080/"
        },
        "outputId": "4408d0df-8069-4d61-f69d-146ac44c36d3"
      },
      "execution_count": 12,
      "outputs": [
        {
          "output_type": "execute_result",
          "data": {
            "text/plain": [
              "(1259, 14)"
            ]
          },
          "metadata": {},
          "execution_count": 12
        }
      ]
    },
    {
      "cell_type": "code",
      "source": [
        "#checking the datatype\n",
        "data1.info()"
      ],
      "metadata": {
        "id": "9kcP3K7j1a5o",
        "colab": {
          "base_uri": "https://localhost:8080/"
        },
        "outputId": "741ee2bc-3354-48d8-c7f7-8dd55e0814be"
      },
      "execution_count": 13,
      "outputs": [
        {
          "output_type": "stream",
          "name": "stdout",
          "text": [
            "<class 'pandas.core.frame.DataFrame'>\n",
            "RangeIndex: 1259 entries, 0 to 1258\n",
            "Data columns (total 14 columns):\n",
            " #   Column       Non-Null Count  Dtype  \n",
            "---  ------       --------------  -----  \n",
            " 0   symbol       1259 non-null   object \n",
            " 1   date         1259 non-null   object \n",
            " 2   close        1259 non-null   float64\n",
            " 3   high         1259 non-null   float64\n",
            " 4   low          1259 non-null   float64\n",
            " 5   open         1259 non-null   float64\n",
            " 6   volume       1259 non-null   int64  \n",
            " 7   adjClose     1259 non-null   float64\n",
            " 8   adjHigh      1259 non-null   float64\n",
            " 9   adjLow       1259 non-null   float64\n",
            " 10  adjOpen      1259 non-null   float64\n",
            " 11  adjVolume    1259 non-null   int64  \n",
            " 12  divCash      1259 non-null   float64\n",
            " 13  splitFactor  1259 non-null   float64\n",
            "dtypes: float64(10), int64(2), object(2)\n",
            "memory usage: 137.8+ KB\n"
          ]
        }
      ]
    },
    {
      "cell_type": "code",
      "source": [
        "data1.describe()"
      ],
      "metadata": {
        "colab": {
          "base_uri": "https://localhost:8080/",
          "height": 300
        },
        "id": "E2ZVsL28zE9L",
        "outputId": "22332abb-fa4d-41b4-c50e-697b052b7208"
      },
      "execution_count": 14,
      "outputs": [
        {
          "output_type": "execute_result",
          "data": {
            "text/plain": [
              "             close         high          low         open        volume  \\\n",
              "count  1259.000000  1259.000000  1259.000000  1259.000000  1.259000e+03   \n",
              "mean    191.503137   193.398194   189.358767   191.288035  5.358094e+07   \n",
              "std      68.566244    69.283219    67.499068    68.269562  4.043090e+07   \n",
              "min     106.840000   110.190000   103.100000   104.540000  1.136204e+07   \n",
              "25%     147.925000   149.015000   146.391400   147.760000  2.489913e+07   \n",
              "50%     172.430000   174.100000   170.880000   172.360000  3.638450e+07   \n",
              "75%     209.435000   211.945000   207.510000   209.860000  7.507377e+07   \n",
              "max     506.090000   515.140000   500.330000   514.790000  3.326072e+08   \n",
              "\n",
              "          adjClose      adjHigh       adjLow      adjOpen     adjVolume  \\\n",
              "count  1259.000000  1259.000000  1259.000000  1259.000000  1.259000e+03   \n",
              "mean     79.635252    80.469935    78.714428    79.571449  1.197574e+08   \n",
              "std      44.389959    44.915399    43.808088    44.359419  5.517793e+07   \n",
              "min      33.201018    33.328460    32.714850    32.896573  4.099995e+07   \n",
              "25%      42.270422    42.554426    41.856290    42.255393  8.326143e+07   \n",
              "50%      54.938951    55.410760    54.584743    55.058133  1.049116e+08   \n",
              "75%     122.210850   123.885577   120.514319   122.604469  1.398241e+08   \n",
              "max     181.778019   182.706834   178.891703   182.397229  4.268849e+08   \n",
              "\n",
              "           divCash  splitFactor  \n",
              "count  1259.000000  1259.000000  \n",
              "mean      0.009095     1.002383  \n",
              "std       0.077773     0.084549  \n",
              "min       0.000000     1.000000  \n",
              "25%       0.000000     1.000000  \n",
              "50%       0.000000     1.000000  \n",
              "75%       0.000000     1.000000  \n",
              "max       0.820000     4.000000  "
            ],
            "text/html": [
              "\n",
              "  <div id=\"df-cb8d0e8c-15ed-4998-8a09-f804593dc90f\">\n",
              "    <div class=\"colab-df-container\">\n",
              "      <div>\n",
              "<style scoped>\n",
              "    .dataframe tbody tr th:only-of-type {\n",
              "        vertical-align: middle;\n",
              "    }\n",
              "\n",
              "    .dataframe tbody tr th {\n",
              "        vertical-align: top;\n",
              "    }\n",
              "\n",
              "    .dataframe thead th {\n",
              "        text-align: right;\n",
              "    }\n",
              "</style>\n",
              "<table border=\"1\" class=\"dataframe\">\n",
              "  <thead>\n",
              "    <tr style=\"text-align: right;\">\n",
              "      <th></th>\n",
              "      <th>close</th>\n",
              "      <th>high</th>\n",
              "      <th>low</th>\n",
              "      <th>open</th>\n",
              "      <th>volume</th>\n",
              "      <th>adjClose</th>\n",
              "      <th>adjHigh</th>\n",
              "      <th>adjLow</th>\n",
              "      <th>adjOpen</th>\n",
              "      <th>adjVolume</th>\n",
              "      <th>divCash</th>\n",
              "      <th>splitFactor</th>\n",
              "    </tr>\n",
              "  </thead>\n",
              "  <tbody>\n",
              "    <tr>\n",
              "      <th>count</th>\n",
              "      <td>1259.000000</td>\n",
              "      <td>1259.000000</td>\n",
              "      <td>1259.000000</td>\n",
              "      <td>1259.000000</td>\n",
              "      <td>1.259000e+03</td>\n",
              "      <td>1259.000000</td>\n",
              "      <td>1259.000000</td>\n",
              "      <td>1259.000000</td>\n",
              "      <td>1259.000000</td>\n",
              "      <td>1.259000e+03</td>\n",
              "      <td>1259.000000</td>\n",
              "      <td>1259.000000</td>\n",
              "    </tr>\n",
              "    <tr>\n",
              "      <th>mean</th>\n",
              "      <td>191.503137</td>\n",
              "      <td>193.398194</td>\n",
              "      <td>189.358767</td>\n",
              "      <td>191.288035</td>\n",
              "      <td>5.358094e+07</td>\n",
              "      <td>79.635252</td>\n",
              "      <td>80.469935</td>\n",
              "      <td>78.714428</td>\n",
              "      <td>79.571449</td>\n",
              "      <td>1.197574e+08</td>\n",
              "      <td>0.009095</td>\n",
              "      <td>1.002383</td>\n",
              "    </tr>\n",
              "    <tr>\n",
              "      <th>std</th>\n",
              "      <td>68.566244</td>\n",
              "      <td>69.283219</td>\n",
              "      <td>67.499068</td>\n",
              "      <td>68.269562</td>\n",
              "      <td>4.043090e+07</td>\n",
              "      <td>44.389959</td>\n",
              "      <td>44.915399</td>\n",
              "      <td>43.808088</td>\n",
              "      <td>44.359419</td>\n",
              "      <td>5.517793e+07</td>\n",
              "      <td>0.077773</td>\n",
              "      <td>0.084549</td>\n",
              "    </tr>\n",
              "    <tr>\n",
              "      <th>min</th>\n",
              "      <td>106.840000</td>\n",
              "      <td>110.190000</td>\n",
              "      <td>103.100000</td>\n",
              "      <td>104.540000</td>\n",
              "      <td>1.136204e+07</td>\n",
              "      <td>33.201018</td>\n",
              "      <td>33.328460</td>\n",
              "      <td>32.714850</td>\n",
              "      <td>32.896573</td>\n",
              "      <td>4.099995e+07</td>\n",
              "      <td>0.000000</td>\n",
              "      <td>1.000000</td>\n",
              "    </tr>\n",
              "    <tr>\n",
              "      <th>25%</th>\n",
              "      <td>147.925000</td>\n",
              "      <td>149.015000</td>\n",
              "      <td>146.391400</td>\n",
              "      <td>147.760000</td>\n",
              "      <td>2.489913e+07</td>\n",
              "      <td>42.270422</td>\n",
              "      <td>42.554426</td>\n",
              "      <td>41.856290</td>\n",
              "      <td>42.255393</td>\n",
              "      <td>8.326143e+07</td>\n",
              "      <td>0.000000</td>\n",
              "      <td>1.000000</td>\n",
              "    </tr>\n",
              "    <tr>\n",
              "      <th>50%</th>\n",
              "      <td>172.430000</td>\n",
              "      <td>174.100000</td>\n",
              "      <td>170.880000</td>\n",
              "      <td>172.360000</td>\n",
              "      <td>3.638450e+07</td>\n",
              "      <td>54.938951</td>\n",
              "      <td>55.410760</td>\n",
              "      <td>54.584743</td>\n",
              "      <td>55.058133</td>\n",
              "      <td>1.049116e+08</td>\n",
              "      <td>0.000000</td>\n",
              "      <td>1.000000</td>\n",
              "    </tr>\n",
              "    <tr>\n",
              "      <th>75%</th>\n",
              "      <td>209.435000</td>\n",
              "      <td>211.945000</td>\n",
              "      <td>207.510000</td>\n",
              "      <td>209.860000</td>\n",
              "      <td>7.507377e+07</td>\n",
              "      <td>122.210850</td>\n",
              "      <td>123.885577</td>\n",
              "      <td>120.514319</td>\n",
              "      <td>122.604469</td>\n",
              "      <td>1.398241e+08</td>\n",
              "      <td>0.000000</td>\n",
              "      <td>1.000000</td>\n",
              "    </tr>\n",
              "    <tr>\n",
              "      <th>max</th>\n",
              "      <td>506.090000</td>\n",
              "      <td>515.140000</td>\n",
              "      <td>500.330000</td>\n",
              "      <td>514.790000</td>\n",
              "      <td>3.326072e+08</td>\n",
              "      <td>181.778019</td>\n",
              "      <td>182.706834</td>\n",
              "      <td>178.891703</td>\n",
              "      <td>182.397229</td>\n",
              "      <td>4.268849e+08</td>\n",
              "      <td>0.820000</td>\n",
              "      <td>4.000000</td>\n",
              "    </tr>\n",
              "  </tbody>\n",
              "</table>\n",
              "</div>\n",
              "      <button class=\"colab-df-convert\" onclick=\"convertToInteractive('df-cb8d0e8c-15ed-4998-8a09-f804593dc90f')\"\n",
              "              title=\"Convert this dataframe to an interactive table.\"\n",
              "              style=\"display:none;\">\n",
              "        \n",
              "  <svg xmlns=\"http://www.w3.org/2000/svg\" height=\"24px\"viewBox=\"0 0 24 24\"\n",
              "       width=\"24px\">\n",
              "    <path d=\"M0 0h24v24H0V0z\" fill=\"none\"/>\n",
              "    <path d=\"M18.56 5.44l.94 2.06.94-2.06 2.06-.94-2.06-.94-.94-2.06-.94 2.06-2.06.94zm-11 1L8.5 8.5l.94-2.06 2.06-.94-2.06-.94L8.5 2.5l-.94 2.06-2.06.94zm10 10l.94 2.06.94-2.06 2.06-.94-2.06-.94-.94-2.06-.94 2.06-2.06.94z\"/><path d=\"M17.41 7.96l-1.37-1.37c-.4-.4-.92-.59-1.43-.59-.52 0-1.04.2-1.43.59L10.3 9.45l-7.72 7.72c-.78.78-.78 2.05 0 2.83L4 21.41c.39.39.9.59 1.41.59.51 0 1.02-.2 1.41-.59l7.78-7.78 2.81-2.81c.8-.78.8-2.07 0-2.86zM5.41 20L4 18.59l7.72-7.72 1.47 1.35L5.41 20z\"/>\n",
              "  </svg>\n",
              "      </button>\n",
              "      \n",
              "  <style>\n",
              "    .colab-df-container {\n",
              "      display:flex;\n",
              "      flex-wrap:wrap;\n",
              "      gap: 12px;\n",
              "    }\n",
              "\n",
              "    .colab-df-convert {\n",
              "      background-color: #E8F0FE;\n",
              "      border: none;\n",
              "      border-radius: 50%;\n",
              "      cursor: pointer;\n",
              "      display: none;\n",
              "      fill: #1967D2;\n",
              "      height: 32px;\n",
              "      padding: 0 0 0 0;\n",
              "      width: 32px;\n",
              "    }\n",
              "\n",
              "    .colab-df-convert:hover {\n",
              "      background-color: #E2EBFA;\n",
              "      box-shadow: 0px 1px 2px rgba(60, 64, 67, 0.3), 0px 1px 3px 1px rgba(60, 64, 67, 0.15);\n",
              "      fill: #174EA6;\n",
              "    }\n",
              "\n",
              "    [theme=dark] .colab-df-convert {\n",
              "      background-color: #3B4455;\n",
              "      fill: #D2E3FC;\n",
              "    }\n",
              "\n",
              "    [theme=dark] .colab-df-convert:hover {\n",
              "      background-color: #434B5C;\n",
              "      box-shadow: 0px 1px 3px 1px rgba(0, 0, 0, 0.15);\n",
              "      filter: drop-shadow(0px 1px 2px rgba(0, 0, 0, 0.3));\n",
              "      fill: #FFFFFF;\n",
              "    }\n",
              "  </style>\n",
              "\n",
              "      <script>\n",
              "        const buttonEl =\n",
              "          document.querySelector('#df-cb8d0e8c-15ed-4998-8a09-f804593dc90f button.colab-df-convert');\n",
              "        buttonEl.style.display =\n",
              "          google.colab.kernel.accessAllowed ? 'block' : 'none';\n",
              "\n",
              "        async function convertToInteractive(key) {\n",
              "          const element = document.querySelector('#df-cb8d0e8c-15ed-4998-8a09-f804593dc90f');\n",
              "          const dataTable =\n",
              "            await google.colab.kernel.invokeFunction('convertToInteractive',\n",
              "                                                     [key], {});\n",
              "          if (!dataTable) return;\n",
              "\n",
              "          const docLinkHtml = 'Like what you see? Visit the ' +\n",
              "            '<a target=\"_blank\" href=https://colab.research.google.com/notebooks/data_table.ipynb>data table notebook</a>'\n",
              "            + ' to learn more about interactive tables.';\n",
              "          element.innerHTML = '';\n",
              "          dataTable['output_type'] = 'display_data';\n",
              "          await google.colab.output.renderOutput(dataTable, element);\n",
              "          const docLink = document.createElement('div');\n",
              "          docLink.innerHTML = docLinkHtml;\n",
              "          element.appendChild(docLink);\n",
              "        }\n",
              "      </script>\n",
              "    </div>\n",
              "  </div>\n",
              "  "
            ]
          },
          "metadata": {},
          "execution_count": 14
        }
      ]
    },
    {
      "cell_type": "code",
      "source": [
        "#creating a copy to use\n",
        "data2= data1.copy(deep=True)\n"
      ],
      "metadata": {
        "id": "8_TSA3aQ_ppN"
      },
      "execution_count": 15,
      "outputs": []
    },
    {
      "cell_type": "code",
      "source": [
        "#setting index to date\n",
        "data2.set_index(\"date\", drop=True, inplace=True, )"
      ],
      "metadata": {
        "id": "x-gGDsUq_-wE"
      },
      "execution_count": 16,
      "outputs": []
    },
    {
      "cell_type": "markdown",
      "source": [
        "### we will only use the close feature"
      ],
      "metadata": {
        "id": "DOinm4LMA2hz"
      }
    },
    {
      "cell_type": "code",
      "source": [
        "\n",
        "#stock prediction using closing price\n",
        "data2= data2[[\"close\"]] # used 2 brackets to make it a dataframe\n",
        "data2.shape"
      ],
      "metadata": {
        "id": "dHD2za9BzkkH",
        "colab": {
          "base_uri": "https://localhost:8080/"
        },
        "outputId": "58179e09-5d8d-4961-f90e-9b0b0d77e477"
      },
      "execution_count": 17,
      "outputs": [
        {
          "output_type": "execute_result",
          "data": {
            "text/plain": [
              "(1259, 1)"
            ]
          },
          "metadata": {},
          "execution_count": 17
        }
      ]
    },
    {
      "cell_type": "code",
      "source": [
        "#checking data2\n",
        "data2.describe()"
      ],
      "metadata": {
        "id": "c9D0qA9b3Lo1",
        "colab": {
          "base_uri": "https://localhost:8080/",
          "height": 300
        },
        "outputId": "40159461-ae67-4812-8235-7e4f03b4b38f"
      },
      "execution_count": 18,
      "outputs": [
        {
          "output_type": "execute_result",
          "data": {
            "text/plain": [
              "             close\n",
              "count  1259.000000\n",
              "mean    191.503137\n",
              "std      68.566244\n",
              "min     106.840000\n",
              "25%     147.925000\n",
              "50%     172.430000\n",
              "75%     209.435000\n",
              "max     506.090000"
            ],
            "text/html": [
              "\n",
              "  <div id=\"df-ed100d17-71ad-4450-abba-5e10bd4087e7\">\n",
              "    <div class=\"colab-df-container\">\n",
              "      <div>\n",
              "<style scoped>\n",
              "    .dataframe tbody tr th:only-of-type {\n",
              "        vertical-align: middle;\n",
              "    }\n",
              "\n",
              "    .dataframe tbody tr th {\n",
              "        vertical-align: top;\n",
              "    }\n",
              "\n",
              "    .dataframe thead th {\n",
              "        text-align: right;\n",
              "    }\n",
              "</style>\n",
              "<table border=\"1\" class=\"dataframe\">\n",
              "  <thead>\n",
              "    <tr style=\"text-align: right;\">\n",
              "      <th></th>\n",
              "      <th>close</th>\n",
              "    </tr>\n",
              "  </thead>\n",
              "  <tbody>\n",
              "    <tr>\n",
              "      <th>count</th>\n",
              "      <td>1259.000000</td>\n",
              "    </tr>\n",
              "    <tr>\n",
              "      <th>mean</th>\n",
              "      <td>191.503137</td>\n",
              "    </tr>\n",
              "    <tr>\n",
              "      <th>std</th>\n",
              "      <td>68.566244</td>\n",
              "    </tr>\n",
              "    <tr>\n",
              "      <th>min</th>\n",
              "      <td>106.840000</td>\n",
              "    </tr>\n",
              "    <tr>\n",
              "      <th>25%</th>\n",
              "      <td>147.925000</td>\n",
              "    </tr>\n",
              "    <tr>\n",
              "      <th>50%</th>\n",
              "      <td>172.430000</td>\n",
              "    </tr>\n",
              "    <tr>\n",
              "      <th>75%</th>\n",
              "      <td>209.435000</td>\n",
              "    </tr>\n",
              "    <tr>\n",
              "      <th>max</th>\n",
              "      <td>506.090000</td>\n",
              "    </tr>\n",
              "  </tbody>\n",
              "</table>\n",
              "</div>\n",
              "      <button class=\"colab-df-convert\" onclick=\"convertToInteractive('df-ed100d17-71ad-4450-abba-5e10bd4087e7')\"\n",
              "              title=\"Convert this dataframe to an interactive table.\"\n",
              "              style=\"display:none;\">\n",
              "        \n",
              "  <svg xmlns=\"http://www.w3.org/2000/svg\" height=\"24px\"viewBox=\"0 0 24 24\"\n",
              "       width=\"24px\">\n",
              "    <path d=\"M0 0h24v24H0V0z\" fill=\"none\"/>\n",
              "    <path d=\"M18.56 5.44l.94 2.06.94-2.06 2.06-.94-2.06-.94-.94-2.06-.94 2.06-2.06.94zm-11 1L8.5 8.5l.94-2.06 2.06-.94-2.06-.94L8.5 2.5l-.94 2.06-2.06.94zm10 10l.94 2.06.94-2.06 2.06-.94-2.06-.94-.94-2.06-.94 2.06-2.06.94z\"/><path d=\"M17.41 7.96l-1.37-1.37c-.4-.4-.92-.59-1.43-.59-.52 0-1.04.2-1.43.59L10.3 9.45l-7.72 7.72c-.78.78-.78 2.05 0 2.83L4 21.41c.39.39.9.59 1.41.59.51 0 1.02-.2 1.41-.59l7.78-7.78 2.81-2.81c.8-.78.8-2.07 0-2.86zM5.41 20L4 18.59l7.72-7.72 1.47 1.35L5.41 20z\"/>\n",
              "  </svg>\n",
              "      </button>\n",
              "      \n",
              "  <style>\n",
              "    .colab-df-container {\n",
              "      display:flex;\n",
              "      flex-wrap:wrap;\n",
              "      gap: 12px;\n",
              "    }\n",
              "\n",
              "    .colab-df-convert {\n",
              "      background-color: #E8F0FE;\n",
              "      border: none;\n",
              "      border-radius: 50%;\n",
              "      cursor: pointer;\n",
              "      display: none;\n",
              "      fill: #1967D2;\n",
              "      height: 32px;\n",
              "      padding: 0 0 0 0;\n",
              "      width: 32px;\n",
              "    }\n",
              "\n",
              "    .colab-df-convert:hover {\n",
              "      background-color: #E2EBFA;\n",
              "      box-shadow: 0px 1px 2px rgba(60, 64, 67, 0.3), 0px 1px 3px 1px rgba(60, 64, 67, 0.15);\n",
              "      fill: #174EA6;\n",
              "    }\n",
              "\n",
              "    [theme=dark] .colab-df-convert {\n",
              "      background-color: #3B4455;\n",
              "      fill: #D2E3FC;\n",
              "    }\n",
              "\n",
              "    [theme=dark] .colab-df-convert:hover {\n",
              "      background-color: #434B5C;\n",
              "      box-shadow: 0px 1px 3px 1px rgba(0, 0, 0, 0.15);\n",
              "      filter: drop-shadow(0px 1px 2px rgba(0, 0, 0, 0.3));\n",
              "      fill: #FFFFFF;\n",
              "    }\n",
              "  </style>\n",
              "\n",
              "      <script>\n",
              "        const buttonEl =\n",
              "          document.querySelector('#df-ed100d17-71ad-4450-abba-5e10bd4087e7 button.colab-df-convert');\n",
              "        buttonEl.style.display =\n",
              "          google.colab.kernel.accessAllowed ? 'block' : 'none';\n",
              "\n",
              "        async function convertToInteractive(key) {\n",
              "          const element = document.querySelector('#df-ed100d17-71ad-4450-abba-5e10bd4087e7');\n",
              "          const dataTable =\n",
              "            await google.colab.kernel.invokeFunction('convertToInteractive',\n",
              "                                                     [key], {});\n",
              "          if (!dataTable) return;\n",
              "\n",
              "          const docLinkHtml = 'Like what you see? Visit the ' +\n",
              "            '<a target=\"_blank\" href=https://colab.research.google.com/notebooks/data_table.ipynb>data table notebook</a>'\n",
              "            + ' to learn more about interactive tables.';\n",
              "          element.innerHTML = '';\n",
              "          dataTable['output_type'] = 'display_data';\n",
              "          await google.colab.output.renderOutput(dataTable, element);\n",
              "          const docLink = document.createElement('div');\n",
              "          docLink.innerHTML = docLinkHtml;\n",
              "          element.appendChild(docLink);\n",
              "        }\n",
              "      </script>\n",
              "    </div>\n",
              "  </div>\n",
              "  "
            ]
          },
          "metadata": {},
          "execution_count": 18
        }
      ]
    },
    {
      "cell_type": "code",
      "source": [
        "#plotting the above\n",
        "import matplotlib.pyplot as plt\n",
        "from matplotlib.pyplot import figure\n",
        "figure(figsize=(15, 5), dpi=80)\n",
        "plt.plot(data2);"
      ],
      "metadata": {
        "id": "lf0aWqSL2XVn",
        "colab": {
          "base_uri": "https://localhost:8080/",
          "height": 352
        },
        "outputId": "96fb2941-5444-481a-fbdf-1278284dca6f"
      },
      "execution_count": 19,
      "outputs": [
        {
          "output_type": "display_data",
          "data": {
            "text/plain": [
              "<Figure size 1200x400 with 1 Axes>"
            ],
            "image/png": "[encoded data removed]"
          },
          "metadata": {
            "needs_background": "light"
          }
        }
      ]
    },
    {
      "cell_type": "markdown",
      "source": [
        "## Feature Engineering\n",
        "\n",
        "* The most vital part of prediction is model used and feaure engineering.\n",
        "* We will calculate percentage change\n",
        "\n",
        "Using percantage change insteady of price is the benefit of normalization as we can measure all variables in comparable metrics. Also returns have more manageable statistical properties than prices such as stationarity. ie in most cases we have don't have stationary prices but we can have stationary returns.\n",
        "\n",
        "Stationary time series is where statistical prperties such as mean, variance, correlation etc are constant over time.\n",
        "\n"
      ],
      "metadata": {
        "id": "ablc-WL0C_du"
      }
    },
    {
      "cell_type": "code",
      "source": [
        "#Getting the parcentage value \"(current value/previous values)-1\"\n",
        "\n",
        "data2[\"returns\"]= data2.close.pct_change()\n",
        "#previewing the new dataframe\n",
        "data2.head(5)"
      ],
      "metadata": {
        "colab": {
          "base_uri": "https://localhost:8080/",
          "height": 237
        },
        "id": "Zl99d0NmDOC1",
        "outputId": "9370956d-ac83-4d82-8871-8c635258fcd2"
      },
      "execution_count": 20,
      "outputs": [
        {
          "output_type": "execute_result",
          "data": {
            "text/plain": [
              "                            close   returns\n",
              "date                                       \n",
              "2017-03-27 00:00:00+00:00  140.88       NaN\n",
              "2017-03-28 00:00:00+00:00  143.80  0.020727\n",
              "2017-03-29 00:00:00+00:00  144.12  0.002225\n",
              "2017-03-30 00:00:00+00:00  143.93 -0.001318\n",
              "2017-03-31 00:00:00+00:00  143.66 -0.001876"
            ],
            "text/html": [
              "\n",
              "  <div id=\"df-b9176c2b-2488-4d35-8ae3-2990a6c565e8\">\n",
              "    <div class=\"colab-df-container\">\n",
              "      <div>\n",
              "<style scoped>\n",
              "    .dataframe tbody tr th:only-of-type {\n",
              "        vertical-align: middle;\n",
              "    }\n",
              "\n",
              "    .dataframe tbody tr th {\n",
              "        vertical-align: top;\n",
              "    }\n",
              "\n",
              "    .dataframe thead th {\n",
              "        text-align: right;\n",
              "    }\n",
              "</style>\n",
              "<table border=\"1\" class=\"dataframe\">\n",
              "  <thead>\n",
              "    <tr style=\"text-align: right;\">\n",
              "      <th></th>\n",
              "      <th>close</th>\n",
              "      <th>returns</th>\n",
              "    </tr>\n",
              "    <tr>\n",
              "      <th>date</th>\n",
              "      <th></th>\n",
              "      <th></th>\n",
              "    </tr>\n",
              "  </thead>\n",
              "  <tbody>\n",
              "    <tr>\n",
              "      <th>2017-03-27 00:00:00+00:00</th>\n",
              "      <td>140.88</td>\n",
              "      <td>NaN</td>\n",
              "    </tr>\n",
              "    <tr>\n",
              "      <th>2017-03-28 00:00:00+00:00</th>\n",
              "      <td>143.80</td>\n",
              "      <td>0.020727</td>\n",
              "    </tr>\n",
              "    <tr>\n",
              "      <th>2017-03-29 00:00:00+00:00</th>\n",
              "      <td>144.12</td>\n",
              "      <td>0.002225</td>\n",
              "    </tr>\n",
              "    <tr>\n",
              "      <th>2017-03-30 00:00:00+00:00</th>\n",
              "      <td>143.93</td>\n",
              "      <td>-0.001318</td>\n",
              "    </tr>\n",
              "    <tr>\n",
              "      <th>2017-03-31 00:00:00+00:00</th>\n",
              "      <td>143.66</td>\n",
              "      <td>-0.001876</td>\n",
              "    </tr>\n",
              "  </tbody>\n",
              "</table>\n",
              "</div>\n",
              "      <button class=\"colab-df-convert\" onclick=\"convertToInteractive('df-b9176c2b-2488-4d35-8ae3-2990a6c565e8')\"\n",
              "              title=\"Convert this dataframe to an interactive table.\"\n",
              "              style=\"display:none;\">\n",
              "        \n",
              "  <svg xmlns=\"http://www.w3.org/2000/svg\" height=\"24px\"viewBox=\"0 0 24 24\"\n",
              "       width=\"24px\">\n",
              "    <path d=\"M0 0h24v24H0V0z\" fill=\"none\"/>\n",
              "    <path d=\"M18.56 5.44l.94 2.06.94-2.06 2.06-.94-2.06-.94-.94-2.06-.94 2.06-2.06.94zm-11 1L8.5 8.5l.94-2.06 2.06-.94-2.06-.94L8.5 2.5l-.94 2.06-2.06.94zm10 10l.94 2.06.94-2.06 2.06-.94-2.06-.94-.94-2.06-.94 2.06-2.06.94z\"/><path d=\"M17.41 7.96l-1.37-1.37c-.4-.4-.92-.59-1.43-.59-.52 0-1.04.2-1.43.59L10.3 9.45l-7.72 7.72c-.78.78-.78 2.05 0 2.83L4 21.41c.39.39.9.59 1.41.59.51 0 1.02-.2 1.41-.59l7.78-7.78 2.81-2.81c.8-.78.8-2.07 0-2.86zM5.41 20L4 18.59l7.72-7.72 1.47 1.35L5.41 20z\"/>\n",
              "  </svg>\n",
              "      </button>\n",
              "      \n",
              "  <style>\n",
              "    .colab-df-container {\n",
              "      display:flex;\n",
              "      flex-wrap:wrap;\n",
              "      gap: 12px;\n",
              "    }\n",
              "\n",
              "    .colab-df-convert {\n",
              "      background-color: #E8F0FE;\n",
              "      border: none;\n",
              "      border-radius: 50%;\n",
              "      cursor: pointer;\n",
              "      display: none;\n",
              "      fill: #1967D2;\n",
              "      height: 32px;\n",
              "      padding: 0 0 0 0;\n",
              "      width: 32px;\n",
              "    }\n",
              "\n",
              "    .colab-df-convert:hover {\n",
              "      background-color: #E2EBFA;\n",
              "      box-shadow: 0px 1px 2px rgba(60, 64, 67, 0.3), 0px 1px 3px 1px rgba(60, 64, 67, 0.15);\n",
              "      fill: #174EA6;\n",
              "    }\n",
              "\n",
              "    [theme=dark] .colab-df-convert {\n",
              "      background-color: #3B4455;\n",
              "      fill: #D2E3FC;\n",
              "    }\n",
              "\n",
              "    [theme=dark] .colab-df-convert:hover {\n",
              "      background-color: #434B5C;\n",
              "      box-shadow: 0px 1px 3px 1px rgba(0, 0, 0, 0.15);\n",
              "      filter: drop-shadow(0px 1px 2px rgba(0, 0, 0, 0.3));\n",
              "      fill: #FFFFFF;\n",
              "    }\n",
              "  </style>\n",
              "\n",
              "      <script>\n",
              "        const buttonEl =\n",
              "          document.querySelector('#df-b9176c2b-2488-4d35-8ae3-2990a6c565e8 button.colab-df-convert');\n",
              "        buttonEl.style.display =\n",
              "          google.colab.kernel.accessAllowed ? 'block' : 'none';\n",
              "\n",
              "        async function convertToInteractive(key) {\n",
              "          const element = document.querySelector('#df-b9176c2b-2488-4d35-8ae3-2990a6c565e8');\n",
              "          const dataTable =\n",
              "            await google.colab.kernel.invokeFunction('convertToInteractive',\n",
              "                                                     [key], {});\n",
              "          if (!dataTable) return;\n",
              "\n",
              "          const docLinkHtml = 'Like what you see? Visit the ' +\n",
              "            '<a target=\"_blank\" href=https://colab.research.google.com/notebooks/data_table.ipynb>data table notebook</a>'\n",
              "            + ' to learn more about interactive tables.';\n",
              "          element.innerHTML = '';\n",
              "          dataTable['output_type'] = 'display_data';\n",
              "          await google.colab.output.renderOutput(dataTable, element);\n",
              "          const docLink = document.createElement('div');\n",
              "          docLink.innerHTML = docLinkHtml;\n",
              "          element.appendChild(docLink);\n",
              "        }\n",
              "      </script>\n",
              "    </div>\n",
              "  </div>\n",
              "  "
            ]
          },
          "metadata": {},
          "execution_count": 20
        }
      ]
    },
    {
      "cell_type": "markdown",
      "source": [
        "## In Machine Learning/algorithms, features predict the target variable better when they are normally distributed. we can use log transformation or box cox to ensure this is achieved."
      ],
      "metadata": {
        "id": "OFEwDY9QHdwQ"
      }
    },
    {
      "cell_type": "code",
      "source": [
        "#calculating log returns\n",
        "#!pip install pandas_log\n",
        "import numpy as np\n",
        "import pandas_log\n",
        "data2[\"log_returns\"]=np.log(1+data2[\"returns\"])\n",
        "#\n",
        "#Previewing the changes\n",
        "data2.head()"
      ],
      "metadata": {
        "id": "HdlSZzOzHdH_",
        "colab": {
          "base_uri": "https://localhost:8080/",
          "height": 237
        },
        "outputId": "685324eb-71a0-4df8-af41-046e29cfeec8"
      },
      "execution_count": 23,
      "outputs": [
        {
          "output_type": "execute_result",
          "data": {
            "text/plain": [
              "                            close   returns  log_returns\n",
              "date                                                    \n",
              "2017-03-27 00:00:00+00:00  140.88       NaN          NaN\n",
              "2017-03-28 00:00:00+00:00  143.80  0.020727     0.020515\n",
              "2017-03-29 00:00:00+00:00  144.12  0.002225     0.002223\n",
              "2017-03-30 00:00:00+00:00  143.93 -0.001318    -0.001319\n",
              "2017-03-31 00:00:00+00:00  143.66 -0.001876    -0.001878"
            ],
            "text/html": [
              "\n",
              "  <div id=\"df-5ee47054-8f76-4fc0-8c61-91ddc8f5ccf1\">\n",
              "    <div class=\"colab-df-container\">\n",
              "      <div>\n",
              "<style scoped>\n",
              "    .dataframe tbody tr th:only-of-type {\n",
              "        vertical-align: middle;\n",
              "    }\n",
              "\n",
              "    .dataframe tbody tr th {\n",
              "        vertical-align: top;\n",
              "    }\n",
              "\n",
              "    .dataframe thead th {\n",
              "        text-align: right;\n",
              "    }\n",
              "</style>\n",
              "<table border=\"1\" class=\"dataframe\">\n",
              "  <thead>\n",
              "    <tr style=\"text-align: right;\">\n",
              "      <th></th>\n",
              "      <th>close</th>\n",
              "      <th>returns</th>\n",
              "      <th>log_returns</th>\n",
              "    </tr>\n",
              "    <tr>\n",
              "      <th>date</th>\n",
              "      <th></th>\n",
              "      <th></th>\n",
              "      <th></th>\n",
              "    </tr>\n",
              "  </thead>\n",
              "  <tbody>\n",
              "    <tr>\n",
              "      <th>2017-03-27 00:00:00+00:00</th>\n",
              "      <td>140.88</td>\n",
              "      <td>NaN</td>\n",
              "      <td>NaN</td>\n",
              "    </tr>\n",
              "    <tr>\n",
              "      <th>2017-03-28 00:00:00+00:00</th>\n",
              "      <td>143.80</td>\n",
              "      <td>0.020727</td>\n",
              "      <td>0.020515</td>\n",
              "    </tr>\n",
              "    <tr>\n",
              "      <th>2017-03-29 00:00:00+00:00</th>\n",
              "      <td>144.12</td>\n",
              "      <td>0.002225</td>\n",
              "      <td>0.002223</td>\n",
              "    </tr>\n",
              "    <tr>\n",
              "      <th>2017-03-30 00:00:00+00:00</th>\n",
              "      <td>143.93</td>\n",
              "      <td>-0.001318</td>\n",
              "      <td>-0.001319</td>\n",
              "    </tr>\n",
              "    <tr>\n",
              "      <th>2017-03-31 00:00:00+00:00</th>\n",
              "      <td>143.66</td>\n",
              "      <td>-0.001876</td>\n",
              "      <td>-0.001878</td>\n",
              "    </tr>\n",
              "  </tbody>\n",
              "</table>\n",
              "</div>\n",
              "      <button class=\"colab-df-convert\" onclick=\"convertToInteractive('df-5ee47054-8f76-4fc0-8c61-91ddc8f5ccf1')\"\n",
              "              title=\"Convert this dataframe to an interactive table.\"\n",
              "              style=\"display:none;\">\n",
              "        \n",
              "  <svg xmlns=\"http://www.w3.org/2000/svg\" height=\"24px\"viewBox=\"0 0 24 24\"\n",
              "       width=\"24px\">\n",
              "    <path d=\"M0 0h24v24H0V0z\" fill=\"none\"/>\n",
              "    <path d=\"M18.56 5.44l.94 2.06.94-2.06 2.06-.94-2.06-.94-.94-2.06-.94 2.06-2.06.94zm-11 1L8.5 8.5l.94-2.06 2.06-.94-2.06-.94L8.5 2.5l-.94 2.06-2.06.94zm10 10l.94 2.06.94-2.06 2.06-.94-2.06-.94-.94-2.06-.94 2.06-2.06.94z\"/><path d=\"M17.41 7.96l-1.37-1.37c-.4-.4-.92-.59-1.43-.59-.52 0-1.04.2-1.43.59L10.3 9.45l-7.72 7.72c-.78.78-.78 2.05 0 2.83L4 21.41c.39.39.9.59 1.41.59.51 0 1.02-.2 1.41-.59l7.78-7.78 2.81-2.81c.8-.78.8-2.07 0-2.86zM5.41 20L4 18.59l7.72-7.72 1.47 1.35L5.41 20z\"/>\n",
              "  </svg>\n",
              "      </button>\n",
              "      \n",
              "  <style>\n",
              "    .colab-df-container {\n",
              "      display:flex;\n",
              "      flex-wrap:wrap;\n",
              "      gap: 12px;\n",
              "    }\n",
              "\n",
              "    .colab-df-convert {\n",
              "      background-color: #E8F0FE;\n",
              "      border: none;\n",
              "      border-radius: 50%;\n",
              "      cursor: pointer;\n",
              "      display: none;\n",
              "      fill: #1967D2;\n",
              "      height: 32px;\n",
              "      padding: 0 0 0 0;\n",
              "      width: 32px;\n",
              "    }\n",
              "\n",
              "    .colab-df-convert:hover {\n",
              "      background-color: #E2EBFA;\n",
              "      box-shadow: 0px 1px 2px rgba(60, 64, 67, 0.3), 0px 1px 3px 1px rgba(60, 64, 67, 0.15);\n",
              "      fill: #174EA6;\n",
              "    }\n",
              "\n",
              "    [theme=dark] .colab-df-convert {\n",
              "      background-color: #3B4455;\n",
              "      fill: #D2E3FC;\n",
              "    }\n",
              "\n",
              "    [theme=dark] .colab-df-convert:hover {\n",
              "      background-color: #434B5C;\n",
              "      box-shadow: 0px 1px 3px 1px rgba(0, 0, 0, 0.15);\n",
              "      filter: drop-shadow(0px 1px 2px rgba(0, 0, 0, 0.3));\n",
              "      fill: #FFFFFF;\n",
              "    }\n",
              "  </style>\n",
              "\n",
              "      <script>\n",
              "        const buttonEl =\n",
              "          document.querySelector('#df-5ee47054-8f76-4fc0-8c61-91ddc8f5ccf1 button.colab-df-convert');\n",
              "        buttonEl.style.display =\n",
              "          google.colab.kernel.accessAllowed ? 'block' : 'none';\n",
              "\n",
              "        async function convertToInteractive(key) {\n",
              "          const element = document.querySelector('#df-5ee47054-8f76-4fc0-8c61-91ddc8f5ccf1');\n",
              "          const dataTable =\n",
              "            await google.colab.kernel.invokeFunction('convertToInteractive',\n",
              "                                                     [key], {});\n",
              "          if (!dataTable) return;\n",
              "\n",
              "          const docLinkHtml = 'Like what you see? Visit the ' +\n",
              "            '<a target=\"_blank\" href=https://colab.research.google.com/notebooks/data_table.ipynb>data table notebook</a>'\n",
              "            + ' to learn more about interactive tables.';\n",
              "          element.innerHTML = '';\n",
              "          dataTable['output_type'] = 'display_data';\n",
              "          await google.colab.output.renderOutput(dataTable, element);\n",
              "          const docLink = document.createElement('div');\n",
              "          docLink.innerHTML = docLinkHtml;\n",
              "          element.appendChild(docLink);\n",
              "        }\n",
              "      </script>\n",
              "    </div>\n",
              "  </div>\n",
              "  "
            ]
          },
          "metadata": {},
          "execution_count": 23
        }
      ]
    },
    {
      "cell_type": "code",
      "source": [
        "#plotting the log returns\n",
        "import matplotlib.pyplot as plt\n",
        "from matplotlib.pyplot import figure\n",
        "figure(figsize=(15, 5), dpi=80)\n",
        "plt.plot(data2.log_returns);\n"
      ],
      "metadata": {
        "colab": {
          "base_uri": "https://localhost:8080/",
          "height": 352
        },
        "id": "Lmk5O3z3JJaT",
        "outputId": "b5cd4518-6252-461b-b542-6aad2b593534"
      },
      "execution_count": 24,
      "outputs": [
        {
          "output_type": "display_data",
          "data": {
            "text/plain": [
              "<Figure size 1200x400 with 1 Axes>"
            ],
            "image/png": "[encoded data removed]"
          },
          "metadata": {
            "needs_background": "light"
          }
        }
      ]
    },
    {
      "cell_type": "markdown",
      "source": [
        "Observation: mean always revolve around zero. Log makes the feature mean constand."
      ],
      "metadata": {
        "id": "bO0_Cr8GJ2QS"
      }
    },
    {
      "cell_type": "markdown",
      "source": [
        "## Tidying the Data"
      ],
      "metadata": {
        "id": "SKcdshpBKWrl"
      }
    },
    {
      "cell_type": "code",
      "source": [
        "# checking the missing values\n",
        "data2.isnull().sum()"
      ],
      "metadata": {
        "colab": {
          "base_uri": "https://localhost:8080/"
        },
        "id": "XNO8WRlMKVGP",
        "outputId": "6bc35a00-b43b-44f9-b897-5a829469008a"
      },
      "execution_count": 25,
      "outputs": [
        {
          "output_type": "execute_result",
          "data": {
            "text/plain": [
              "close          0\n",
              "returns        1\n",
              "log_returns    1\n",
              "dtype: int64"
            ]
          },
          "metadata": {},
          "execution_count": 25
        }
      ]
    },
    {
      "cell_type": "code",
      "source": [
        "#Dropping the null values\n",
        "\n",
        "data2.dropna(inplace=True)\n",
        "\n",
        "#checking if the null values were dropped\n",
        "data2.isna().sum().any()\n"
      ],
      "metadata": {
        "colab": {
          "base_uri": "https://localhost:8080/"
        },
        "id": "CEk3R2Y1KqGg",
        "outputId": "4576a4b2-d042-4edb-d271-a7e92267f119"
      },
      "execution_count": 26,
      "outputs": [
        {
          "output_type": "execute_result",
          "data": {
            "text/plain": [
              "False"
            ]
          },
          "metadata": {},
          "execution_count": 26
        }
      ]
    },
    {
      "cell_type": "code",
      "source": [
        "#setting input varaible to x\n",
        "X=data2[[\"close\", \"log_returns\"]].values\n",
        "#previewing the X\n",
        "X"
      ],
      "metadata": {
        "colab": {
          "base_uri": "https://localhost:8080/"
        },
        "id": "uJmWzYCdLHgQ",
        "outputId": "71f305a4-369d-45a7-9ea9-0976fc5268b2"
      },
      "execution_count": 27,
      "outputs": [
        {
          "output_type": "execute_result",
          "data": {
            "text/plain": [
              "array([[ 1.43800000e+02,  2.05149811e-02],\n",
              "       [ 1.44120000e+02,  2.22284059e-03],\n",
              "       [ 1.43930000e+02, -1.31921561e-03],\n",
              "       ...,\n",
              "       [ 1.68820000e+02,  2.05872023e-02],\n",
              "       [ 1.70210000e+02,  8.19991026e-03],\n",
              "       [ 1.74070000e+02,  2.24245483e-02]])"
            ]
          },
          "metadata": {},
          "execution_count": 27
        }
      ]
    },
    {
      "cell_type": "markdown",
      "source": [
        "Observation: the values are in different scale. we will normalize using MinMax scaler(range between 0 and 1)"
      ],
      "metadata": {
        "id": "xZAWXZnkMApY"
      }
    },
    {
      "cell_type": "code",
      "source": [
        "#importing the library\n",
        "from sklearn.preprocessing import MinMaxScaler\n",
        "#scaling the data\n",
        "scaler=MinMaxScaler(feature_range=(0,1)).fit(X)\n",
        "X_scaled=scaler.transform(X)\n",
        "#\n",
        "#confirming the changes\n",
        "X_scaled[:5]"
      ],
      "metadata": {
        "colab": {
          "base_uri": "https://localhost:8080/"
        },
        "id": "9uN_vclhMP8K",
        "outputId": "16fd8c56-5ffe-4563-8340-1b0c4bc669c5"
      },
      "execution_count": 28,
      "outputs": [
        {
          "output_type": "execute_result",
          "data": {
            "text/plain": [
              "array([[0.09257358, 0.93681034],\n",
              "       [0.09337508, 0.92433363],\n",
              "       [0.09289919, 0.92191766],\n",
              "       [0.09222292, 0.92153674],\n",
              "       [0.09232311, 0.92300736]])"
            ]
          },
          "metadata": {},
          "execution_count": 28
        }
      ]
    },
    {
      "cell_type": "code",
      "source": [
        "#checking close prices\n",
        "y = [x[0] for x in X_scaled]\n",
        "#checking the sample\n",
        "y[:5]"
      ],
      "metadata": {
        "colab": {
          "base_uri": "https://localhost:8080/"
        },
        "id": "VX_rHnjaSEVt",
        "outputId": "76be76c7-6edd-4b64-9934-d07abff8ef16"
      },
      "execution_count": 29,
      "outputs": [
        {
          "output_type": "execute_result",
          "data": {
            "text/plain": [
              "[0.09257357545397621,\n",
              " 0.0933750782717595,\n",
              " 0.09289918597370067,\n",
              " 0.09222291797119592,\n",
              " 0.09232310582341885]"
            ]
          },
          "metadata": {},
          "execution_count": 29
        }
      ]
    },
    {
      "cell_type": "markdown",
      "source": [
        "## Splitting dataset into train and test split"
      ],
      "metadata": {
        "id": "dvMlkpcDWAUR"
      }
    },
    {
      "cell_type": "code",
      "source": [
        "#we can split directly since the data is already ordered\n",
        "#split 65% for training and 35% for testing\n",
        "data3 = int(len(X_scaled)*0.65)\n",
        "print(data3)\n"
      ],
      "metadata": {
        "colab": {
          "base_uri": "https://localhost:8080/"
        },
        "id": "yQSJwELlUscv",
        "outputId": "be8b45ea-98e3-4dfc-c26b-6b66d707d249"
      },
      "execution_count": 30,
      "outputs": [
        {
          "output_type": "stream",
          "name": "stdout",
          "text": [
            "817\n"
          ]
        }
      ]
    },
    {
      "cell_type": "code",
      "source": [
        "X_train=X_scaled[:data3]\n",
        "X_test = X_scaled[data3:len(X_scaled)]\n",
        "y_train = y[:data3]\n",
        "y_test= y[data3:len(y)]"
      ],
      "metadata": {
        "id": "_uTlJxmbW0Qz"
      },
      "execution_count": 31,
      "outputs": []
    },
    {
      "cell_type": "code",
      "source": [
        "#checking the records\n",
        "print(\"Xtrain size is :{} \".format(len(X_train))), print(\"Xtest size is :{} \".format(len(X_test)))\n",
        "print(\"***\"*30)\n",
        "print(\"ytrain size is :{} \".format(len(y_train))), print(\"ytest size is :{} \".format(len(y_test)))"
      ],
      "metadata": {
        "colab": {
          "base_uri": "https://localhost:8080/"
        },
        "id": "zJYwanM5ZAh3",
        "outputId": "f6a7b8d0-c48b-4540-acf1-2fb7c9611235"
      },
      "execution_count": 32,
      "outputs": [
        {
          "output_type": "stream",
          "name": "stdout",
          "text": [
            "Xtrain size is :817 \n",
            "Xtest size is :441 \n",
            "******************************************************************************************\n",
            "ytrain size is :817 \n",
            "ytest size is :441 \n"
          ]
        },
        {
          "output_type": "execute_result",
          "data": {
            "text/plain": [
              "(None, None)"
            ]
          },
          "metadata": {},
          "execution_count": 32
        }
      ]
    },
    {
      "cell_type": "code",
      "source": [
        "#making sure the x and y data have the same records\n",
        "assert len(X_train)== len(y_train)\n",
        "assert len(X_test) ==len(y_test)"
      ],
      "metadata": {
        "id": "_Y_r3QEFbO89"
      },
      "execution_count": 33,
      "outputs": []
    },
    {
      "cell_type": "markdown",
      "source": [
        "**In regression/classification we devide data into train and test data using random seed or cross validation**.\n",
        "\n",
        "**However, in time series the current value depend on previous values(sequence data). In this case we can split based on dates**\n",
        "\n",
        "**We can predict the stock price at a feature time. we'll preidict at time t+1 raletive to the stock price at time t.**"
      ],
      "metadata": {
        "id": "pD4sLAMiMQPK"
      }
    },
    {
      "cell_type": "code",
      "source": [
        "#creating the time step\n",
        "time_step = 100\n",
        "Xtrain = []\n",
        "ytrain = []\n",
        "Xtest  = []\n",
        "ytest = []\n",
        "for i in range(time_step, len(X_train)):\n",
        "    Xtrain.append(X_train[i - time_step: i,: X_train.shape[1]])\n",
        "    ytrain.append(y_train[i])# predict next record\n",
        "\n",
        "for i in range(time_step, len(X_test)):\n",
        "    Xtest.append(X_test[i - time_step: i,: X_test.shape[1]]), ytest.append(y_test[i])# predict next record\n"
      ],
      "metadata": {
        "id": "8IBCmPLJ8AC-"
      },
      "execution_count": 34,
      "outputs": []
    },
    {
      "cell_type": "code",
      "source": [
        "#previewing our original dataframe\n",
        "data2.head()"
      ],
      "metadata": {
        "colab": {
          "base_uri": "https://localhost:8080/",
          "height": 237
        },
        "id": "0xaqhLBVipi8",
        "outputId": "473cd5dc-07c7-4763-ef63-d6d3e4b4af5f"
      },
      "execution_count": 35,
      "outputs": [
        {
          "output_type": "execute_result",
          "data": {
            "text/plain": [
              "                            close   returns  log_returns\n",
              "date                                                    \n",
              "2017-03-28 00:00:00+00:00  143.80  0.020727     0.020515\n",
              "2017-03-29 00:00:00+00:00  144.12  0.002225     0.002223\n",
              "2017-03-30 00:00:00+00:00  143.93 -0.001318    -0.001319\n",
              "2017-03-31 00:00:00+00:00  143.66 -0.001876    -0.001878\n",
              "2017-04-03 00:00:00+00:00  143.70  0.000278     0.000278"
            ],
            "text/html": [
              "\n",
              "  <div id=\"df-6d7512fa-16e3-472e-a11b-53b1122a4093\">\n",
              "    <div class=\"colab-df-container\">\n",
              "      <div>\n",
              "<style scoped>\n",
              "    .dataframe tbody tr th:only-of-type {\n",
              "        vertical-align: middle;\n",
              "    }\n",
              "\n",
              "    .dataframe tbody tr th {\n",
              "        vertical-align: top;\n",
              "    }\n",
              "\n",
              "    .dataframe thead th {\n",
              "        text-align: right;\n",
              "    }\n",
              "</style>\n",
              "<table border=\"1\" class=\"dataframe\">\n",
              "  <thead>\n",
              "    <tr style=\"text-align: right;\">\n",
              "      <th></th>\n",
              "      <th>close</th>\n",
              "      <th>returns</th>\n",
              "      <th>log_returns</th>\n",
              "    </tr>\n",
              "    <tr>\n",
              "      <th>date</th>\n",
              "      <th></th>\n",
              "      <th></th>\n",
              "      <th></th>\n",
              "    </tr>\n",
              "  </thead>\n",
              "  <tbody>\n",
              "    <tr>\n",
              "      <th>2017-03-28 00:00:00+00:00</th>\n",
              "      <td>143.80</td>\n",
              "      <td>0.020727</td>\n",
              "      <td>0.020515</td>\n",
              "    </tr>\n",
              "    <tr>\n",
              "      <th>2017-03-29 00:00:00+00:00</th>\n",
              "      <td>144.12</td>\n",
              "      <td>0.002225</td>\n",
              "      <td>0.002223</td>\n",
              "    </tr>\n",
              "    <tr>\n",
              "      <th>2017-03-30 00:00:00+00:00</th>\n",
              "      <td>143.93</td>\n",
              "      <td>-0.001318</td>\n",
              "      <td>-0.001319</td>\n",
              "    </tr>\n",
              "    <tr>\n",
              "      <th>2017-03-31 00:00:00+00:00</th>\n",
              "      <td>143.66</td>\n",
              "      <td>-0.001876</td>\n",
              "      <td>-0.001878</td>\n",
              "    </tr>\n",
              "    <tr>\n",
              "      <th>2017-04-03 00:00:00+00:00</th>\n",
              "      <td>143.70</td>\n",
              "      <td>0.000278</td>\n",
              "      <td>0.000278</td>\n",
              "    </tr>\n",
              "  </tbody>\n",
              "</table>\n",
              "</div>\n",
              "      <button class=\"colab-df-convert\" onclick=\"convertToInteractive('df-6d7512fa-16e3-472e-a11b-53b1122a4093')\"\n",
              "              title=\"Convert this dataframe to an interactive table.\"\n",
              "              style=\"display:none;\">\n",
              "        \n",
              "  <svg xmlns=\"http://www.w3.org/2000/svg\" height=\"24px\"viewBox=\"0 0 24 24\"\n",
              "       width=\"24px\">\n",
              "    <path d=\"M0 0h24v24H0V0z\" fill=\"none\"/>\n",
              "    <path d=\"M18.56 5.44l.94 2.06.94-2.06 2.06-.94-2.06-.94-.94-2.06-.94 2.06-2.06.94zm-11 1L8.5 8.5l.94-2.06 2.06-.94-2.06-.94L8.5 2.5l-.94 2.06-2.06.94zm10 10l.94 2.06.94-2.06 2.06-.94-2.06-.94-.94-2.06-.94 2.06-2.06.94z\"/><path d=\"M17.41 7.96l-1.37-1.37c-.4-.4-.92-.59-1.43-.59-.52 0-1.04.2-1.43.59L10.3 9.45l-7.72 7.72c-.78.78-.78 2.05 0 2.83L4 21.41c.39.39.9.59 1.41.59.51 0 1.02-.2 1.41-.59l7.78-7.78 2.81-2.81c.8-.78.8-2.07 0-2.86zM5.41 20L4 18.59l7.72-7.72 1.47 1.35L5.41 20z\"/>\n",
              "  </svg>\n",
              "      </button>\n",
              "      \n",
              "  <style>\n",
              "    .colab-df-container {\n",
              "      display:flex;\n",
              "      flex-wrap:wrap;\n",
              "      gap: 12px;\n",
              "    }\n",
              "\n",
              "    .colab-df-convert {\n",
              "      background-color: #E8F0FE;\n",
              "      border: none;\n",
              "      border-radius: 50%;\n",
              "      cursor: pointer;\n",
              "      display: none;\n",
              "      fill: #1967D2;\n",
              "      height: 32px;\n",
              "      padding: 0 0 0 0;\n",
              "      width: 32px;\n",
              "    }\n",
              "\n",
              "    .colab-df-convert:hover {\n",
              "      background-color: #E2EBFA;\n",
              "      box-shadow: 0px 1px 2px rgba(60, 64, 67, 0.3), 0px 1px 3px 1px rgba(60, 64, 67, 0.15);\n",
              "      fill: #174EA6;\n",
              "    }\n",
              "\n",
              "    [theme=dark] .colab-df-convert {\n",
              "      background-color: #3B4455;\n",
              "      fill: #D2E3FC;\n",
              "    }\n",
              "\n",
              "    [theme=dark] .colab-df-convert:hover {\n",
              "      background-color: #434B5C;\n",
              "      box-shadow: 0px 1px 3px 1px rgba(0, 0, 0, 0.15);\n",
              "      filter: drop-shadow(0px 1px 2px rgba(0, 0, 0, 0.3));\n",
              "      fill: #FFFFFF;\n",
              "    }\n",
              "  </style>\n",
              "\n",
              "      <script>\n",
              "        const buttonEl =\n",
              "          document.querySelector('#df-6d7512fa-16e3-472e-a11b-53b1122a4093 button.colab-df-convert');\n",
              "        buttonEl.style.display =\n",
              "          google.colab.kernel.accessAllowed ? 'block' : 'none';\n",
              "\n",
              "        async function convertToInteractive(key) {\n",
              "          const element = document.querySelector('#df-6d7512fa-16e3-472e-a11b-53b1122a4093');\n",
              "          const dataTable =\n",
              "            await google.colab.kernel.invokeFunction('convertToInteractive',\n",
              "                                                     [key], {});\n",
              "          if (!dataTable) return;\n",
              "\n",
              "          const docLinkHtml = 'Like what you see? Visit the ' +\n",
              "            '<a target=\"_blank\" href=https://colab.research.google.com/notebooks/data_table.ipynb>data table notebook</a>'\n",
              "            + ' to learn more about interactive tables.';\n",
              "          element.innerHTML = '';\n",
              "          dataTable['output_type'] = 'display_data';\n",
              "          await google.colab.output.renderOutput(dataTable, element);\n",
              "          const docLink = document.createElement('div');\n",
              "          docLink.innerHTML = docLinkHtml;\n",
              "          element.appendChild(docLink);\n",
              "        }\n",
              "      </script>\n",
              "    </div>\n",
              "  </div>\n",
              "  "
            ]
          },
          "metadata": {},
          "execution_count": 35
        }
      ]
    },
    {
      "cell_type": "code",
      "source": [
        "#checking one item of xtrain(normalized data)\n",
        "Xtrain[0][:5]"
      ],
      "metadata": {
        "colab": {
          "base_uri": "https://localhost:8080/"
        },
        "id": "TIfnX7qVi4SC",
        "outputId": "aa189005-6976-46ad-8508-806cd2aa8b5f"
      },
      "execution_count": 36,
      "outputs": [
        {
          "output_type": "execute_result",
          "data": {
            "text/plain": [
              "array([[0.09257358, 0.93681034],\n",
              "       [0.09337508, 0.92433363],\n",
              "       [0.09289919, 0.92191766],\n",
              "       [0.09222292, 0.92153674],\n",
              "       [0.09232311, 0.92300736]])"
            ]
          },
          "metadata": {},
          "execution_count": 36
        }
      ]
    },
    {
      "cell_type": "code",
      "source": [
        "#checking one item for ytrain(normalized)\n",
        "print(\"normalized ytrain value is {}\".format(ytrain[0]))\n",
        "#\n",
        "#to see exact original value we can inversely tranform the above\n",
        "val = np.array(ytrain[0])\n",
        "val = np.c_[val, np.zeros(val.shape)]\n",
        "scaler.inverse_transform(val) # this gives the idea how the y is predicted using the time step of 3."
      ],
      "metadata": {
        "colab": {
          "base_uri": "https://localhost:8080/"
        },
        "id": "bpm4cTpkjD8c",
        "outputId": "6e93da54-3910-4429-d9e6-f1f2cc9917ac"
      },
      "execution_count": 37,
      "outputs": [
        {
          "output_type": "stream",
          "name": "stdout",
          "text": [
            "normalized ytrain value is 0.12688791484032558\n"
          ]
        },
        {
          "output_type": "execute_result",
          "data": {
            "text/plain": [
              "array([[157.5       ,  -1.35294448]])"
            ]
          },
          "metadata": {},
          "execution_count": 37
        }
      ]
    },
    {
      "cell_type": "markdown",
      "source": [
        "### Univariate LSTM model requirements\n",
        "\n",
        "Input of each layer should have\n",
        "1. the number of Observation\n",
        "2. the time step\n",
        "3. the features\n",
        "\n",
        "\n",
        "\n"
      ],
      "metadata": {
        "id": "3ijYhTwdlUo8"
      }
    },
    {
      "cell_type": "code",
      "source": [
        "#Reshaping the data to include time step\n",
        "\n",
        "Xtrain,ytrain =(np.array(Xtrain),np.array(ytrain))\n",
        "Xtrain = np.reshape(Xtrain, (Xtrain.shape[0], Xtrain.shape[1], Xtrain.shape[2]))## including actual time stamp.\n",
        "\n",
        "Xtest,ytest =(np.array(Xtest),np.array(ytest))\n",
        "Xtest = np.reshape(Xtest, (Xtest.shape[0], Xtest.shape[1], Xtest.shape[2]))# including actual time step"
      ],
      "metadata": {
        "id": "cilShPkKjcDz"
      },
      "execution_count": 38,
      "outputs": []
    },
    {
      "cell_type": "code",
      "source": [
        "#checking the shape after including time step\n",
        "print(\"xtrain shape is :{} \".format(Xtrain.shape))\n",
        "print(\"ytrain shape is :{} \".format(ytrain.shape))\n",
        "print(\"----\"*10)\n",
        "print(\"Xtest shape is :{} \".format(Xtest.shape))\n",
        "print(\"ytest shape is :{} \".format(ytest.shape))"
      ],
      "metadata": {
        "colab": {
          "base_uri": "https://localhost:8080/"
        },
        "id": "MRDg-9fFpHX9",
        "outputId": "0c630020-04d1-4f9f-b914-46cf6ec6fa23"
      },
      "execution_count": 39,
      "outputs": [
        {
          "output_type": "stream",
          "name": "stdout",
          "text": [
            "xtrain shape is :(717, 100, 2) \n",
            "ytrain shape is :(717,) \n",
            "----------------------------------------\n",
            "Xtest shape is :(341, 100, 2) \n",
            "ytest shape is :(341,) \n"
          ]
        }
      ]
    },
    {
      "cell_type": "markdown",
      "source": [
        "### Univariate Lstm Model"
      ],
      "metadata": {
        "id": "JTXTIW7Ut9oH"
      }
    },
    {
      "cell_type": "code",
      "source": [
        "#importing the required libraries\n",
        "import tensorflow as tf\n",
        "from tensorflow import keras\n",
        "from tensorflow.keras.layers import Dense\n",
        "from keras.layers import Dropout\n",
        "from tensorflow.keras.models import Sequential\n",
        "from tensorflow.keras.layers import LSTM\n",
        "from sklearn.metrics import accuracy_score\n"
      ],
      "metadata": {
        "id": "b_rINsq3t29C"
      },
      "execution_count": 40,
      "outputs": []
    },
    {
      "cell_type": "code",
      "source": [
        "#create Univariate LSTM model\n",
        "model = Sequential()\n",
        "model.add(LSTM(64, input_shape=(Xtrain.shape[1],Xtrain.shape[2]), activation =\"linear\"))\n",
        "model.add(Dense(1))"
      ],
      "metadata": {
        "id": "faHhoIT8uuoc",
        "colab": {
          "base_uri": "https://localhost:8080/"
        },
        "outputId": "f0cba41a-23e5-49af-f052-47437cdb5e7e"
      },
      "execution_count": 41,
      "outputs": [
        {
          "output_type": "stream",
          "name": "stdout",
          "text": [
            "WARNING:tensorflow:Layer lstm will not use cuDNN kernels since it doesn't meet the criteria. It will use a generic GPU kernel as fallback when running on GPU.\n"
          ]
        }
      ]
    },
    {
      "cell_type": "code",
      "source": [
        "model.compile(loss=\"mean_squared_error\", optimizer=\"adam\")"
      ],
      "metadata": {
        "id": "IpcmJFtMwnnK"
      },
      "execution_count": 42,
      "outputs": []
    },
    {
      "cell_type": "code",
      "source": [
        "model.summary()"
      ],
      "metadata": {
        "colab": {
          "base_uri": "https://localhost:8080/"
        },
        "id": "a5TSZkjnw16n",
        "outputId": "cb6bcb93-98ce-42c7-ba09-081e0d4e4e20"
      },
      "execution_count": 43,
      "outputs": [
        {
          "output_type": "stream",
          "name": "stdout",
          "text": [
            "Model: \"sequential\"\n",
            "_________________________________________________________________\n",
            " Layer (type)                Output Shape              Param #   \n",
            "=================================================================\n",
            " lstm (LSTM)                 (None, 64)                17152     \n",
            "                                                                 \n",
            " dense (Dense)               (None, 1)                 65        \n",
            "                                                                 \n",
            "=================================================================\n",
            "Total params: 17,217\n",
            "Trainable params: 17,217\n",
            "Non-trainable params: 0\n",
            "_________________________________________________________________\n"
          ]
        }
      ]
    },
    {
      "cell_type": "code",
      "source": [
        "history= model.fit(Xtrain, ytrain, epochs=100, validation_data=(Xtest,ytest), batch_size=16, verbose=1)"
      ],
      "metadata": {
        "colab": {
          "base_uri": "https://localhost:8080/"
        },
        "id": "8HC6izt_xKm9",
        "outputId": "e86bedc4-9fc7-4325-a8b6-9053028ed60c"
      },
      "execution_count": 44,
      "outputs": [
        {
          "output_type": "stream",
          "name": "stdout",
          "text": [
            "Epoch 1/100\n",
            "45/45 [==============================] - 15s 268ms/step - loss: 0.0197 - val_loss: 0.0050\n",
            "Epoch 2/100\n",
            "45/45 [==============================] - 12s 274ms/step - loss: 9.4782e-04 - val_loss: 3.9274e-04\n",
            "Epoch 3/100\n",
            "45/45 [==============================] - 12s 266ms/step - loss: 5.6573e-04 - val_loss: 1.6908e-04\n",
            "Epoch 4/100\n",
            "45/45 [==============================] - 12s 269ms/step - loss: 5.5776e-04 - val_loss: 3.6468e-04\n",
            "Epoch 5/100\n",
            "45/45 [==============================] - 12s 260ms/step - loss: 5.3885e-04 - val_loss: 3.7364e-04\n",
            "Epoch 6/100\n",
            "45/45 [==============================] - 12s 259ms/step - loss: 4.9278e-04 - val_loss: 2.0152e-04\n",
            "Epoch 7/100\n",
            "45/45 [==============================] - 12s 259ms/step - loss: 4.3152e-04 - val_loss: 3.5665e-04\n",
            "Epoch 8/100\n",
            "45/45 [==============================] - 12s 257ms/step - loss: 4.3319e-04 - val_loss: 3.5130e-04\n",
            "Epoch 9/100\n",
            "45/45 [==============================] - 12s 262ms/step - loss: 3.7807e-04 - val_loss: 2.4123e-04\n",
            "Epoch 10/100\n",
            "45/45 [==============================] - 12s 258ms/step - loss: 3.7378e-04 - val_loss: 1.1377e-04\n",
            "Epoch 11/100\n",
            "45/45 [==============================] - 12s 274ms/step - loss: 3.2586e-04 - val_loss: 2.7427e-04\n",
            "Epoch 12/100\n",
            "45/45 [==============================] - 12s 260ms/step - loss: 3.7770e-04 - val_loss: 1.0831e-04\n",
            "Epoch 13/100\n",
            "45/45 [==============================] - 12s 259ms/step - loss: 3.1620e-04 - val_loss: 1.3777e-04\n",
            "Epoch 14/100\n",
            "45/45 [==============================] - 12s 271ms/step - loss: 3.3214e-04 - val_loss: 2.0548e-04\n",
            "Epoch 15/100\n",
            "45/45 [==============================] - 12s 267ms/step - loss: 3.2428e-04 - val_loss: 2.1002e-04\n",
            "Epoch 16/100\n",
            "45/45 [==============================] - 12s 259ms/step - loss: 2.9535e-04 - val_loss: 1.5848e-04\n",
            "Epoch 17/100\n",
            "45/45 [==============================] - 12s 256ms/step - loss: 2.9950e-04 - val_loss: 1.2590e-04\n",
            "Epoch 18/100\n",
            "45/45 [==============================] - 11s 255ms/step - loss: 2.9262e-04 - val_loss: 1.0112e-04\n",
            "Epoch 19/100\n",
            "45/45 [==============================] - 12s 260ms/step - loss: 2.7565e-04 - val_loss: 1.3425e-04\n",
            "Epoch 20/100\n",
            "45/45 [==============================] - 12s 257ms/step - loss: 2.7623e-04 - val_loss: 1.6936e-04\n",
            "Epoch 21/100\n",
            "45/45 [==============================] - 12s 259ms/step - loss: 2.6877e-04 - val_loss: 1.3270e-04\n",
            "Epoch 22/100\n",
            "45/45 [==============================] - 11s 253ms/step - loss: 2.8080e-04 - val_loss: 1.6067e-04\n",
            "Epoch 23/100\n",
            "45/45 [==============================] - 12s 258ms/step - loss: 3.2445e-04 - val_loss: 1.5835e-04\n",
            "Epoch 24/100\n",
            "45/45 [==============================] - 11s 253ms/step - loss: 3.3490e-04 - val_loss: 1.0537e-04\n",
            "Epoch 25/100\n",
            "45/45 [==============================] - 11s 254ms/step - loss: 2.5539e-04 - val_loss: 9.3528e-05\n",
            "Epoch 26/100\n",
            "45/45 [==============================] - 11s 252ms/step - loss: 2.5404e-04 - val_loss: 9.0912e-05\n",
            "Epoch 27/100\n",
            "45/45 [==============================] - 12s 256ms/step - loss: 3.1264e-04 - val_loss: 9.1777e-05\n",
            "Epoch 28/100\n",
            "45/45 [==============================] - 12s 257ms/step - loss: 2.8017e-04 - val_loss: 9.5546e-05\n",
            "Epoch 29/100\n",
            "45/45 [==============================] - 12s 258ms/step - loss: 2.9271e-04 - val_loss: 1.0782e-04\n",
            "Epoch 30/100\n",
            "45/45 [==============================] - 12s 256ms/step - loss: 2.4672e-04 - val_loss: 9.3759e-05\n",
            "Epoch 31/100\n",
            "45/45 [==============================] - 12s 258ms/step - loss: 2.5691e-04 - val_loss: 1.1248e-04\n",
            "Epoch 32/100\n",
            "45/45 [==============================] - 12s 261ms/step - loss: 2.4932e-04 - val_loss: 2.8799e-04\n",
            "Epoch 33/100\n",
            "45/45 [==============================] - 12s 267ms/step - loss: 3.5246e-04 - val_loss: 2.5970e-04\n",
            "Epoch 34/100\n",
            "45/45 [==============================] - 12s 262ms/step - loss: 2.3725e-04 - val_loss: 9.1573e-05\n",
            "Epoch 35/100\n",
            "45/45 [==============================] - 12s 266ms/step - loss: 2.3385e-04 - val_loss: 1.3347e-04\n",
            "Epoch 36/100\n",
            "45/45 [==============================] - 12s 264ms/step - loss: 2.5559e-04 - val_loss: 8.4291e-05\n",
            "Epoch 37/100\n",
            "45/45 [==============================] - 12s 261ms/step - loss: 2.2437e-04 - val_loss: 8.4531e-05\n",
            "Epoch 38/100\n",
            "45/45 [==============================] - 12s 262ms/step - loss: 2.2732e-04 - val_loss: 8.4961e-05\n",
            "Epoch 39/100\n",
            "45/45 [==============================] - 12s 266ms/step - loss: 2.3919e-04 - val_loss: 8.5844e-05\n",
            "Epoch 40/100\n",
            "45/45 [==============================] - 12s 262ms/step - loss: 2.3555e-04 - val_loss: 2.2556e-04\n",
            "Epoch 41/100\n",
            "45/45 [==============================] - 12s 263ms/step - loss: 2.4932e-04 - val_loss: 8.6178e-05\n",
            "Epoch 42/100\n",
            "45/45 [==============================] - 12s 261ms/step - loss: 2.2399e-04 - val_loss: 8.3538e-05\n",
            "Epoch 43/100\n",
            "45/45 [==============================] - 12s 265ms/step - loss: 2.5503e-04 - val_loss: 7.7739e-05\n",
            "Epoch 44/100\n",
            "45/45 [==============================] - 12s 268ms/step - loss: 2.3046e-04 - val_loss: 8.9651e-05\n",
            "Epoch 45/100\n",
            "45/45 [==============================] - 12s 267ms/step - loss: 2.3273e-04 - val_loss: 1.3573e-04\n",
            "Epoch 46/100\n",
            "45/45 [==============================] - 12s 268ms/step - loss: 2.8448e-04 - val_loss: 2.2126e-04\n",
            "Epoch 47/100\n",
            "45/45 [==============================] - 12s 264ms/step - loss: 2.7858e-04 - val_loss: 2.0749e-04\n",
            "Epoch 48/100\n",
            "45/45 [==============================] - 12s 262ms/step - loss: 2.5813e-04 - val_loss: 1.0575e-04\n",
            "Epoch 49/100\n",
            "45/45 [==============================] - 12s 256ms/step - loss: 2.8056e-04 - val_loss: 1.3477e-04\n",
            "Epoch 50/100\n",
            "45/45 [==============================] - 12s 260ms/step - loss: 2.2102e-04 - val_loss: 7.1255e-05\n",
            "Epoch 51/100\n",
            "45/45 [==============================] - 12s 263ms/step - loss: 2.0705e-04 - val_loss: 9.6686e-05\n",
            "Epoch 52/100\n",
            "45/45 [==============================] - 12s 258ms/step - loss: 2.0730e-04 - val_loss: 7.3690e-05\n",
            "Epoch 53/100\n",
            "45/45 [==============================] - 12s 263ms/step - loss: 2.1824e-04 - val_loss: 7.0809e-05\n",
            "Epoch 54/100\n",
            "45/45 [==============================] - 12s 265ms/step - loss: 2.3712e-04 - val_loss: 6.9745e-05\n",
            "Epoch 55/100\n",
            "45/45 [==============================] - 12s 268ms/step - loss: 2.1781e-04 - val_loss: 2.1109e-04\n",
            "Epoch 56/100\n",
            "45/45 [==============================] - 12s 269ms/step - loss: 2.0533e-04 - val_loss: 1.4000e-04\n",
            "Epoch 57/100\n",
            "45/45 [==============================] - 12s 256ms/step - loss: 1.9554e-04 - val_loss: 7.0907e-05\n",
            "Epoch 58/100\n",
            "45/45 [==============================] - 11s 252ms/step - loss: 1.9425e-04 - val_loss: 8.8927e-05\n",
            "Epoch 59/100\n",
            "45/45 [==============================] - 11s 254ms/step - loss: 1.9634e-04 - val_loss: 7.2618e-05\n",
            "Epoch 60/100\n",
            "45/45 [==============================] - 11s 256ms/step - loss: 2.0713e-04 - val_loss: 6.8261e-05\n",
            "Epoch 61/100\n",
            "45/45 [==============================] - 12s 257ms/step - loss: 2.1972e-04 - val_loss: 8.3387e-05\n",
            "Epoch 62/100\n",
            "45/45 [==============================] - 12s 262ms/step - loss: 1.8501e-04 - val_loss: 8.3009e-05\n",
            "Epoch 63/100\n",
            "45/45 [==============================] - 12s 258ms/step - loss: 1.9136e-04 - val_loss: 1.1154e-04\n",
            "Epoch 64/100\n",
            "45/45 [==============================] - 12s 256ms/step - loss: 1.8309e-04 - val_loss: 9.3144e-05\n",
            "Epoch 65/100\n",
            "45/45 [==============================] - 12s 257ms/step - loss: 1.9039e-04 - val_loss: 1.4791e-04\n",
            "Epoch 66/100\n",
            "45/45 [==============================] - 12s 258ms/step - loss: 1.9147e-04 - val_loss: 1.0795e-04\n",
            "Epoch 67/100\n",
            "45/45 [==============================] - 12s 259ms/step - loss: 1.7761e-04 - val_loss: 6.2636e-05\n",
            "Epoch 68/100\n",
            "45/45 [==============================] - 12s 257ms/step - loss: 2.3139e-04 - val_loss: 1.7264e-04\n",
            "Epoch 69/100\n",
            "45/45 [==============================] - 12s 262ms/step - loss: 2.0717e-04 - val_loss: 8.9394e-05\n",
            "Epoch 70/100\n",
            "45/45 [==============================] - 12s 257ms/step - loss: 1.8397e-04 - val_loss: 2.3902e-04\n",
            "Epoch 71/100\n",
            "45/45 [==============================] - 12s 258ms/step - loss: 1.8671e-04 - val_loss: 6.1366e-05\n",
            "Epoch 72/100\n",
            "45/45 [==============================] - 12s 275ms/step - loss: 1.8065e-04 - val_loss: 2.3350e-04\n",
            "Epoch 73/100\n",
            "45/45 [==============================] - 12s 266ms/step - loss: 2.7855e-04 - val_loss: 1.5344e-04\n",
            "Epoch 74/100\n",
            "45/45 [==============================] - 12s 262ms/step - loss: 1.9540e-04 - val_loss: 1.0668e-04\n",
            "Epoch 75/100\n",
            "45/45 [==============================] - 12s 265ms/step - loss: 1.8413e-04 - val_loss: 6.1173e-05\n",
            "Epoch 76/100\n",
            "45/45 [==============================] - 12s 271ms/step - loss: 1.8190e-04 - val_loss: 8.0688e-05\n",
            "Epoch 77/100\n",
            "45/45 [==============================] - 12s 266ms/step - loss: 1.8136e-04 - val_loss: 5.6364e-05\n",
            "Epoch 78/100\n",
            "45/45 [==============================] - 12s 270ms/step - loss: 1.8321e-04 - val_loss: 9.0403e-05\n",
            "Epoch 79/100\n",
            "45/45 [==============================] - 12s 270ms/step - loss: 2.2721e-04 - val_loss: 7.8566e-05\n",
            "Epoch 80/100\n",
            "45/45 [==============================] - 12s 262ms/step - loss: 1.7870e-04 - val_loss: 7.0329e-05\n",
            "Epoch 81/100\n",
            "45/45 [==============================] - 11s 253ms/step - loss: 1.7453e-04 - val_loss: 5.6973e-05\n",
            "Epoch 82/100\n",
            "45/45 [==============================] - 11s 252ms/step - loss: 2.0856e-04 - val_loss: 7.1126e-05\n",
            "Epoch 83/100\n",
            "45/45 [==============================] - 12s 260ms/step - loss: 1.7554e-04 - val_loss: 8.4863e-05\n",
            "Epoch 84/100\n",
            "45/45 [==============================] - 12s 257ms/step - loss: 1.7545e-04 - val_loss: 5.4440e-05\n",
            "Epoch 85/100\n",
            "45/45 [==============================] - 12s 258ms/step - loss: 1.6796e-04 - val_loss: 5.3726e-05\n",
            "Epoch 86/100\n",
            "45/45 [==============================] - 11s 251ms/step - loss: 1.6617e-04 - val_loss: 7.9652e-05\n",
            "Epoch 87/100\n",
            "45/45 [==============================] - 12s 258ms/step - loss: 1.7626e-04 - val_loss: 1.6391e-04\n",
            "Epoch 88/100\n",
            "45/45 [==============================] - 11s 253ms/step - loss: 1.7680e-04 - val_loss: 8.7582e-05\n",
            "Epoch 89/100\n",
            "45/45 [==============================] - 11s 253ms/step - loss: 1.7076e-04 - val_loss: 7.1803e-05\n",
            "Epoch 90/100\n",
            "45/45 [==============================] - 12s 256ms/step - loss: 1.8042e-04 - val_loss: 1.6109e-04\n",
            "Epoch 91/100\n",
            "45/45 [==============================] - 12s 257ms/step - loss: 1.7076e-04 - val_loss: 5.0973e-05\n",
            "Epoch 92/100\n",
            "45/45 [==============================] - 11s 252ms/step - loss: 1.5567e-04 - val_loss: 5.1099e-05\n",
            "Epoch 93/100\n",
            "45/45 [==============================] - 11s 247ms/step - loss: 1.6454e-04 - val_loss: 5.0913e-05\n",
            "Epoch 94/100\n",
            "45/45 [==============================] - 11s 250ms/step - loss: 1.7152e-04 - val_loss: 5.7009e-05\n",
            "Epoch 95/100\n",
            "45/45 [==============================] - 11s 251ms/step - loss: 1.5587e-04 - val_loss: 5.9687e-05\n",
            "Epoch 96/100\n",
            "45/45 [==============================] - 11s 254ms/step - loss: 1.6564e-04 - val_loss: 4.8780e-05\n",
            "Epoch 97/100\n",
            "45/45 [==============================] - 11s 252ms/step - loss: 1.7661e-04 - val_loss: 8.4491e-05\n",
            "Epoch 98/100\n",
            "45/45 [==============================] - 11s 254ms/step - loss: 1.6707e-04 - val_loss: 5.6132e-05\n",
            "Epoch 99/100\n",
            "45/45 [==============================] - 12s 260ms/step - loss: 1.7993e-04 - val_loss: 5.8397e-05\n",
            "Epoch 100/100\n",
            "45/45 [==============================] - 12s 261ms/step - loss: 1.5479e-04 - val_loss: 4.8931e-05\n"
          ]
        }
      ]
    },
    {
      "cell_type": "code",
      "source": [
        "#validation loss\n",
        "model.evaluate(Xtest, ytest)"
      ],
      "metadata": {
        "colab": {
          "base_uri": "https://localhost:8080/"
        },
        "id": "gRvSfGRh6J2t",
        "outputId": "5c09c729-ea31-44c2-a42b-d17f04ef14b2"
      },
      "execution_count": 45,
      "outputs": [
        {
          "output_type": "stream",
          "name": "stdout",
          "text": [
            "11/11 [==============================] - 0s 20ms/step - loss: 4.8931e-05\n"
          ]
        },
        {
          "output_type": "execute_result",
          "data": {
            "text/plain": [
              "4.8931320634437725e-05"
            ]
          },
          "metadata": {},
          "execution_count": 45
        }
      ]
    },
    {
      "cell_type": "code",
      "source": [
        "#making predictions for xtrain and xtest\n",
        "\n",
        "trainPred= model.predict(Xtrain)\n",
        "testPred= model.predict(Xtest)\n"
      ],
      "metadata": {
        "id": "yFzBxF6kylBs"
      },
      "execution_count": 46,
      "outputs": []
    },
    {
      "cell_type": "code",
      "source": [
        "#import  mean squared error library\n",
        "from sklearn.metrics import mean_squared_error"
      ],
      "metadata": {
        "id": "vRC-r7P2YsXV"
      },
      "execution_count": 47,
      "outputs": []
    },
    {
      "cell_type": "code",
      "source": [
        "#calculate mean squared error\n",
        "trainScore = mean_squared_error([X[0][0] for X in Xtrain], trainPred, squared=False)\n",
        "print(\"Train Score: %.2f RMSE\"% (trainScore))\n",
        "\n",
        "testScore = mean_squared_error([X[0][0] for X in Xtest], testPred, squared=False)\n",
        "print(\"Test Score: %.2f RMSE\"% (testScore))"
      ],
      "metadata": {
        "colab": {
          "base_uri": "https://localhost:8080/"
        },
        "id": "xc_G81hNNQ2E",
        "outputId": "9069a05e-3f7f-4a3e-9035-a029de266dbc"
      },
      "execution_count": 48,
      "outputs": [
        {
          "output_type": "stream",
          "name": "stdout",
          "text": [
            "Train Score: 0.10 RMSE\n",
            "Test Score: 0.27 RMSE\n"
          ]
        }
      ]
    },
    {
      "cell_type": "code",
      "source": [
        "#checking the model accuracy\n",
        "from sklearn.metrics import r2_score\n",
        "r2_score(ytest,testPred)"
      ],
      "metadata": {
        "colab": {
          "base_uri": "https://localhost:8080/"
        },
        "id": "NW9Y2uBbVcF7",
        "outputId": "6babd75b-e353-4966-e213-84e3fc822c6d"
      },
      "execution_count": 49,
      "outputs": [
        {
          "output_type": "execute_result",
          "data": {
            "text/plain": [
              "0.9743869376542978"
            ]
          },
          "metadata": {},
          "execution_count": 49
        }
      ]
    },
    {
      "cell_type": "code",
      "source": [
        "#we need to transpose in order to get the original values\n",
        "#getting the 2 features one being a zero\n",
        "trainPredict = np.c_[trainPred, np.zeros(trainPred.shape)]\n",
        "testPredict = np.c_[testPred, np.zeros(testPred.shape)]"
      ],
      "metadata": {
        "id": "WVv2iyUw2tSe"
      },
      "execution_count": 50,
      "outputs": []
    },
    {
      "cell_type": "code",
      "source": [
        "#making inverse prediction\n",
        "trainPredict = scaler.inverse_transform(trainPredict)\n",
        "trainPredict = [X[0]for X in trainPredict]\n",
        "\n",
        "testPredict = scaler.inverse_transform(testPredict)\n",
        "testPredict = [X[0]for X in testPredict]\n"
      ],
      "metadata": {
        "id": "s-ZJ_8Ox3eOF"
      },
      "execution_count": 51,
      "outputs": []
    },
    {
      "cell_type": "code",
      "source": [
        "#comparing actual and predicted values\n",
        "print(trainPredict)\n",
        "print(testPredict)"
      ],
      "metadata": {
        "colab": {
          "base_uri": "https://localhost:8080/"
        },
        "id": "g6Qybw8T4bx8",
        "outputId": "95b6cba3-8592-4c4a-eda4-94953250213a"
      },
      "execution_count": 52,
      "outputs": [
        {
          "output_type": "stream",
          "name": "stdout",
          "text": [
            "[159.3694579267502, 158.48066990464926, 157.80548514068127, 158.81655484080315, 159.404564678818, 159.3775251621008, 159.6952469201386, 160.68401273727417, 161.92846113085747, 162.7902869769931, 163.57531940579415, 163.97352908939123, 163.10431422680617, 162.57128176480532, 161.9035990537703, 160.16207569852472, 160.83611224979163, 160.76958135530353, 160.16587134465576, 159.15611048802734, 159.49946773067117, 158.99242176130414, 158.8209989593923, 157.31359795868397, 155.1737013144046, 153.29982116088271, 151.6360103880614, 152.1900319402665, 153.0338582137227, 153.03494098424912, 153.54873047225178, 153.62838847205043, 154.0412572027743, 153.70288248933852, 154.56544009797275, 154.90757178716362, 155.39915555544198, 155.66984223775566, 156.15282630935312, 156.08890120327473, 156.59172020308674, 158.35154059544206, 159.52666787818075, 159.77588952720166, 157.89352271348238, 157.09420604273677, 156.55539682149887, 156.77627011030913, 156.52410653807223, 156.97062741979957, 160.1860691794753, 163.72295695185662, 166.80077976748348, 167.20978740990162, 168.06597927972675, 170.72289587572217, 172.90530911102894, 174.3083179445565, 175.7554169559479, 176.2215853632987, 175.7655247972906, 175.1076108181477, 173.30549990773204, 171.17347714692355, 171.15666445732117, 170.59640805065632, 170.29198295265437, 171.84927468761805, 173.59580139458183, 174.52092172220352, 174.5314698109031, 173.96450260668996, 171.71041829153899, 171.83694776162508, 171.38639028757814, 170.54743945613504, 170.06371469810605, 169.4821479396522, 169.3758460508287, 169.35493430137635, 171.13499714821577, 171.49529201552275, 172.04824269577864, 172.2715313957632, 173.31259145975116, 175.12054457157853, 175.00906085237864, 174.88550602659586, 175.1233823822439, 175.20685090139511, 172.86045742422345, 171.72866475969556, 171.34590537860993, 170.1714027711749, 171.26000954970718, 171.7653361746669, 172.51911104112867, 173.9619384633005, 174.32708200082186, 174.5197318644822, 174.56138878330592, 175.08866828322414, 176.30149025857452, 176.4158355855942, 178.06540673613551, 178.92708385005596, 178.9483466075361, 178.15427126005295, 177.74414515137676, 175.97469583541158, 173.4316248261929, 172.359301250577, 169.88965636134148, 168.1970242598653, 167.59591408833862, 167.51183279246092, 163.64675846338272, 159.69768017917872, 161.14796800926328, 159.9287981429696, 157.2021320873499, 156.5580204577744, 159.5304873214662, 161.89215262249112, 164.83747288227082, 169.34794388726354, 171.2868943849206, 171.99164711326364, 171.84643092766407, 172.45456125974658, 174.2864721567929, 177.03964229315523, 178.10866401359442, 178.52774975091222, 177.00007952392104, 176.84822988152507, 177.00087672859433, 176.99196469426158, 176.1148670242727, 176.71087270617488, 178.6045610161126, 180.5001055040956, 180.53428416714075, 179.73730556681755, 179.3915150651336, 178.8140176200867, 177.0491076113284, 176.14121047422293, 173.52123301118615, 170.960760332793, 167.57860165849328, 170.1088876464963, 168.9404533134401, 167.586954459697, 167.5988470876217, 166.99151396021247, 167.65440154463053, 169.70495474725962, 171.392351474762, 169.92165758475662, 170.12451642766595, 171.8310460673273, 172.23461605995897, 173.4085356371105, 174.2808322311938, 175.30734033524993, 177.10538193225864, 177.76410501465205, 175.3918499799073, 170.40697675213218, 167.60372550427914, 164.86080004289747, 163.92297203481198, 163.79469942316413, 162.80697473153472, 163.9753733688593, 166.60055051013828, 171.97080080598596, 174.85529553905133, 180.1454089173675, 183.40726702675227, 185.51809842154387, 187.18348873049024, 189.35459236815575, 189.54846183598045, 189.36508691325787, 188.25139793396, 188.58419518932703, 188.03776492938402, 187.41303013280037, 187.79754455402497, 187.71150594219569, 188.3379898296297, 188.51839010804895, 188.84736197084192, 188.62046205267313, 188.27891339376572, 187.7405206227303, 189.28713933393362, 190.89812934786084, 192.55068109199408, 193.74567899867895, 194.04135864242915, 193.1922345274687, 192.46296478077772, 192.61233951911333, 191.801796540767, 191.47506161049012, 190.23036334678534, 189.57138444498185, 187.5728994162381, 187.0440314562619, 186.19531784221533, 185.52796234205368, 183.7311165520549, 184.09246444344524, 184.10664754748348, 184.90685661152008, 185.1150817127526, 186.37621191158894, 185.22642859831456, 185.49243913978341, 186.95522642523053, 189.10983268558982, 190.0907275938988, 189.26343141883615, 190.53716221094135, 191.24958357229832, 191.3956088611484, 191.75137037053707, 191.32623420670632, 191.91109687104824, 191.9283379094303, 192.04208830758932, 192.84138713046912, 194.2201347650588, 194.57784764111045, 193.00449282690886, 191.61199638634923, 191.05727281808856, 196.88171560332182, 203.02372546508911, 206.57515924811366, 208.96241838872436, 208.93813339263204, 208.8616136425734, 209.56640206664804, 209.0845929795504, 209.5568832048774, 210.22643994182351, 210.821654368341, 212.80957346051935, 216.13736753553155, 216.6129893624783, 216.60244722306732, 216.48988668262962, 216.59336860865358, 216.9653657266498, 218.1130310931802, 219.64792375653985, 222.2347458341718, 224.65018080562356, 227.2858941370249, 228.9475423434377, 228.86330041676763, 226.60536691188815, 224.36130714803937, 221.4938095325232, 223.1223558971286, 222.3978039363027, 225.12780159354213, 225.05176968514922, 221.73494609832767, 220.2201858276129, 219.45214456707242, 220.02230058997873, 219.04097733289007, 220.3520934545994, 221.78649073481563, 221.56289267182353, 223.98679943025115, 225.59761691480878, 227.27117559701207, 229.2020410114527, 231.68796315431598, 230.5898553618789, 227.91347269356254, 226.17200883120302, 226.97080791383985, 221.52673289567235, 217.82401465266946, 220.1729841718078, 218.7720932850242, 220.92031000941995, 221.46589547038081, 218.93082030504945, 219.47810726255182, 220.4322303721309, 222.1201982313395, 218.74240633487705, 219.6923768410087, 218.12908227384094, 215.16676489651206, 214.27057595938447, 216.90415944546464, 220.16747513055805, 213.732153441906, 207.32565010726455, 205.1555043050647, 207.45489245295528, 207.95589394509796, 206.19831940919164, 199.7314664909244, 195.45076891049746, 190.29192063599828, 190.31878167405728, 191.55463334560397, 188.22326969742778, 181.94548517107967, 178.71549740076068, 174.64085343122485, 173.9928331190348, 173.5327270367742, 177.08488663300875, 178.19338188335303, 178.40949574127796, 181.9012760074437, 179.19903178155425, 176.9135471211374, 172.30550778299573, 170.60556400582195, 169.1763307081163, 168.81639874741435, 169.70446690559388, 167.29795586705208, 165.40192353740335, 165.54809755846858, 162.8454725781083, 159.46219543755055, 154.54097959786654, 150.06009737975896, 153.2810838764161, 154.26321326211095, 155.10185175590217, 156.39395097658038, 157.14308539792896, 149.23078142121435, 148.64955972149968, 147.80685786359012, 149.00652596183122, 151.00727172024548, 152.35634430326522, 152.3126319052279, 151.11050080150366, 152.11451464533806, 153.5099708569795, 154.72840598613024, 155.8802269307524, 154.58927294813097, 154.30961176395417, 153.42864110708237, 155.68042007289827, 155.95861178278923, 155.35441987976432, 160.67469615131617, 163.8211737574637, 165.59974928215146, 169.0152358712256, 172.18247054532173, 173.7719122359157, 172.7587721833587, 171.90534078344706, 170.8209698984027, 171.00859261319042, 170.678145326823, 170.87726801648736, 170.76261927574873, 170.9905900658667, 171.68011856466535, 171.4959642851353, 172.44394772887233, 173.5506462940574, 174.16294707745317, 174.76198094725612, 174.10902272552255, 174.75305106505755, 175.4838021846116, 175.6837637239695, 175.24720492601398, 173.93038343653086, 173.47473337143663, 176.42759732916954, 178.9634815977514, 180.7577453964949, 182.76131111770871, 185.00857754811648, 187.11626176923517, 187.31836505249146, 188.26865682020787, 192.4176252523065, 192.2226016224921, 190.931945104301, 189.11513945102695, 189.03211117923263, 189.06526061534885, 189.7792644874752, 190.84969024002555, 192.9134687112272, 194.66571863383058, 195.73070673659447, 196.94736600309614, 199.19191955789927, 199.93182663261894, 200.90038271635774, 200.394496858269, 200.05738041937354, 200.01744284495715, 199.97659502938393, 202.07662251606587, 203.50973474994305, 204.62854606673125, 206.78606152921918, 207.63666701704267, 207.00267512738708, 206.0814218373597, 205.7131965683401, 203.31982155904177, 207.55338887512687, 208.85656864583495, 211.07927046358589, 210.33608533084396, 206.83922437220815, 205.0239417368174, 202.81925436496738, 199.80667739748958, 192.1002664008737, 189.91522952929142, 189.98287294074896, 189.72630392029885, 189.18712584316734, 185.80161771938208, 186.07419032618407, 184.08847247079018, 181.5326164403558, 179.90707446649674, 178.71204681336883, 177.72230531290177, 177.7941489221156, 176.14534522980455, 174.4630470426381, 177.04227187871936, 179.8771376462281, 182.87526379168037, 187.10576127484444, 190.53691234081987, 193.47004845753315, 194.53412036985162, 194.971089668721, 194.30828537434343, 194.528004501164, 197.05493509039286, 197.97475460186604, 199.35061088219288, 199.61522334083918, 199.60712040975693, 197.89379668250683, 199.31522451356057, 199.91221182808283, 199.25968790441755, 200.91651718705896, 202.33453607574108, 203.9887655192614, 204.69703427717093, 202.71072744220498, 202.34138965621594, 203.1484463514388, 202.73577989652756, 203.41418322563175, 204.77846813961867, 205.07611104860905, 204.60192894950512, 205.60137968897823, 204.36440360188487, 206.3113915884495, 208.1169292891026, 208.96885551899675, 208.4804189243913, 208.58863648414615, 209.64725289881233, 209.6568907463551, 212.0238390156627, 210.61895020693544, 207.51412357032302, 200.03088228791955, 198.26349737510088, 198.40189567595723, 201.0324331262708, 201.15131776049736, 201.06151919826868, 205.66669692859057, 204.5076267758012, 203.46872035428885, 205.44783449932936, 208.49974221378568, 210.07557788133624, 212.14977355688814, 213.02806703388694, 208.0017748588324, 207.56224141657356, 205.89356710031632, 205.88349495470527, 207.81619275003675, 208.68902478009466, 207.51561089247468, 208.8455029690266, 211.7032675483823, 213.1412106046081, 214.38696784168485, 216.35739602535966, 221.11975396066907, 223.18075411409143, 221.78058904051784, 221.60384757459167, 221.8062423729897, 223.0158636310697, 222.5929287040234, 220.58091499298814, 220.07948515206579, 219.19866917669776, 220.64367998778823, 220.73826177805665, 220.23622510969642, 222.83477918446067, 224.45099862307313, 222.14978999286893, 221.99979652851823, 225.2751654723287, 226.9489026331902, 226.35123709976676, 227.47728275150064, 229.66833435386422, 234.19090026259425, 236.25085334122184, 236.94599201917651, 236.63119136184457, 236.86053643763069, 237.51888471484187, 240.12366174548868, 241.092134539187, 243.38549010843042, 244.68318463504318, 246.97730171322826, 249.44319855064157, 247.3221819737554, 246.14097451806072, 248.53738366454843, 253.74301119536165, 257.3527658545971, 258.92014163374904, 259.6164344736934, 261.0419316181541, 262.02244577199224, 263.6009824165702, 264.16067959010604, 265.80380171179775, 265.4796130770445, 267.0377198645473, 268.50609948128465, 268.7203452625871, 266.95251415312293, 265.28522602111104, 264.2451594883204, 266.3656882235408, 266.26533562332395, 268.29269849896434, 268.93359156340364, 267.4337164127827, 263.8843827286363, 263.3544438967109, 265.30700041741136, 269.3474478760362, 269.25123598068956, 270.07442714661363, 271.7075782606006, 272.8711639234424, 275.5483913907409, 279.5810214841366, 281.870581407249, 282.5141635501385, 282.83129632860425, 282.50013512760404, 284.89895968526605, 286.2072915399075, 290.1309187674523, 291.95957540363077, 293.77364438414577, 295.77546101450923, 300.6000009143353, 301.16322006672624, 302.6615959966183, 302.366190020144, 304.90582234054807, 309.91601574063304, 312.77360184133056, 318.010760601759, 317.843847360611, 316.6488256567717, 318.11442100644115, 320.81870583832267, 320.7855088078976, 321.2887710297108, 322.3115013355017, 322.1544163191319, 316.31342856228355, 318.48865505695346, 323.6511145496369, 326.0515811109543, 318.46866544723514, 313.87764702379707, 317.6421188825369, 321.31658990323547, 325.55364945173267, 324.48713238179687, 324.65402182579044, 323.4083597773314, 327.2901754045487, 327.8427929246426, 328.0882605725527, 324.4887743854523, 325.3596312516928, 323.8155528867245, 318.6823638939858, 307.18507809579376, 295.4844218158722, 292.59053315609697, 280.43535122662786, 274.69460898280147, 287.1746696645022, 288.54481462776664, 297.4499715828896, 296.12356578946117, 293.0008079969883, 277.85197973638776, 281.38141899943355, 277.6406134107709, 260.43979221969846, 269.1228503325582, 253.27725328892473, 251.83985756725076, 247.74881735831502, 245.05200483292344, 235.22717114925388, 227.84415158271793, 236.99390758961442, 241.21135828286413, 251.16329256832603, 250.16296728342775, 253.67825913816694, 254.93007275104526, 247.87088486194614, 246.53024837017063, 243.7851276212931, 254.56362037003043, 258.40849091500047, 264.3501406350732, 268.30722666174177, 273.1767193862796, 283.46234926968816, 286.9176009038091, 289.713564273119, 288.4381914773584, 284.0276030787826, 276.56991994023326, 277.2097540313006, 276.9717705884576, 281.6514334121347, 284.19976359248164, 282.7773481795192, 287.2672167980671, 292.9823533037305, 292.9964174219966, 295.2087793761492, 298.70022648215297, 302.1364760884643, 305.55791196614507, 310.90133691966537, 316.31478500008586, 316.6252902710438, 314.1712325179577, 313.7435262614489, 312.26969709634784, 315.804121863246, 316.4832450562716, 320.4107274228335, 320.834959294796, 322.0875463151932, 321.2210919225216, 321.4451897257567, 321.52888431787494, 321.3077373617888, 323.48874656498435, 325.45127409338954, 327.4423582071066, 326.6210946106911, 331.6107867622376, 335.2477772647143, 343.38059757292274, 352.7495372706652, 346.6973259711266, 344.793910574317, 346.09963664054874, 352.3163814657927, 355.13513061046604, 356.4014723861218, 355.4693616443873, 360.3814750725031, 367.5070570224524]\n",
            "[118.80649577934297, 119.5208967664838, 119.3709895668179, 118.62108099428939, 118.563540218547, 117.80228337800132, 115.64730231245981, 115.30767229912804, 115.47263714825736, 115.86298930892723, 117.36863378217446, 120.01043695412578, 121.50636475175621, 122.25895124781879, 122.2722672430426, 123.03855792541059, 123.66963763829322, 122.62677196521314, 122.92201582357289, 122.53596351124348, 122.0525615021214, 124.99141191054137, 126.28996759667994, 127.54715490449222, 127.09459549482914, 127.72446155283602, 129.84389710627497, 130.36186448220164, 131.23444664213807, 134.09704948045314, 134.48821223169566, 134.18966503083706, 133.45851233430207, 131.33057524744422, 131.11059881389141, 128.58795766174794, 129.69759666282684, 130.69093302093447, 129.67268847875297, 129.1757726605609, 129.96046449258924, 129.26676554247737, 128.07760834988207, 127.83744746740909, 129.8570524707064, 133.3496492767334, 136.27891240656376, 139.8501245995611, 141.73247951470316, 142.12063192591071, 139.66043450698257, 135.72874301873148, 134.8323012368381, 134.65733265891672, 134.06631545551122, 135.66171833328903, 136.08926693364978, 136.48263687096537, 136.20169658973813, 135.74088254213333, 135.35038611121476, 135.25957616992295, 134.05925067529083, 132.27343486636877, 130.78936995022, 130.10516606472433, 127.7328217906505, 126.5715965080634, 125.67256083633752, 122.9844848412648, 121.88630863200875, 124.66663875818254, 124.57141890671106, 123.16395554333927, 121.49009493473919, 121.28603136088701, 118.47869518274443, 119.67544589858504, 119.50685793269427, 120.60141251251103, 120.63584253299983, 122.27265245947989, 123.84175948161634, 124.23500150922688, 122.27705642037095, 121.07015547450634, 122.12893103264274, 122.1164955321327, 120.94137122403832, 120.66687402237208, 120.78859051797541, 120.94117935948076, 120.26333972547205, 121.14056679248812, 121.94473510809244, 123.89431847181173, 124.99965316258373, 126.49174515638502, 128.48943000581116, 130.83713232647628, 131.07416983243078, 132.9262651783973, 132.465632584095, 133.5995699671656, 133.86799889445305, 134.38828798025847, 133.7098995243758, 133.6014558916539, 132.67333117328585, 133.47749056495726, 134.0138338060677, 134.15331487745047, 133.81867929190398, 133.59946882925928, 132.40609805300832, 132.3971146272123, 129.8784832955897, 128.85466129533947, 129.103722313568, 129.45755625344813, 127.93508570469918, 126.77899614550175, 124.52033980205657, 124.57568008467557, 125.7978201333061, 125.81641760949047, 125.19519884247335, 124.82091422300788, 125.96975903600456, 125.50761680971833, 126.24698249917479, 126.4472177058086, 126.55721856482329, 125.79111231040211, 125.08295212700965, 124.53068561494352, 124.65001793313773, 123.9018577077985, 124.81172257211061, 125.20472960282119, 125.89820842925461, 126.44280928295107, 126.19143994074317, 126.73470815379174, 128.58646587762982, 129.0329882466793, 129.6040738459304, 130.71419176474214, 130.53447565451265, 131.4499730078131, 132.71240312620998, 133.19053555294872, 133.3095421475917, 133.1971571111679, 133.99461760386825, 135.1554814671725, 136.06685298882425, 136.70255232430995, 138.43047263115645, 140.32385752737522, 142.61835536003113, 143.04828070119024, 144.28782390631736, 144.4916852043569, 145.19541465505958, 147.341352801919, 148.00749464720488, 147.29280958153308, 144.84918688066304, 145.55509674564004, 145.35863636262715, 146.07770902864635, 147.35132083497942, 148.22378698378802, 147.51378400824964, 146.23728382229805, 145.90387676484883, 145.78871341064573, 145.5588269495964, 146.43401192329824, 146.63454161971808, 146.8391852492094, 146.44823964700103, 146.23188484288752, 145.83994273483754, 145.7809019947052, 147.33890169501305, 148.19992438718677, 149.76037816904486, 150.02723945878446, 148.1695086491853, 147.4276769796014, 147.73879800193012, 148.67326168730855, 149.11590363286436, 148.71586156837643, 148.09856040790677, 148.32605228029192, 150.79286828279496, 151.30989120915532, 152.03284281134606, 152.95866812966764, 153.73745083078742, 155.38480884596706, 155.3325592187792, 154.79206932350993, 151.77968570791185, 150.5932042078674, 149.1300897115469, 148.9143774306029, 148.67614709228278, 147.17124479278922, 144.83557788297534, 143.9314555694908, 144.70045466549695, 145.60578765921295, 146.17818061463535, 145.69223082266748, 143.6547511817515, 143.12886976465583, 142.07884709738195, 142.20089972779155, 140.40140650436282, 140.6317808070779, 141.14029327608645, 142.11687495015562, 142.42509569428861, 142.57514270223677, 141.95971556767822, 141.34367565639317, 142.5103371014446, 143.60865311898291, 145.109010161981, 147.03400362856686, 148.25882234439254, 149.0056067967415, 148.93914134442807, 148.85727913320065, 149.12862023726106, 148.98300842396915, 150.88616205208004, 150.31273689508438, 149.67961360156536, 149.87266206756235, 150.69723346844316, 150.8246910275519, 151.092361420542, 150.76332411557436, 150.79857662521303, 149.2585794722289, 148.49638636238873, 149.17892147243023, 149.50174772009254, 150.24849647670985, 151.94267241857946, 155.10505247317255, 158.10467486470938, 159.88963992536068, 160.99466079115868, 161.77208407983184, 159.36306244149804, 159.98904063940049, 162.83305046349764, 163.96727638706565, 164.0934905448556, 163.11665305137635, 164.44565868392587, 168.1467170754075, 172.08610991775993, 173.83216068163517, 177.36588938176635, 177.0064750091732, 176.07708309233192, 178.1548483410478, 175.27199561163786, 173.32145589977506, 171.4763613791764, 172.272078730315, 174.0719884039462, 175.38607916995886, 178.28777924567464, 179.15096152961257, 179.66261224836114, 179.2105258071423, 178.5933763535321, 180.62385665640238, 180.330342553705, 177.6792562605441, 174.76844187468294, 173.3338542172313, 172.58973504617813, 173.8149910347164, 174.70587320640686, 173.44205987840894, 173.33079033359888, 171.45724036559466, 168.64430962517858, 166.3064057828486, 163.9962375240028, 162.4544079901278, 160.73923998340965, 159.9038884715736, 159.2711459325254, 164.94210302099586, 170.12136925399304, 172.81305944189432, 174.88651145637039, 174.2491998636723, 173.59589063391093, 172.7499910333753, 173.9753838555515, 175.3196672612429, 173.8007424885035, 171.23019171521068, 170.0198862889409, 171.44253967344764, 172.01968611046675, 170.44042365267873, 168.84791807845235, 166.4082100094855, 162.92304535225034, 162.6109397226572, 163.52358439207077, 164.20997761577368, 163.62413331881166, 165.1776413062215, 165.72339334726334, 164.42056458458305, 161.72668505847454, 159.36340750023723, 161.06204838320613, 159.49727244317532, 156.88873546212912, 153.41475844211877, 154.0386811608076, 156.65116252020002, 158.59856695696712, 161.49295535698533, 163.6929308922589, 166.6560990178585, 168.83305675551296]\n"
          ]
        }
      ]
    }
  ]
}